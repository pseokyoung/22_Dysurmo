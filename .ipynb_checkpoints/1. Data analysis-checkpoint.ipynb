{
 "cells": [
  {
   "cell_type": "code",
   "execution_count": 1,
   "id": "be927173",
   "metadata": {
    "ExecuteTime": {
     "end_time": "2022-09-10T11:54:47.691862Z",
     "start_time": "2022-09-10T11:54:38.750672Z"
    }
   },
   "outputs": [],
   "source": [
    "import pandas as pd\n",
    "import numpy as np\n",
    "import matplotlib.pyplot as plt"
   ]
  },
  {
   "cell_type": "code",
   "execution_count": 2,
   "id": "29167d4b",
   "metadata": {
    "ExecuteTime": {
     "end_time": "2022-09-10T11:55:19.281184Z",
     "start_time": "2022-09-10T11:54:47.693857Z"
    }
   },
   "outputs": [],
   "source": [
    "import tensorflow as tf\n",
    "from tensorflow import keras\n",
    "from tensorflow.keras.layers import *\n",
    "from keras.models import Model\n",
    "\n",
    "from tensorflow.python.client import device_lib\n",
    "device_lib.list_local_devices()"
   ]
  },
  {
   "cell_type": "code",
   "execution_count": 3,
   "id": "c483d209",
   "metadata": {
    "ExecuteTime": {
     "end_time": "2022-09-10T11:55:19.296140Z",
     "start_time": "2022-09-10T11:55:19.282150Z"
    }
   },
   "outputs": [],
   "source": [
    "random_state = 42"
   ]
  },
  {
   "cell_type": "markdown",
   "id": "e5d298ac",
   "metadata": {},
   "source": [
    "# data load"
   ]
  },
  {
   "cell_type": "code",
   "execution_count": 40,
   "id": "47c68443",
   "metadata": {
    "ExecuteTime": {
     "end_time": "2022-09-10T12:43:04.452623Z",
     "start_time": "2022-09-10T12:43:03.379758Z"
    }
   },
   "outputs": [],
   "source": [
    "data_1 = pd.read_csv('./data/raw_data.csv')\n",
    "data_2 = pd.read_csv('./data/raw_data2.csv')\n",
    "\n",
    "data_1 = data_1.dropna(axis=1, how='all') #결측치 열 삭제\n",
    "data_2 = data_2.dropna(axis=1, how='all') #결측치 열 삭제"
   ]
  },
  {
   "cell_type": "code",
   "execution_count": 43,
   "id": "cbdf459f",
   "metadata": {
    "ExecuteTime": {
     "end_time": "2022-09-10T12:43:11.922502Z",
     "start_time": "2022-09-10T12:43:11.896570Z"
    }
   },
   "outputs": [
    {
     "name": "stdout",
     "output_type": "stream",
     "text": [
      "<class 'pandas.core.frame.DataFrame'>\n",
      "RangeIndex: 70000 entries, 0 to 69999\n",
      "Data columns (total 23 columns):\n",
      " #   Column          Non-Null Count  Dtype  \n",
      "---  ------          --------------  -----  \n",
      " 0   Unnamed: 0      70000 non-null  int64  \n",
      " 1   PC1_SP          70000 non-null  float64\n",
      " 2   PC2_SP          70000 non-null  float64\n",
      " 3   FC_SP           70000 non-null  int64  \n",
      " 4   TC_SP           70000 non-null  float64\n",
      " 5   TC2_SP          70000 non-null  float64\n",
      " 6   RR1_SP          70000 non-null  float64\n",
      " 7   RR2_SP          70000 non-null  float64\n",
      " 8   TCF             70000 non-null  float64\n",
      " 9   PC1             70000 non-null  float64\n",
      " 10  PC2             70000 non-null  float64\n",
      " 11  TC1             70000 non-null  float64\n",
      " 12  TC2             70000 non-null  float64\n",
      " 13  Column1 D       70000 non-null  float64\n",
      " 14  Column2 D       70000 non-null  float64\n",
      " 15  Column1 reflux  70000 non-null  float64\n",
      " 16  Column2 reflux  70000 non-null  float64\n",
      " 17  Column1 B       70000 non-null  float64\n",
      " 18  Column2 B       70000 non-null  float64\n",
      " 19  Column1 Qcond   70000 non-null  float64\n",
      " 20  Column2 Qcond   70000 non-null  float64\n",
      " 21  Column1 Qreb    70000 non-null  float64\n",
      " 22  Column2 Qreb    70000 non-null  float64\n",
      "dtypes: float64(21), int64(2)\n",
      "memory usage: 12.3 MB\n"
     ]
    }
   ],
   "source": [
    "data_1.info()"
   ]
  },
  {
   "cell_type": "markdown",
   "id": "9d45daa9",
   "metadata": {},
   "source": [
    "## train/test split"
   ]
  },
  {
   "cell_type": "code",
   "execution_count": 72,
   "id": "c265f40d",
   "metadata": {
    "ExecuteTime": {
     "end_time": "2022-09-10T12:56:11.638525Z",
     "start_time": "2022-09-10T12:56:11.600628Z"
    }
   },
   "outputs": [
    {
     "name": "stdout",
     "output_type": "stream",
     "text": [
      "data_train: (126000, 23)\n",
      "data_test: (14000, 23)\n"
     ]
    }
   ],
   "source": [
    "test_ratio = 0.1\n",
    "\n",
    "data_size = len(data_1) + len(data_2)\n",
    "test_size = int(data_size*test_ratio)\n",
    "data_train = pd.concat([data_1, data_2[:-test_size]], axis=0)\n",
    "data_test = data_2[-test_size:]\n",
    "\n",
    "print(\"data_train:\", data_train.shape)\n",
    "print(\"data_test:\", data_test.shape)"
   ]
  },
  {
   "cell_type": "markdown",
   "id": "4742d9e1",
   "metadata": {},
   "source": [
    "## variables"
   ]
  },
  {
   "cell_type": "code",
   "execution_count": 73,
   "id": "7657a2d3",
   "metadata": {
    "ExecuteTime": {
     "end_time": "2022-09-10T12:56:12.180306Z",
     "start_time": "2022-09-10T12:56:12.164350Z"
    }
   },
   "outputs": [],
   "source": [
    "set_points = ['PC1_SP', 'PC2_SP', 'FC_SP', 'TC_SP', 'TC2_SP', \n",
    "              'RR1_SP', 'RR2_SP', 'TCF']\n",
    "process_vars = ['PC1', 'PC2', 'TC1', 'TC2', 'Column1 D', 'Column2 D',\n",
    "                'Column1 reflux', 'Column2 reflux', 'Column1 B', 'Column2 B',\n",
    "                'Column1 Qcond', 'Column2 Qcond', 'Column1 Qreb', 'Column2 Qreb']"
   ]
  },
  {
   "cell_type": "markdown",
   "id": "09392158",
   "metadata": {},
   "source": [
    "## data scaling"
   ]
  },
  {
   "cell_type": "code",
   "execution_count": 79,
   "id": "18c98cb5",
   "metadata": {
    "ExecuteTime": {
     "end_time": "2022-09-10T12:57:07.957679Z",
     "start_time": "2022-09-10T12:57:07.846976Z"
    }
   },
   "outputs": [],
   "source": [
    "# select data considered\n",
    "all_vars = set_points + process_vars\n",
    "\n",
    "df_train = data_train[all_vars]\n",
    "df_test = data_test[all_vars]\n",
    "\n",
    "# Obtain mean and std\n",
    "mean = df_train.mean(axis=0)\n",
    "std = df_train.std(axis=0)\n",
    "\n",
    "# scaled dataset\n",
    "df_train_sc = (df_train-mean)/std\n",
    "df_test_sc = (df_test-mean)/std"
   ]
  },
  {
   "cell_type": "markdown",
   "id": "d7c472c4",
   "metadata": {},
   "source": [
    "## data to sequence\n",
    "\n",
    "**encoder_input**: history of `set points` and `process variables`\n",
    "\n",
    "**decoder_input**: future `set points`\n",
    "\n",
    "**decoder_output**: prediction of future `process variables`"
   ]
  },
  {
   "cell_type": "code",
   "execution_count": 82,
   "id": "8c36017e",
   "metadata": {
    "ExecuteTime": {
     "end_time": "2022-09-10T12:57:57.276154Z",
     "start_time": "2022-09-10T12:57:57.260170Z"
    }
   },
   "outputs": [],
   "source": [
    "def data2sequence(dataframe, \n",
    "                  set_points, process_vars,\n",
    "                  history_size, prediction_size, \n",
    "                  step=1, start_idx=0, end_idx=None,\n",
    "                  stride=1):\n",
    "    \n",
    "    history_inputs = set_points + process_vars\n",
    "    target_outputs = process_vars\n",
    "        \n",
    "    history_data = dataframe[history_inputs].values\n",
    "    target_data = dataframe[target_outputs].values\n",
    "    sp_data = dataframe[set_points].values\n",
    "    \n",
    "    history_sequence = []\n",
    "    target_sequence = []\n",
    "    sp_sequence = []\n",
    "    \n",
    "    if end_idx is None:\n",
    "        end_idx = len(dataframe) - history_size - prediction_size\n",
    "    else:\n",
    "        end_idx = end_idx - history_size - prediction_size\n",
    "    assert end_idx >= 0, 'time-series dataset is not long enough'\n",
    "    \n",
    "    i=start_idx\n",
    "    while i <= end_idx:\n",
    "        history_sequence.append(history_data[range(i, i+history_size, step)])\n",
    "        if prediction_size == 1:\n",
    "            target_sequence.append(target_data[i+history_size])\n",
    "            sp_sequence.append(sp_data[i+history_size])\n",
    "        else:\n",
    "            target_sequence.append(target_data[i+history_size : i+history_size+prediction_size : step])\n",
    "            sp_sequence.append(sp_data[i+history_size : i+history_size+prediction_size : step])\n",
    "        i+=stride\n",
    "    \n",
    "    encoder_input = np.array(history_sequence)\n",
    "    decoder_input = np.array(sp_sequence)\n",
    "    decoder_output = np.array(target_sequence)\n",
    "    \n",
    "    return encoder_input, decoder_input, decoder_output"
   ]
  },
  {
   "cell_type": "markdown",
   "id": "dacd9eab",
   "metadata": {},
   "source": [
    "# single-step ahead prediction"
   ]
  },
  {
   "cell_type": "code",
   "execution_count": 83,
   "id": "6e0ac01a",
   "metadata": {
    "ExecuteTime": {
     "end_time": "2022-09-10T12:58:15.835910Z",
     "start_time": "2022-09-10T12:58:12.920683Z"
    }
   },
   "outputs": [
    {
     "name": "stdout",
     "output_type": "stream",
     "text": [
      "Train dataset\n",
      "encoder_input: (25130, 350, 22)\n",
      "decoder_input: (25130, 8)\n",
      "decoder_output: (25130, 14)\n",
      "\n"
     ]
    }
   ],
   "source": [
    "history_size = 350\n",
    "prediction_size = 1\n",
    "stride = 5\n",
    "\n",
    "encoder_input, decoder_input, decoder_output = data2sequence(df_train_sc, \n",
    "                                                             set_points, process_vars,\n",
    "                                                             history_size, prediction_size,\n",
    "                                                             stride=stride)\n",
    "print(\"Train dataset\")\n",
    "print(\"encoder_input:\", encoder_input.shape)\n",
    "print(\"decoder_input:\", decoder_input.shape)\n",
    "print(\"decoder_output:\", decoder_output.shape)\n",
    "print(\"\")"
   ]
  },
  {
   "cell_type": "markdown",
   "id": "7e026799",
   "metadata": {},
   "source": [
    "## RNN model\n",
    "\n",
    "> **squence-to-vector learning** <br>\n",
    "> input sequence: (sample_size, history_size, # of input_vars) <br>\n",
    "> output sequence: (sample_size, # of output_vars)"
   ]
  },
  {
   "cell_type": "code",
   "execution_count": 84,
   "id": "2233f4b3",
   "metadata": {
    "ExecuteTime": {
     "end_time": "2022-09-10T12:58:31.085356Z",
     "start_time": "2022-09-10T12:58:31.074388Z"
    }
   },
   "outputs": [],
   "source": [
    "def Seq2VecLSTM(\n",
    "    history_size, history_dim, \n",
    "    prediction_size, prediction_dim,\n",
    "    rnn_neurons = [100], dense_neurons = [100]\n",
    "):\n",
    "    encoder_input = Input(shape=(history_size, history_dim))\n",
    "    \n",
    "    # encoder module\n",
    "    if len(rnn_neurons) == 1:\n",
    "        encoder_output, state_h, state_c = LSTM(rnn_neurons[0], return_state=True, name='encoder')(encoder_input)\n",
    "        encoder_states = [state_h, state_c]\n",
    "        \n",
    "    else:\n",
    "        num_layers = len(rnn_neurons)\n",
    "        for i, neurons in enumerate(rnn_neurons):\n",
    "            #first encoder layer\n",
    "            if i==0: \n",
    "                encoder_output = LSTM(neurons, return_sequences=True, name=\"first_encoder\")(encoder_input)\n",
    "            #mediate encoder layer\n",
    "            elif i < num_layers-1: \n",
    "                encoder_output = LSTM(neurons, return_sequences=True, name=f\"encoder_{i+1}\")(encoder_output)\n",
    "            #last encoder layer\n",
    "            else: \n",
    "                encoder_output, state_h, state_c  = LSTM(neurons, return_state=True, name=f\"last_encoder\")(encoder_output)\n",
    "                encoder_states = [state_h, state_c]\n",
    "    \n",
    "    # context + set_point\n",
    "    sp_input = Input(shape=(history_dim-prediction_dim))\n",
    "    combined_input = concatenate([encoder_output, sp_input])\n",
    "    \n",
    "    # dense module\n",
    "    if len(dense_neurons) == 1:\n",
    "        dense_output = Dense(prediction_dim, name='dense')(combined_input)\n",
    "        dense_output = Dense(prediction_dim, name='last_dense')(dense_output)\n",
    "    else:\n",
    "        num_layers = len(dense_neurons)\n",
    "        for i, neurons in enumerate(dense_neurons):\n",
    "            #first dense layer\n",
    "            if i==0:\n",
    "                dense_output = Dense(neurons, name='first_dense')(combined_input)\n",
    "            #mediate encoder layer\n",
    "            else:\n",
    "                dense_output = Dense(neurons, name=f'dense_{i+1}')(dense_output)\n",
    "        dense_output = Dense(prediction_dim, name=f'last_dense')(dense_output)  \n",
    "    \n",
    "    # model compile\n",
    "    model = Model([encoder_input, sp_input], dense_output)\n",
    "    optimizer = keras.optimizers.Adam(learning_rate = 0.001, beta_1=0.9, beta_2=0.999)\n",
    "    model.compile(loss='mse', optimizer = optimizer)\n",
    "    \n",
    "    return model"
   ]
  },
  {
   "cell_type": "markdown",
   "id": "56ad901a",
   "metadata": {},
   "source": [
    "bulid model"
   ]
  },
  {
   "cell_type": "code",
   "execution_count": 27,
   "id": "567f9140",
   "metadata": {
    "ExecuteTime": {
     "end_time": "2022-09-10T12:12:38.411271Z",
     "start_time": "2022-09-10T12:12:37.990950Z"
    }
   },
   "outputs": [
    {
     "name": "stdout",
     "output_type": "stream",
     "text": [
      "Model: \"model_3\"\n",
      "__________________________________________________________________________________________________\n",
      " Layer (type)                   Output Shape         Param #     Connected to                     \n",
      "==================================================================================================\n",
      " input_7 (InputLayer)           [(None, 350, 22)]    0           []                               \n",
      "                                                                                                  \n",
      " first_encoder (LSTM)           (None, 350, 100)     49200       ['input_7[0][0]']                \n",
      "                                                                                                  \n",
      " last_encoder (LSTM)            [(None, 10),         4440        ['first_encoder[0][0]']          \n",
      "                                 (None, 10),                                                      \n",
      "                                 (None, 10)]                                                      \n",
      "                                                                                                  \n",
      " input_8 (InputLayer)           [(None, 8)]          0           []                               \n",
      "                                                                                                  \n",
      " concatenate_3 (Concatenate)    (None, 18)           0           ['last_encoder[0][0]',           \n",
      "                                                                  'input_8[0][0]']                \n",
      "                                                                                                  \n",
      " first_dense (Dense)            (None, 100)          1900        ['concatenate_3[0][0]']          \n",
      "                                                                                                  \n",
      " dense_2 (Dense)                (None, 10)           1010        ['first_dense[0][0]']            \n",
      "                                                                                                  \n",
      " last_dense (Dense)             (None, 14)           154         ['dense_2[0][0]']                \n",
      "                                                                                                  \n",
      "==================================================================================================\n",
      "Total params: 56,704\n",
      "Trainable params: 56,704\n",
      "Non-trainable params: 0\n",
      "__________________________________________________________________________________________________\n"
     ]
    }
   ],
   "source": [
    "history_dim = len(set_points+process_vars)\n",
    "prediction_dim = len(process_vars)\n",
    "rnn_neurons = [100, 10]\n",
    "dense_neurons = [100, 10]\n",
    "\n",
    "rnn_model = Seq2VecLSTM(history_size, history_dim,\n",
    "                        prediction_size, prediction_dim,\n",
    "                        rnn_neurons = rnn_neurons, dense_neurons = dense_neurons\n",
    ")\n",
    "\n",
    "rnn_model.summary()"
   ]
  },
  {
   "cell_type": "markdown",
   "id": "cfd7d8da",
   "metadata": {},
   "source": [
    "model training"
   ]
  },
  {
   "cell_type": "code",
   "execution_count": 29,
   "id": "1b00ada5",
   "metadata": {
    "ExecuteTime": {
     "end_time": "2022-09-10T12:20:09.199523Z",
     "start_time": "2022-09-10T12:13:08.375469Z"
    },
    "scrolled": true
   },
   "outputs": [
    {
     "name": "stdout",
     "output_type": "stream",
     "text": [
      "Epoch 1/10000\n",
      "334/334 - 12s - loss: 0.2326 - val_loss: 0.1265 - 12s/epoch - 35ms/step\n",
      "Epoch 2/10000\n",
      "334/334 - 8s - loss: 0.0536 - val_loss: 0.0686 - 8s/epoch - 24ms/step\n",
      "Epoch 3/10000\n",
      "334/334 - 8s - loss: 0.0354 - val_loss: 0.0537 - 8s/epoch - 24ms/step\n",
      "Epoch 4/10000\n",
      "334/334 - 8s - loss: 0.0299 - val_loss: 0.0479 - 8s/epoch - 24ms/step\n",
      "Epoch 5/10000\n",
      "334/334 - 8s - loss: 0.0270 - val_loss: 0.0455 - 8s/epoch - 24ms/step\n",
      "Epoch 6/10000\n",
      "334/334 - 8s - loss: 0.0258 - val_loss: 0.0435 - 8s/epoch - 24ms/step\n",
      "Epoch 7/10000\n",
      "334/334 - 8s - loss: 0.0247 - val_loss: 0.0434 - 8s/epoch - 24ms/step\n",
      "Epoch 8/10000\n",
      "334/334 - 8s - loss: 0.0242 - val_loss: 0.0427 - 8s/epoch - 24ms/step\n",
      "Epoch 9/10000\n",
      "334/334 - 8s - loss: 0.0241 - val_loss: 0.0414 - 8s/epoch - 24ms/step\n",
      "Epoch 10/10000\n",
      "334/334 - 8s - loss: 0.0237 - val_loss: 0.0413 - 8s/epoch - 24ms/step\n",
      "Epoch 11/10000\n",
      "334/334 - 8s - loss: 0.0235 - val_loss: 0.0416 - 8s/epoch - 24ms/step\n",
      "Epoch 12/10000\n",
      "334/334 - 8s - loss: 0.0233 - val_loss: 0.0415 - 8s/epoch - 24ms/step\n",
      "Epoch 13/10000\n",
      "334/334 - 8s - loss: 0.0233 - val_loss: 0.0422 - 8s/epoch - 24ms/step\n",
      "Epoch 14/10000\n",
      "334/334 - 8s - loss: 0.0233 - val_loss: 0.0409 - 8s/epoch - 24ms/step\n",
      "Epoch 15/10000\n",
      "334/334 - 8s - loss: 0.0232 - val_loss: 0.0427 - 8s/epoch - 24ms/step\n",
      "Epoch 16/10000\n",
      "334/334 - 8s - loss: 0.0230 - val_loss: 0.0413 - 8s/epoch - 24ms/step\n",
      "Epoch 17/10000\n",
      "334/334 - 8s - loss: 0.0230 - val_loss: 0.0413 - 8s/epoch - 24ms/step\n",
      "Epoch 18/10000\n",
      "334/334 - 8s - loss: 0.0231 - val_loss: 0.0410 - 8s/epoch - 24ms/step\n",
      "Epoch 19/10000\n",
      "334/334 - 8s - loss: 0.0229 - val_loss: 0.0415 - 8s/epoch - 24ms/step\n",
      "Epoch 20/10000\n",
      "334/334 - 8s - loss: 0.0229 - val_loss: 0.0411 - 8s/epoch - 24ms/step\n",
      "Epoch 21/10000\n",
      "334/334 - 8s - loss: 0.0228 - val_loss: 0.0406 - 8s/epoch - 24ms/step\n",
      "Epoch 22/10000\n",
      "334/334 - 8s - loss: 0.0228 - val_loss: 0.0399 - 8s/epoch - 24ms/step\n",
      "Epoch 23/10000\n",
      "334/334 - 8s - loss: 0.0227 - val_loss: 0.0412 - 8s/epoch - 24ms/step\n",
      "Epoch 24/10000\n",
      "334/334 - 8s - loss: 0.0227 - val_loss: 0.0425 - 8s/epoch - 24ms/step\n",
      "Epoch 25/10000\n",
      "334/334 - 8s - loss: 0.0227 - val_loss: 0.0411 - 8s/epoch - 24ms/step\n",
      "Epoch 26/10000\n",
      "334/334 - 8s - loss: 0.0226 - val_loss: 0.0418 - 8s/epoch - 24ms/step\n",
      "Epoch 27/10000\n",
      "334/334 - 8s - loss: 0.0226 - val_loss: 0.0408 - 8s/epoch - 24ms/step\n",
      "Epoch 28/10000\n",
      "334/334 - 8s - loss: 0.0225 - val_loss: 0.0418 - 8s/epoch - 24ms/step\n",
      "Epoch 29/10000\n",
      "334/334 - 8s - loss: 0.0225 - val_loss: 0.0410 - 8s/epoch - 24ms/step\n",
      "Epoch 30/10000\n",
      "334/334 - 8s - loss: 0.0225 - val_loss: 0.0406 - 8s/epoch - 24ms/step\n",
      "Epoch 31/10000\n",
      "334/334 - 8s - loss: 0.0224 - val_loss: 0.0422 - 8s/epoch - 24ms/step\n",
      "Epoch 32/10000\n",
      "334/334 - 8s - loss: 0.0225 - val_loss: 0.0415 - 8s/epoch - 24ms/step\n",
      "Epoch 33/10000\n",
      "334/334 - 8s - loss: 0.0224 - val_loss: 0.0418 - 8s/epoch - 24ms/step\n",
      "Epoch 34/10000\n",
      "334/334 - 8s - loss: 0.0224 - val_loss: 0.0417 - 8s/epoch - 24ms/step\n",
      "Epoch 35/10000\n",
      "334/334 - 8s - loss: 0.0223 - val_loss: 0.0410 - 8s/epoch - 24ms/step\n",
      "Epoch 36/10000\n",
      "334/334 - 8s - loss: 0.0222 - val_loss: 0.0411 - 8s/epoch - 24ms/step\n",
      "Epoch 37/10000\n",
      "334/334 - 8s - loss: 0.0222 - val_loss: 0.0424 - 8s/epoch - 24ms/step\n",
      "Epoch 38/10000\n",
      "334/334 - 8s - loss: 0.0222 - val_loss: 0.0408 - 8s/epoch - 24ms/step\n",
      "Epoch 39/10000\n",
      "334/334 - 8s - loss: 0.0221 - val_loss: 0.0409 - 8s/epoch - 25ms/step\n",
      "Epoch 40/10000\n",
      "334/334 - 8s - loss: 0.0222 - val_loss: 0.0418 - 8s/epoch - 25ms/step\n",
      "Epoch 41/10000\n",
      "334/334 - 8s - loss: 0.0221 - val_loss: 0.0404 - 8s/epoch - 24ms/step\n",
      "Epoch 42/10000\n",
      "334/334 - 8s - loss: 0.0220 - val_loss: 0.0410 - 8s/epoch - 24ms/step\n",
      "Epoch 43/10000\n",
      "334/334 - 8s - loss: 0.0236 - val_loss: 0.0459 - 8s/epoch - 24ms/step\n",
      "Epoch 44/10000\n",
      "334/334 - 8s - loss: 0.0229 - val_loss: 0.0417 - 8s/epoch - 24ms/step\n",
      "Epoch 45/10000\n",
      "334/334 - 8s - loss: 0.0222 - val_loss: 0.0420 - 8s/epoch - 24ms/step\n",
      "Epoch 46/10000\n",
      "334/334 - 8s - loss: 0.0219 - val_loss: 0.0413 - 8s/epoch - 24ms/step\n",
      "Epoch 47/10000\n",
      "334/334 - 8s - loss: 0.0219 - val_loss: 0.0417 - 8s/epoch - 24ms/step\n",
      "Epoch 48/10000\n",
      "334/334 - 8s - loss: 0.0218 - val_loss: 0.0420 - 8s/epoch - 24ms/step\n",
      "Epoch 49/10000\n",
      "334/334 - 8s - loss: 0.0217 - val_loss: 0.0429 - 8s/epoch - 25ms/step\n",
      "Epoch 50/10000\n",
      "334/334 - 8s - loss: 0.0219 - val_loss: 0.0421 - 8s/epoch - 25ms/step\n",
      "Epoch 51/10000\n",
      "334/334 - 8s - loss: 0.0218 - val_loss: 0.0412 - 8s/epoch - 24ms/step\n",
      "Epoch 52/10000\n",
      "334/334 - 8s - loss: 0.0218 - val_loss: 0.0418 - 8s/epoch - 24ms/step\n"
     ]
    }
   ],
   "source": [
    "from keras.callbacks import EarlyStopping\n",
    "\n",
    "patience = 20\n",
    "monitor='val_loss'\n",
    "early_stopping_cb = EarlyStopping(patience=patience, restore_best_weights= True, monitor=monitor)\n",
    "\n",
    "epochs = 10000\n",
    "verbose = 2\n",
    "batch_size = 64\n",
    "validation_split = 0.15\n",
    "\n",
    "tf.random.set_seed(random_state)\n",
    "history = rnn_model.fit([encoder_input, decoder_input], decoder_output,\n",
    "                        epochs=epochs, batch_size = batch_size,\n",
    "                        callbacks=[early_stopping_cb], verbose=verbose,validation_split=validation_split)"
   ]
  },
  {
   "cell_type": "markdown",
   "id": "70815bf5",
   "metadata": {},
   "source": [
    "model test"
   ]
  },
  {
   "cell_type": "code",
   "execution_count": 177,
   "id": "31cae55a",
   "metadata": {
    "ExecuteTime": {
     "end_time": "2022-09-10T14:32:31.551646Z",
     "start_time": "2022-09-10T14:24:32.202619Z"
    },
    "scrolled": true
   },
   "outputs": [
    {
     "name": "stdout",
     "output_type": "stream",
     "text": [
      "1 th test\n",
      "2 th test\n",
      "3 th test\n",
      "4 th test\n",
      "5 th test\n",
      "6 th test\n",
      "7 th test\n",
      "8 th test\n",
      "9 th test\n",
      "10 th test\n",
      "11 th test\n",
      "12 th test\n",
      "13 th test\n",
      "14 th test\n",
      "15 th test\n",
      "16 th test\n",
      "17 th test\n",
      "18 th test\n",
      "19 th test\n",
      "20 th test\n"
     ]
    },
    {
     "ename": "KeyboardInterrupt",
     "evalue": "",
     "output_type": "error",
     "traceback": [
      "\u001b[1;31m---------------------------------------------------------------------------\u001b[0m",
      "\u001b[1;31mKeyboardInterrupt\u001b[0m                         Traceback (most recent call last)",
      "\u001b[1;32m~\\AppData\\Local\\Temp\\ipykernel_2236\\1677474965.py\u001b[0m in \u001b[0;36m<module>\u001b[1;34m\u001b[0m\n\u001b[0;32m     15\u001b[0m \u001b[1;33m\u001b[0m\u001b[0m\n\u001b[0;32m     16\u001b[0m         \u001b[1;31m# prediction\u001b[0m\u001b[1;33m\u001b[0m\u001b[1;33m\u001b[0m\u001b[1;33m\u001b[0m\u001b[0m\n\u001b[1;32m---> 17\u001b[1;33m         \u001b[0mprediction_sc\u001b[0m \u001b[1;33m=\u001b[0m \u001b[0mrnn_model\u001b[0m\u001b[1;33m.\u001b[0m\u001b[0mpredict\u001b[0m\u001b[1;33m(\u001b[0m\u001b[1;33m[\u001b[0m\u001b[0mtest_input\u001b[0m\u001b[1;33m,\u001b[0m \u001b[0mtest_setpoint\u001b[0m\u001b[1;33m]\u001b[0m\u001b[1;33m,\u001b[0m \u001b[0mverbose\u001b[0m\u001b[1;33m=\u001b[0m\u001b[1;36m0\u001b[0m\u001b[1;33m)\u001b[0m\u001b[1;33m\u001b[0m\u001b[1;33m\u001b[0m\u001b[0m\n\u001b[0m\u001b[0;32m     18\u001b[0m         \u001b[0mprediction\u001b[0m\u001b[1;33m.\u001b[0m\u001b[0mappend\u001b[0m\u001b[1;33m(\u001b[0m\u001b[0mprediction_sc\u001b[0m\u001b[1;33m[\u001b[0m\u001b[1;36m0\u001b[0m\u001b[1;33m]\u001b[0m\u001b[1;33m)\u001b[0m\u001b[1;33m\u001b[0m\u001b[1;33m\u001b[0m\u001b[0m\n\u001b[0;32m     19\u001b[0m \u001b[1;33m\u001b[0m\u001b[0m\n",
      "\u001b[1;32mD:\\anaconda3\\envs\\dualattn\\lib\\site-packages\\keras\\utils\\traceback_utils.py\u001b[0m in \u001b[0;36merror_handler\u001b[1;34m(*args, **kwargs)\u001b[0m\n\u001b[0;32m     62\u001b[0m     \u001b[0mfiltered_tb\u001b[0m \u001b[1;33m=\u001b[0m \u001b[1;32mNone\u001b[0m\u001b[1;33m\u001b[0m\u001b[1;33m\u001b[0m\u001b[0m\n\u001b[0;32m     63\u001b[0m     \u001b[1;32mtry\u001b[0m\u001b[1;33m:\u001b[0m\u001b[1;33m\u001b[0m\u001b[1;33m\u001b[0m\u001b[0m\n\u001b[1;32m---> 64\u001b[1;33m       \u001b[1;32mreturn\u001b[0m \u001b[0mfn\u001b[0m\u001b[1;33m(\u001b[0m\u001b[1;33m*\u001b[0m\u001b[0margs\u001b[0m\u001b[1;33m,\u001b[0m \u001b[1;33m**\u001b[0m\u001b[0mkwargs\u001b[0m\u001b[1;33m)\u001b[0m\u001b[1;33m\u001b[0m\u001b[1;33m\u001b[0m\u001b[0m\n\u001b[0m\u001b[0;32m     65\u001b[0m     \u001b[1;32mexcept\u001b[0m \u001b[0mException\u001b[0m \u001b[1;32mas\u001b[0m \u001b[0me\u001b[0m\u001b[1;33m:\u001b[0m  \u001b[1;31m# pylint: disable=broad-except\u001b[0m\u001b[1;33m\u001b[0m\u001b[1;33m\u001b[0m\u001b[0m\n\u001b[0;32m     66\u001b[0m       \u001b[0mfiltered_tb\u001b[0m \u001b[1;33m=\u001b[0m \u001b[0m_process_traceback_frames\u001b[0m\u001b[1;33m(\u001b[0m\u001b[0me\u001b[0m\u001b[1;33m.\u001b[0m\u001b[0m__traceback__\u001b[0m\u001b[1;33m)\u001b[0m\u001b[1;33m\u001b[0m\u001b[1;33m\u001b[0m\u001b[0m\n",
      "\u001b[1;31mKeyboardInterrupt\u001b[0m: "
     ]
    }
   ],
   "source": [
    "history_size = 350\n",
    "unit_size = 350\n",
    "\n",
    "test_result = []\n",
    "for k in range(1, 41):\n",
    "    print(k, \"th test\")\n",
    "    # set_point and actual value\n",
    "    setpoint = df_test[set_points].iloc[history_size*k:history_size*k+unit_size].values\n",
    "    actual = df_test[process_vars].iloc[history_size*k:history_size*k+unit_size].values\n",
    "    \n",
    "    prediction = []\n",
    "    test_input = df_test_sc[all_vars].iloc[history_size*(k-1):history_size*k].values[np.newaxis]\n",
    "    for i in range(unit_size):\n",
    "        test_setpoint = df_test_sc[set_points].iloc[[i+history_size*k]].values\n",
    "\n",
    "        # prediction\n",
    "        prediction_sc = rnn_model.predict([test_input, test_setpoint], verbose=0)\n",
    "        prediction.append(prediction_sc[0])\n",
    "\n",
    "        # update input\n",
    "        new_input = np.concatenate([test_setpoint, prediction_sc], axis=1)[np.newaxis]\n",
    "        test_input = np.delete(test_input, 0, axis=1)\n",
    "        test_input = np.concatenate([test_input, new_input], axis=1)\n",
    "    \n",
    "    # prediction\n",
    "    prediction_sc = np.array(prediction)\n",
    "    prediction = prediction_sc*std[process_vars].values + mean[process_vars].values\n",
    "    \n",
    "    test_result.append([setpoint, actual, prediction])"
   ]
  },
  {
   "cell_type": "markdown",
   "id": "5357e1ca",
   "metadata": {},
   "source": [
    "plot test result"
   ]
  },
  {
   "cell_type": "code",
   "execution_count": 198,
   "id": "93f8b438",
   "metadata": {
    "ExecuteTime": {
     "end_time": "2022-09-10T14:38:26.286218Z",
     "start_time": "2022-09-10T14:38:25.961091Z"
    }
   },
   "outputs": [
    {
     "data": {
      "image/png": "[encoded data removed]",
      "text/plain": [
       "<Figure size 864x432 with 3 Axes>"
      ]
     },
     "metadata": {
      "needs_background": "light"
     },
     "output_type": "display_data"
    }
   ],
   "source": [
    "plot_var = ['PC1', 'PC2', 'TC2']\n",
    "set_num = [0, 1, 4]\n",
    "\n",
    "test_num = 4\n",
    "setpoint = test_result[test_num][0]\n",
    "actual = test_result[test_num][1]\n",
    "prediction = test_result[test_num][2]\n",
    "\n",
    "rows = len(plot_var)\n",
    "columns = 1\n",
    "size = 2\n",
    "\n",
    "plt.figure(figsize=(12*columns, size*rows))\n",
    "i=0\n",
    "for j, var in enumerate(process_vars):\n",
    "    if var in plot_var:\n",
    "        plt.subplot(rows,1,i+1)\n",
    "        plt.plot(setpoint[:,set_num[i]], label='set point', color='r')\n",
    "        plt.plot(actual[:,j], label='actual', color='k')\n",
    "        plt.plot(prediction[:,j], label='prediction', color='b')\n",
    "        plt.title(var)\n",
    "        plt.legend()\n",
    "        i+=1\n",
    "plt.tight_layout()"
   ]
  }
 ],
 "metadata": {
  "kernelspec": {
   "display_name": "Dual Attention",
   "language": "python",
   "name": "dualattn"
  },
  "language_info": {
   "codemirror_mode": {
    "name": "ipython",
    "version": 3
   },
   "file_extension": ".py",
   "mimetype": "text/x-python",
   "name": "python",
   "nbconvert_exporter": "python",
   "pygments_lexer": "ipython3",
   "version": "3.7.13"
  },
  "toc": {
   "base_numbering": 1,
   "nav_menu": {},
   "number_sections": true,
   "sideBar": true,
   "skip_h1_title": false,
   "title_cell": "Table of Contents",
   "title_sidebar": "Contents",
   "toc_cell": false,
   "toc_position": {},
   "toc_section_display": true,
   "toc_window_display": false
  }
 },
 "nbformat": 4,
 "nbformat_minor": 5
}
