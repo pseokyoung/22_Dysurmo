{
 "cells": [
  {
   "cell_type": "code",
   "execution_count": 1,
   "id": "be927173",
   "metadata": {
    "ExecuteTime": {
     "end_time": "2022-09-08T09:53:09.744726Z",
     "start_time": "2022-09-08T09:53:08.718194Z"
    }
   },
   "outputs": [],
   "source": [
    "import pandas as pd\n",
    "import numpy as np\n",
    "import matplotlib.pyplot as plt"
   ]
  },
  {
   "cell_type": "code",
   "execution_count": 71,
   "id": "29167d4b",
   "metadata": {},
   "outputs": [],
   "source": [
    "import tensorflow as tf\n",
    "from tensorflow import keras\n",
    "from tensorflow.keras.layers import *\n",
    "from keras.models import Model"
   ]
  },
  {
   "cell_type": "markdown",
   "id": "e5d298ac",
   "metadata": {},
   "source": [
    "# data load"
   ]
  },
  {
   "cell_type": "code",
   "execution_count": 2,
   "id": "47c68443",
   "metadata": {
    "ExecuteTime": {
     "end_time": "2022-09-08T09:53:35.518217Z",
     "start_time": "2022-09-08T09:53:35.164669Z"
    }
   },
   "outputs": [],
   "source": [
    "data_1 = pd.read_csv('./data/raw_data.csv')\n",
    "data_2 = pd.read_csv('./data/raw_data2.csv')"
   ]
  },
  {
   "cell_type": "code",
   "execution_count": 3,
   "id": "cbdf459f",
   "metadata": {
    "ExecuteTime": {
     "end_time": "2022-09-08T09:53:35.974060Z",
     "start_time": "2022-09-08T09:53:35.951007Z"
    }
   },
   "outputs": [
    {
     "name": "stdout",
     "output_type": "stream",
     "text": [
      "<class 'pandas.core.frame.DataFrame'>\n",
      "RangeIndex: 70000 entries, 0 to 69999\n",
      "Data columns (total 23 columns):\n",
      " #   Column          Non-Null Count  Dtype  \n",
      "---  ------          --------------  -----  \n",
      " 0   Unnamed: 0      70000 non-null  int64  \n",
      " 1   PC1_SP          70000 non-null  float64\n",
      " 2   PC2_SP          70000 non-null  float64\n",
      " 3   FC_SP           70000 non-null  int64  \n",
      " 4   TC_SP           70000 non-null  float64\n",
      " 5   TC2_SP          70000 non-null  float64\n",
      " 6   RR1_SP          70000 non-null  float64\n",
      " 7   RR2_SP          70000 non-null  float64\n",
      " 8   TCF             70000 non-null  float64\n",
      " 9   PC1             70000 non-null  float64\n",
      " 10  PC2             70000 non-null  float64\n",
      " 11  TC1             70000 non-null  float64\n",
      " 12  TC2             70000 non-null  float64\n",
      " 13  Column1 D       70000 non-null  float64\n",
      " 14  Column2 D       70000 non-null  float64\n",
      " 15  Column1 reflux  70000 non-null  float64\n",
      " 16  Column2 reflux  70000 non-null  float64\n",
      " 17  Column1 B       70000 non-null  float64\n",
      " 18  Column2 B       70000 non-null  float64\n",
      " 19  Column1 Qcond   70000 non-null  float64\n",
      " 20  Column2 Qcond   70000 non-null  float64\n",
      " 21  Column1 Qreb    70000 non-null  float64\n",
      " 22  Column2 Qreb    70000 non-null  float64\n",
      "dtypes: float64(21), int64(2)\n",
      "memory usage: 12.3 MB\n"
     ]
    }
   ],
   "source": [
    "data_1.info()"
   ]
  },
  {
   "cell_type": "markdown",
   "id": "9d45daa9",
   "metadata": {},
   "source": [
    "## train/test split"
   ]
  },
  {
   "cell_type": "code",
   "execution_count": 76,
   "id": "2ebe21c2",
   "metadata": {},
   "outputs": [],
   "source": [
    "random_state = 42"
   ]
  },
  {
   "cell_type": "code",
   "execution_count": 45,
   "id": "c265f40d",
   "metadata": {},
   "outputs": [
    {
     "name": "stdout",
     "output_type": "stream",
     "text": [
      "data_train: (126000, 37)\n",
      "data_test: (14000, 37)\n"
     ]
    }
   ],
   "source": [
    "test_size = 14000\n",
    "data_train = pd.concat([data_1, data_2[:-test_size]], axis=0)\n",
    "data_test = data_2[-test_size:]\n",
    "\n",
    "print(\"data_train:\", data_train.shape)\n",
    "print(\"data_test:\", data_test.shape)"
   ]
  },
  {
   "cell_type": "markdown",
   "id": "4742d9e1",
   "metadata": {},
   "source": [
    "## variables"
   ]
  },
  {
   "cell_type": "code",
   "execution_count": 8,
   "id": "7657a2d3",
   "metadata": {},
   "outputs": [],
   "source": [
    "set_points = ['PC1_SP', 'PC2_SP', 'FC_SP', 'TC_SP', 'TC2_SP', \n",
    "              'RR1_SP', 'RR2_SP', 'TCF']\n",
    "process_vars = ['PC1', 'PC2', 'TC1', 'TC2', 'Column1 D', 'Column2 D',\n",
    "                'Column1 reflux', 'Column2 reflux', 'Column1 B', 'Column2 B',\n",
    "                'Column1 Qcond', 'Column2 Qcond', 'Column1 Qreb', 'Column2 Qreb']"
   ]
  },
  {
   "cell_type": "markdown",
   "id": "09392158",
   "metadata": {},
   "source": [
    "## data scaling"
   ]
  },
  {
   "cell_type": "code",
   "execution_count": 56,
   "id": "18c98cb5",
   "metadata": {},
   "outputs": [],
   "source": [
    "# select data considered\n",
    "all_vars = set_points + process_vars\n",
    "\n",
    "arr_train = data_train[all_vars].values\n",
    "arr_test = data_test[all_vars].values\n",
    "\n",
    "# Obtain mean and std\n",
    "mean = arr_train.mean(axis=0)\n",
    "std = arr_train.std(axis=0)\n",
    "\n",
    "# scaled dataset\n",
    "arr_train_sc = (arr_train-mean)/std\n",
    "arr_test_sc = (arr_test-mean)/std"
   ]
  },
  {
   "cell_type": "code",
   "execution_count": 62,
   "id": "e4cda2df",
   "metadata": {},
   "outputs": [],
   "source": [
    "# from arr to df\n",
    "data_train_sc = pd.DataFrame(arr_train_sc, columns=all_vars)\n",
    "data_test_sc = pd.DataFrame(arr_test_sc, columns=all_vars)"
   ]
  },
  {
   "cell_type": "markdown",
   "id": "d7c472c4",
   "metadata": {},
   "source": [
    "## data to sequence\n",
    "\n",
    "**encoder_input**: history of `set points` and `process variables`\n",
    "\n",
    "**decoder_input**: future `set points`\n",
    "\n",
    "**decoder_output**: prediction of future `process variables`"
   ]
  },
  {
   "cell_type": "code",
   "execution_count": 10,
   "id": "8c36017e",
   "metadata": {},
   "outputs": [],
   "source": [
    "def data2sequence(data, \n",
    "                  set_points, process_vars,\n",
    "                  history_size, prediction_size, \n",
    "                  step=1, start_idx=0, end_idx=None,\n",
    "                  stride=1):\n",
    "    \n",
    "    history_inputs = set_points + process_vars\n",
    "    target_outputs = process_vars\n",
    "        \n",
    "    history_data = data[history_inputs].values\n",
    "    target_data = data[target_outputs].values\n",
    "    sp_data = data[set_points].values\n",
    "    \n",
    "    history_sequence = []\n",
    "    target_sequence = []\n",
    "    sp_sequence = []\n",
    "    \n",
    "    if end_idx is None:\n",
    "        end_idx = len(data) - history_size - prediction_size\n",
    "    else:\n",
    "        end_idx = end_idx - history_size - prediction_size\n",
    "    assert end_idx > 0, 'time-series dataset is not long enough'\n",
    "    \n",
    "    i=start_idx\n",
    "    while i <= end_idx:\n",
    "        history_sequence.append(history_data[range(i, i+history_size, step)])\n",
    "        if prediction_size == 1:\n",
    "            target_sequence.append(target_data[i+history_size])\n",
    "            sp_sequence.append(sp_data[i+history_size])\n",
    "        else:\n",
    "            target_sequence.append(target_data[i+history_size : i+history_size+prediction_size : step])\n",
    "            sp_sequence.append(sp_data[i+history_size : i+history_size+prediction_size : step])\n",
    "        i+=stride\n",
    "    \n",
    "    encoder_input = np.array(history_sequence)\n",
    "    decoder_input = np.array(sp_sequence)\n",
    "    decoder_output = np.array(target_sequence)\n",
    "    \n",
    "    return encoder_input, decoder_input, decoder_output"
   ]
  },
  {
   "cell_type": "markdown",
   "id": "dacd9eab",
   "metadata": {},
   "source": [
    "# single-step ahead prediction"
   ]
  },
  {
   "cell_type": "code",
   "execution_count": 64,
   "id": "6e0ac01a",
   "metadata": {},
   "outputs": [
    {
     "name": "stdout",
     "output_type": "stream",
     "text": [
      "Train dataset\n",
      "encoder_input: (125940, 60, 22)\n",
      "decoder_input: (125940, 8)\n",
      "decoder_output: (125940, 14)\n",
      "\n",
      "Test dataset\n",
      "encoder_input_test: (13940, 60, 22)\n",
      "decoder_input_test: (13940, 8)\n",
      "decoder_output_test: (13940, 14)\n"
     ]
    }
   ],
   "source": [
    "history_size = 60\n",
    "prediction_size = 1\n",
    "stride = 1\n",
    "\n",
    "encoder_input, decoder_input, decoder_output = data2sequence(data_train_sc, \n",
    "                                                             set_points, process_vars,\n",
    "                                                             history_size, prediction_size,\n",
    "                                                             stride=stride)\n",
    "print(\"Train dataset\")\n",
    "print(\"encoder_input:\", encoder_input.shape)\n",
    "print(\"decoder_input:\", decoder_input.shape)\n",
    "print(\"decoder_output:\", decoder_output.shape)\n",
    "print(\"\")\n",
    "\n",
    "encoder_input_test, decoder_input_test, decoder_output_test = data2sequence(data_test_sc, \n",
    "                                                             set_points, process_vars,\n",
    "                                                             history_size, prediction_size,\n",
    "                                                             stride=stride)\n",
    "print(\"Test dataset\")\n",
    "print(\"encoder_input_test:\", encoder_input_test.shape)\n",
    "print(\"decoder_input_test:\", decoder_input_test.shape)\n",
    "print(\"decoder_output_test:\", decoder_output_test.shape)"
   ]
  },
  {
   "cell_type": "markdown",
   "id": "7e026799",
   "metadata": {},
   "source": [
    "## RNN model\n",
    "\n",
    "> **squence-to-vector learning** <br>\n",
    "> input sequence: (sample_size, history_size, # of input_vars) <br>\n",
    "> output sequence: (sample_size, # of output_vars)"
   ]
  },
  {
   "cell_type": "code",
   "execution_count": 80,
   "id": "2233f4b3",
   "metadata": {},
   "outputs": [],
   "source": [
    "def Seq2VecLSTM(\n",
    "    history_size, history_dim, \n",
    "    prediction_size, prediction_dim,\n",
    "    rnn_neurons = [100], dense_neurons = [100]\n",
    "):\n",
    "    encoder_input = Input(shape=(history_size, history_dim))\n",
    "    \n",
    "    # encoder module\n",
    "    if len(rnn_neurons) == 1:\n",
    "        encoder_output, state_h, state_c = LSTM(rnn_neurons[0], return_state=True, name='encoder')(encoder_input)\n",
    "        encoder_states = [state_h, state_c]\n",
    "        \n",
    "    else:\n",
    "        num_layers = len(rnn_neurons)\n",
    "        for i, neurons in enumerate(rnn_neurons):\n",
    "            #first encoder layer\n",
    "            if i==0: \n",
    "                encoder_output = LSTM(neurons, return_sequences=True, name=\"first_encoder\")(encoder_input)\n",
    "            #mediate encoder layer\n",
    "            elif i < num_layers-1: \n",
    "                encoder_output = LSTM(neurons, return_sequences=True, name=f\"encoder_{i+1}\")(encoder_output)\n",
    "            #last encoder layer\n",
    "            else: \n",
    "                encoder_output, state_h, state_c  = LSTM(neurons, return_state=True, name=f\"last_encoder\")(encoder_output)\n",
    "                encoder_states = [state_h, state_c]\n",
    "    \n",
    "    # context + set_point\n",
    "    sp_input = Input(shape=(history_dim-prediction_dim))\n",
    "    combined_input = concatenate([encoder_output, sp_input])\n",
    "    \n",
    "    # dense module\n",
    "    if len(dense_neurons) == 1:\n",
    "        dense_output = Dense(prediction_dim, name='dense')(combined_input)\n",
    "    else:\n",
    "        num_layers = len(dense_neurons)\n",
    "        for i, neurons in enumerate(dense_neurons):\n",
    "            #first dense layer\n",
    "            if i==0:\n",
    "                dense_output = Dense(neurons, name='first_dense')(combined_input)\n",
    "            #mediate encoder layer\n",
    "            elif i < num_layers-1: \n",
    "                dense_output = Dense(neurons, name=f'dense_{i+1}')(dense_output)\n",
    "            else:\n",
    "                dense_output = Dense(prediction_dim, name=f'last_dense')(dense_output)  \n",
    "    \n",
    "    # model compile\n",
    "    model = Model([encoder_input, sp_input], dense_output)\n",
    "    optimizer = keras.optimizers.Adam(learning_rate = 0.001, beta_1=0.9, beta_2=0.999)\n",
    "    model.compile(loss='mse', optimizer = optimizer)\n",
    "    \n",
    "    return model"
   ]
  },
  {
   "cell_type": "markdown",
   "id": "56ad901a",
   "metadata": {},
   "source": [
    "bulid model"
   ]
  },
  {
   "cell_type": "code",
   "execution_count": 81,
   "id": "567f9140",
   "metadata": {},
   "outputs": [
    {
     "name": "stdout",
     "output_type": "stream",
     "text": [
      "Model: \"model_4\"\n",
      "__________________________________________________________________________________________________\n",
      "Layer (type)                    Output Shape         Param #     Connected to                     \n",
      "==================================================================================================\n",
      "input_11 (InputLayer)           [(None, 60, 22)]     0                                            \n",
      "__________________________________________________________________________________________________\n",
      "encoder (LSTM)                  [(None, 100), (None, 49200       input_11[0][0]                   \n",
      "__________________________________________________________________________________________________\n",
      "input_12 (InputLayer)           [(None, 8)]          0                                            \n",
      "__________________________________________________________________________________________________\n",
      "concatenate_5 (Concatenate)     (None, 108)          0           encoder[0][0]                    \n",
      "                                                                 input_12[0][0]                   \n",
      "__________________________________________________________________________________________________\n",
      "dense (Dense)                   (None, 14)           1526        concatenate_5[0][0]              \n",
      "==================================================================================================\n",
      "Total params: 50,726\n",
      "Trainable params: 50,726\n",
      "Non-trainable params: 0\n",
      "__________________________________________________________________________________________________\n"
     ]
    }
   ],
   "source": [
    "history_dim = len(set_points+process_vars)\n",
    "prediction_dim = len(process_vars)\n",
    "rnn_neurons = [100]\n",
    "dense_neurons = [100]\n",
    "\n",
    "rnn_model = Seq2VecLSTM(history_size, history_dim,\n",
    "                        prediction_size, prediction_dim,\n",
    "                        rnn_neurons = rnn_neurons, dense_neurons = dense_neurons\n",
    ")\n",
    "\n",
    "rnn_model.summary()"
   ]
  },
  {
   "cell_type": "markdown",
   "id": "cfd7d8da",
   "metadata": {},
   "source": [
    "model training"
   ]
  },
  {
   "cell_type": "code",
   "execution_count": 82,
   "id": "b4ca4341",
   "metadata": {},
   "outputs": [],
   "source": [
    "from keras.callbacks import EarlyStopping\n",
    "\n",
    "\n",
    "patience = 30\n",
    "monitor='val_loss'\n",
    "\n",
    "early_stopping_cb = EarlyStopping(patience=patience, restore_best_weights= True, monitor=monitor)"
   ]
  },
  {
   "cell_type": "code",
   "execution_count": 84,
   "id": "1b00ada5",
   "metadata": {},
   "outputs": [
    {
     "name": "stdout",
     "output_type": "stream",
     "text": [
      "Epoch 1/10000\n"
     ]
    },
    {
     "ename": "KeyboardInterrupt",
     "evalue": "",
     "output_type": "error",
     "traceback": [
      "\u001b[1;31m---------------------------------------------------------------------------\u001b[0m",
      "\u001b[1;31mKeyboardInterrupt\u001b[0m                         Traceback (most recent call last)",
      "\u001b[1;32m<ipython-input-84-b7dab4c7132b>\u001b[0m in \u001b[0;36m<module>\u001b[1;34m\u001b[0m\n\u001b[0;32m      7\u001b[0m history = rnn_model.fit([encoder_input, decoder_input], decoder_output,\n\u001b[0;32m      8\u001b[0m                         \u001b[0mepochs\u001b[0m\u001b[1;33m=\u001b[0m\u001b[0mepochs\u001b[0m\u001b[1;33m,\u001b[0m \u001b[0mbatch_size\u001b[0m \u001b[1;33m=\u001b[0m \u001b[0mbatch_size\u001b[0m\u001b[1;33m,\u001b[0m\u001b[1;33m\u001b[0m\u001b[1;33m\u001b[0m\u001b[0m\n\u001b[1;32m----> 9\u001b[1;33m                         callbacks=[early_stopping_cb], verbose=verbose,validation_split=validation_split)\n\u001b[0m",
      "\u001b[1;32mC:\\Anaconda3\\envs\\python36\\lib\\site-packages\\keras\\engine\\training.py\u001b[0m in \u001b[0;36mfit\u001b[1;34m(self, x, y, batch_size, epochs, verbose, callbacks, validation_split, validation_data, shuffle, class_weight, sample_weight, initial_epoch, steps_per_epoch, validation_steps, validation_batch_size, validation_freq, max_queue_size, workers, use_multiprocessing)\u001b[0m\n\u001b[0;32m   1182\u001b[0m                 _r=1):\n\u001b[0;32m   1183\u001b[0m               \u001b[0mcallbacks\u001b[0m\u001b[1;33m.\u001b[0m\u001b[0mon_train_batch_begin\u001b[0m\u001b[1;33m(\u001b[0m\u001b[0mstep\u001b[0m\u001b[1;33m)\u001b[0m\u001b[1;33m\u001b[0m\u001b[1;33m\u001b[0m\u001b[0m\n\u001b[1;32m-> 1184\u001b[1;33m               \u001b[0mtmp_logs\u001b[0m \u001b[1;33m=\u001b[0m \u001b[0mself\u001b[0m\u001b[1;33m.\u001b[0m\u001b[0mtrain_function\u001b[0m\u001b[1;33m(\u001b[0m\u001b[0miterator\u001b[0m\u001b[1;33m)\u001b[0m\u001b[1;33m\u001b[0m\u001b[1;33m\u001b[0m\u001b[0m\n\u001b[0m\u001b[0;32m   1185\u001b[0m               \u001b[1;32mif\u001b[0m \u001b[0mdata_handler\u001b[0m\u001b[1;33m.\u001b[0m\u001b[0mshould_sync\u001b[0m\u001b[1;33m:\u001b[0m\u001b[1;33m\u001b[0m\u001b[1;33m\u001b[0m\u001b[0m\n\u001b[0;32m   1186\u001b[0m                 \u001b[0mcontext\u001b[0m\u001b[1;33m.\u001b[0m\u001b[0masync_wait\u001b[0m\u001b[1;33m(\u001b[0m\u001b[1;33m)\u001b[0m\u001b[1;33m\u001b[0m\u001b[1;33m\u001b[0m\u001b[0m\n",
      "\u001b[1;32mC:\\Anaconda3\\envs\\python36\\lib\\site-packages\\tensorflow\\python\\eager\\def_function.py\u001b[0m in \u001b[0;36m__call__\u001b[1;34m(self, *args, **kwds)\u001b[0m\n\u001b[0;32m    883\u001b[0m \u001b[1;33m\u001b[0m\u001b[0m\n\u001b[0;32m    884\u001b[0m       \u001b[1;32mwith\u001b[0m \u001b[0mOptionalXlaContext\u001b[0m\u001b[1;33m(\u001b[0m\u001b[0mself\u001b[0m\u001b[1;33m.\u001b[0m\u001b[0m_jit_compile\u001b[0m\u001b[1;33m)\u001b[0m\u001b[1;33m:\u001b[0m\u001b[1;33m\u001b[0m\u001b[1;33m\u001b[0m\u001b[0m\n\u001b[1;32m--> 885\u001b[1;33m         \u001b[0mresult\u001b[0m \u001b[1;33m=\u001b[0m \u001b[0mself\u001b[0m\u001b[1;33m.\u001b[0m\u001b[0m_call\u001b[0m\u001b[1;33m(\u001b[0m\u001b[1;33m*\u001b[0m\u001b[0margs\u001b[0m\u001b[1;33m,\u001b[0m \u001b[1;33m**\u001b[0m\u001b[0mkwds\u001b[0m\u001b[1;33m)\u001b[0m\u001b[1;33m\u001b[0m\u001b[1;33m\u001b[0m\u001b[0m\n\u001b[0m\u001b[0;32m    886\u001b[0m \u001b[1;33m\u001b[0m\u001b[0m\n\u001b[0;32m    887\u001b[0m       \u001b[0mnew_tracing_count\u001b[0m \u001b[1;33m=\u001b[0m \u001b[0mself\u001b[0m\u001b[1;33m.\u001b[0m\u001b[0mexperimental_get_tracing_count\u001b[0m\u001b[1;33m(\u001b[0m\u001b[1;33m)\u001b[0m\u001b[1;33m\u001b[0m\u001b[1;33m\u001b[0m\u001b[0m\n",
      "\u001b[1;32mC:\\Anaconda3\\envs\\python36\\lib\\site-packages\\tensorflow\\python\\eager\\def_function.py\u001b[0m in \u001b[0;36m_call\u001b[1;34m(self, *args, **kwds)\u001b[0m\n\u001b[0;32m    915\u001b[0m       \u001b[1;31m# In this case we have created variables on the first call, so we run the\u001b[0m\u001b[1;33m\u001b[0m\u001b[1;33m\u001b[0m\u001b[1;33m\u001b[0m\u001b[0m\n\u001b[0;32m    916\u001b[0m       \u001b[1;31m# defunned version which is guaranteed to never create variables.\u001b[0m\u001b[1;33m\u001b[0m\u001b[1;33m\u001b[0m\u001b[1;33m\u001b[0m\u001b[0m\n\u001b[1;32m--> 917\u001b[1;33m       \u001b[1;32mreturn\u001b[0m \u001b[0mself\u001b[0m\u001b[1;33m.\u001b[0m\u001b[0m_stateless_fn\u001b[0m\u001b[1;33m(\u001b[0m\u001b[1;33m*\u001b[0m\u001b[0margs\u001b[0m\u001b[1;33m,\u001b[0m \u001b[1;33m**\u001b[0m\u001b[0mkwds\u001b[0m\u001b[1;33m)\u001b[0m  \u001b[1;31m# pylint: disable=not-callable\u001b[0m\u001b[1;33m\u001b[0m\u001b[1;33m\u001b[0m\u001b[0m\n\u001b[0m\u001b[0;32m    918\u001b[0m     \u001b[1;32melif\u001b[0m \u001b[0mself\u001b[0m\u001b[1;33m.\u001b[0m\u001b[0m_stateful_fn\u001b[0m \u001b[1;32mis\u001b[0m \u001b[1;32mnot\u001b[0m \u001b[1;32mNone\u001b[0m\u001b[1;33m:\u001b[0m\u001b[1;33m\u001b[0m\u001b[1;33m\u001b[0m\u001b[0m\n\u001b[0;32m    919\u001b[0m       \u001b[1;31m# Release the lock early so that multiple threads can perform the call\u001b[0m\u001b[1;33m\u001b[0m\u001b[1;33m\u001b[0m\u001b[1;33m\u001b[0m\u001b[0m\n",
      "\u001b[1;32mC:\\Anaconda3\\envs\\python36\\lib\\site-packages\\tensorflow\\python\\eager\\function.py\u001b[0m in \u001b[0;36m__call__\u001b[1;34m(self, *args, **kwargs)\u001b[0m\n\u001b[0;32m   3038\u001b[0m        filtered_flat_args) = self._maybe_define_function(args, kwargs)\n\u001b[0;32m   3039\u001b[0m     return graph_function._call_flat(\n\u001b[1;32m-> 3040\u001b[1;33m         filtered_flat_args, captured_inputs=graph_function.captured_inputs)  # pylint: disable=protected-access\n\u001b[0m\u001b[0;32m   3041\u001b[0m \u001b[1;33m\u001b[0m\u001b[0m\n\u001b[0;32m   3042\u001b[0m   \u001b[1;33m@\u001b[0m\u001b[0mproperty\u001b[0m\u001b[1;33m\u001b[0m\u001b[1;33m\u001b[0m\u001b[0m\n",
      "\u001b[1;32mC:\\Anaconda3\\envs\\python36\\lib\\site-packages\\tensorflow\\python\\eager\\function.py\u001b[0m in \u001b[0;36m_call_flat\u001b[1;34m(self, args, captured_inputs, cancellation_manager)\u001b[0m\n\u001b[0;32m   1962\u001b[0m       \u001b[1;31m# No tape is watching; skip to running the function.\u001b[0m\u001b[1;33m\u001b[0m\u001b[1;33m\u001b[0m\u001b[1;33m\u001b[0m\u001b[0m\n\u001b[0;32m   1963\u001b[0m       return self._build_call_outputs(self._inference_function.call(\n\u001b[1;32m-> 1964\u001b[1;33m           ctx, args, cancellation_manager=cancellation_manager))\n\u001b[0m\u001b[0;32m   1965\u001b[0m     forward_backward = self._select_forward_and_backward_functions(\n\u001b[0;32m   1966\u001b[0m         \u001b[0margs\u001b[0m\u001b[1;33m,\u001b[0m\u001b[1;33m\u001b[0m\u001b[1;33m\u001b[0m\u001b[0m\n",
      "\u001b[1;32mC:\\Anaconda3\\envs\\python36\\lib\\site-packages\\tensorflow\\python\\eager\\function.py\u001b[0m in \u001b[0;36mcall\u001b[1;34m(self, ctx, args, cancellation_manager)\u001b[0m\n\u001b[0;32m    594\u001b[0m               \u001b[0minputs\u001b[0m\u001b[1;33m=\u001b[0m\u001b[0margs\u001b[0m\u001b[1;33m,\u001b[0m\u001b[1;33m\u001b[0m\u001b[1;33m\u001b[0m\u001b[0m\n\u001b[0;32m    595\u001b[0m               \u001b[0mattrs\u001b[0m\u001b[1;33m=\u001b[0m\u001b[0mattrs\u001b[0m\u001b[1;33m,\u001b[0m\u001b[1;33m\u001b[0m\u001b[1;33m\u001b[0m\u001b[0m\n\u001b[1;32m--> 596\u001b[1;33m               ctx=ctx)\n\u001b[0m\u001b[0;32m    597\u001b[0m         \u001b[1;32melse\u001b[0m\u001b[1;33m:\u001b[0m\u001b[1;33m\u001b[0m\u001b[1;33m\u001b[0m\u001b[0m\n\u001b[0;32m    598\u001b[0m           outputs = execute.execute_with_cancellation(\n",
      "\u001b[1;32mC:\\Anaconda3\\envs\\python36\\lib\\site-packages\\tensorflow\\python\\eager\\execute.py\u001b[0m in \u001b[0;36mquick_execute\u001b[1;34m(op_name, num_outputs, inputs, attrs, ctx, name)\u001b[0m\n\u001b[0;32m     58\u001b[0m     \u001b[0mctx\u001b[0m\u001b[1;33m.\u001b[0m\u001b[0mensure_initialized\u001b[0m\u001b[1;33m(\u001b[0m\u001b[1;33m)\u001b[0m\u001b[1;33m\u001b[0m\u001b[1;33m\u001b[0m\u001b[0m\n\u001b[0;32m     59\u001b[0m     tensors = pywrap_tfe.TFE_Py_Execute(ctx._handle, device_name, op_name,\n\u001b[1;32m---> 60\u001b[1;33m                                         inputs, attrs, num_outputs)\n\u001b[0m\u001b[0;32m     61\u001b[0m   \u001b[1;32mexcept\u001b[0m \u001b[0mcore\u001b[0m\u001b[1;33m.\u001b[0m\u001b[0m_NotOkStatusException\u001b[0m \u001b[1;32mas\u001b[0m \u001b[0me\u001b[0m\u001b[1;33m:\u001b[0m\u001b[1;33m\u001b[0m\u001b[1;33m\u001b[0m\u001b[0m\n\u001b[0;32m     62\u001b[0m     \u001b[1;32mif\u001b[0m \u001b[0mname\u001b[0m \u001b[1;32mis\u001b[0m \u001b[1;32mnot\u001b[0m \u001b[1;32mNone\u001b[0m\u001b[1;33m:\u001b[0m\u001b[1;33m\u001b[0m\u001b[1;33m\u001b[0m\u001b[0m\n",
      "\u001b[1;31mKeyboardInterrupt\u001b[0m: "
     ]
    }
   ],
   "source": [
    "epochs = 10000\n",
    "verbose = 2\n",
    "batch_size = 128\n",
    "validation_split = 0.2\n",
    "\n",
    "tf.random.set_seed(random_state)\n",
    "history = rnn_model.fit([encoder_input, decoder_input], decoder_output,\n",
    "                        epochs=epochs, batch_size = batch_size,\n",
    "                        callbacks=[early_stopping_cb], verbose=verbose,validation_split=validation_split)"
   ]
  },
  {
   "cell_type": "code",
   "execution_count": null,
   "id": "5144d436",
   "metadata": {},
   "outputs": [],
   "source": []
  }
 ],
 "metadata": {
  "kernelspec": {
   "display_name": "pytho36",
   "language": "python",
   "name": "python36"
  },
  "language_info": {
   "codemirror_mode": {
    "name": "ipython",
    "version": 3
   },
   "file_extension": ".py",
   "mimetype": "text/x-python",
   "name": "python",
   "nbconvert_exporter": "python",
   "pygments_lexer": "ipython3",
   "version": "3.6.13"
  },
  "toc": {
   "base_numbering": 1,
   "nav_menu": {},
   "number_sections": true,
   "sideBar": true,
   "skip_h1_title": false,
   "title_cell": "Table of Contents",
   "title_sidebar": "Contents",
   "toc_cell": false,
   "toc_position": {},
   "toc_section_display": true,
   "toc_window_display": false
  }
 },
 "nbformat": 4,
 "nbformat_minor": 5
}
