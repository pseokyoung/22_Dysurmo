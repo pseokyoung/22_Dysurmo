{
 "cells": [
  {
   "cell_type": "markdown",
   "id": "6f056e70",
   "metadata": {},
   "source": [
    "# V1\n",
    "\n",
    "**input**: process variables and set points from $t-N$ to $t-1$ and set point at $t$\n",
    "\n",
    "**outpu**t: process variables at $t$"
   ]
  },
  {
   "cell_type": "code",
   "execution_count": null,
   "id": "874783f9",
   "metadata": {},
   "outputs": [],
   "source": [
    "def Seq2VecLSTM(\n",
    "    history_size, history_dim, \n",
    "    prediction_size, prediction_dim,\n",
    "    rnn_neurons = [100], dense_neurons = [100]\n",
    "):\n",
    "    encoder_input = Input(shape=(history_size, history_dim))\n",
    "    \n",
    "    # encoder module\n",
    "    if len(rnn_neurons) == 1:\n",
    "        encoder_output, state_h, state_c = LSTM(rnn_neurons[0], return_state=True, name='encoder')(encoder_input)\n",
    "        encoder_states = [state_h, state_c]\n",
    "        \n",
    "    else:\n",
    "        num_layers = len(rnn_neurons)\n",
    "        for i, neurons in enumerate(rnn_neurons):\n",
    "            #first encoder layer\n",
    "            if i==0: \n",
    "                encoder_output = LSTM(neurons, return_sequences=True, name=\"first_encoder\")(encoder_input)\n",
    "            #mediate encoder layer\n",
    "            elif i < num_layers-1: \n",
    "                encoder_output = LSTM(neurons, return_sequences=True, name=f\"encoder_{i+1}\")(encoder_output)\n",
    "            #last encoder layer\n",
    "            else: \n",
    "                encoder_output, state_h, state_c  = LSTM(neurons, return_state=True, name=f\"last_encoder\")(encoder_output)\n",
    "                encoder_states = [state_h, state_c]\n",
    "    \n",
    "    # context + set_point\n",
    "    sp_input = Input(shape=(history_dim-prediction_dim))\n",
    "    combined_input = concatenate([encoder_output, sp_input])\n",
    "    \n",
    "    # dense module\n",
    "    if len(dense_neurons) == 1:\n",
    "        dense_output = Dense(prediction_dim, name='dense')(combined_input)\n",
    "        dense_output = Dense(prediction_dim, name='last_dense')(dense_output)\n",
    "    else:\n",
    "        num_layers = len(dense_neurons)\n",
    "        for i, neurons in enumerate(dense_neurons):\n",
    "            #first dense layer\n",
    "            if i==0:\n",
    "                dense_output = Dense(neurons, name='first_dense')(combined_input)\n",
    "            #mediate encoder layer\n",
    "            else:\n",
    "                dense_output = Dense(neurons, name=f'dense_{i+1}')(dense_output)\n",
    "        dense_output = Dense(prediction_dim, name=f'last_dense')(dense_output)  \n",
    "    \n",
    "    # model compile\n",
    "    model = Model([encoder_input, sp_input], dense_output)\n",
    "    optimizer = keras.optimizers.Adam(learning_rate = 0.001, beta_1=0.9, beta_2=0.999)\n",
    "    model.compile(loss='mse', optimizer = optimizer)\n",
    "    \n",
    "    return model"
   ]
  }
 ],
 "metadata": {
  "kernelspec": {
   "display_name": "Dual Attention",
   "language": "python",
   "name": "dualattn"
  },
  "language_info": {
   "codemirror_mode": {
    "name": "ipython",
    "version": 3
   },
   "file_extension": ".py",
   "mimetype": "text/x-python",
   "name": "python",
   "nbconvert_exporter": "python",
   "pygments_lexer": "ipython3",
   "version": "3.7.13"
  },
  "toc": {
   "base_numbering": 1,
   "nav_menu": {},
   "number_sections": true,
   "sideBar": true,
   "skip_h1_title": false,
   "title_cell": "Table of Contents",
   "title_sidebar": "Contents",
   "toc_cell": false,
   "toc_position": {},
   "toc_section_display": true,
   "toc_window_display": false
  }
 },
 "nbformat": 4,
 "nbformat_minor": 5
}
