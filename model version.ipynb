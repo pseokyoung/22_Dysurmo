{
 "cells": [
  {
   "cell_type": "markdown",
   "id": "8c181b35",
   "metadata": {},
   "source": [
    "# Data to sequence"
   ]
  },
  {
   "cell_type": "markdown",
   "id": "7ee97400",
   "metadata": {},
   "source": [
    "## V1\n",
    "\n",
    "기준이 $t-N$ 에서 시작"
   ]
  },
  {
   "cell_type": "code",
   "execution_count": null,
   "id": "4057aea4",
   "metadata": {},
   "outputs": [],
   "source": [
    "def data2sequence(dataframe, \n",
    "                  set_points, process_vars,\n",
    "                  history_size, prediction_size, \n",
    "                  step=1, start_idx=0, end_idx=None,\n",
    "                  stride=1):\n",
    "    \n",
    "    history_inputs = set_points + process_vars\n",
    "    target_outputs = process_vars\n",
    "        \n",
    "    history_data = dataframe[history_inputs].values\n",
    "    target_data = dataframe[target_outputs].values\n",
    "    sp_data = dataframe[set_points].values\n",
    "    \n",
    "    history_sequence = []\n",
    "    target_sequence = []\n",
    "    sp_sequence = []\n",
    "    \n",
    "    if end_idx is None:\n",
    "        end_idx = len(dataframe) - history_size - prediction_size\n",
    "    else:\n",
    "        end_idx = end_idx - history_size - prediction_size\n",
    "    assert end_idx >= 0, 'time-series dataset is not long enough'\n",
    "    \n",
    "    i=start_idx\n",
    "    while i <= end_idx:\n",
    "        history_sequence.append(history_data[range(i, i+history_size, step)])\n",
    "        if prediction_size == 1:\n",
    "            target_sequence.append(target_data[i+history_size])\n",
    "            sp_sequence.append(sp_data[i+history_size])\n",
    "        else:\n",
    "            target_sequence.append(target_data[i+history_size : i+history_size+prediction_size : step])\n",
    "            sp_sequence.append(sp_data[i+history_size : i+history_size+prediction_size : step])\n",
    "        i+=stride\n",
    "    \n",
    "    encoder_input = np.array(history_sequence)\n",
    "    decoder_input = np.array(sp_sequence)\n",
    "    decoder_output = np.array(target_sequence)\n",
    "    \n",
    "    return encoder_input, decoder_input, decoder_output"
   ]
  },
  {
   "cell_type": "markdown",
   "id": "0a865b54",
   "metadata": {},
   "source": [
    "## V2\n",
    "\n",
    "기준이 $t$에서 시작"
   ]
  },
  {
   "cell_type": "code",
   "execution_count": null,
   "id": "4fc23977",
   "metadata": {},
   "outputs": [],
   "source": [
    "def data2sequence(dataframe, \n",
    "                  set_points, process_vars,\n",
    "                  history_size, prediction_size, \n",
    "                  step=1, start_idx=0, end_idx=None,\n",
    "                  stride=1):\n",
    "    \n",
    "    history_inputs = set_points + process_vars\n",
    "    target_outputs = process_vars\n",
    "        \n",
    "    history_data = dataframe[history_inputs].values\n",
    "    target_data = dataframe[target_outputs].values\n",
    "    sp_data = dataframe[set_points].values\n",
    "    \n",
    "    history_sequence = []\n",
    "    target_sequence = []\n",
    "    sp_sequence = []\n",
    "    \n",
    "    start_idx = start_idx + history_size # target step t+1\n",
    "    \n",
    "    if end_idx is None:\n",
    "        end_idx = len(dataframe) - prediction_size\n",
    "    else:\n",
    "        end_idx = end_idx - prediction_size\n",
    "    assert start_idx >= 0, 'start_idx is under 0'\n",
    "    assert end_idx >=0, 'end_idx is under 0'\n",
    "    \n",
    "    i = start_idx\n",
    "    while i <= end_idx:\n",
    "        history_sequence.append(history_data[range(i-history_size, i, step)])\n",
    "        if prediction_size == 1:\n",
    "            target_sequence.append(target_data[i])\n",
    "            sp_sequence.append(sp_data[i])\n",
    "        else:\n",
    "            target_sequence.append(target_data[i : i+prediction_size : step])\n",
    "            sp_sequence.append(sp_data[i : i+prediction_size : step])\n",
    "        i+=stride\n",
    "    \n",
    "    encoder_input = np.array(history_sequence)\n",
    "    decoder_input = np.array(sp_sequence)\n",
    "    decoder_output = np.array(target_sequence)\n",
    "    \n",
    "    return encoder_input, decoder_input, decoder_output"
   ]
  },
  {
   "cell_type": "markdown",
   "id": "6ecbed0d",
   "metadata": {},
   "source": [
    "# RNN model"
   ]
  },
  {
   "cell_type": "markdown",
   "id": "160fe96f",
   "metadata": {},
   "source": [
    "## V1\n",
    "\n",
    "**input**: process variables and set points from $t-N+1$ to $t$ and set point at $t+1$\n",
    "\n",
    "**outpu**t: process variables at $t+1$"
   ]
  },
  {
   "cell_type": "code",
   "execution_count": null,
   "id": "f9d711f1",
   "metadata": {},
   "outputs": [],
   "source": [
    "def Seq2VecLSTM(\n",
    "    history_size, history_dim, \n",
    "    prediction_size, prediction_dim,\n",
    "    rnn_neurons = [100], dense_neurons = [100]\n",
    "):\n",
    "    encoder_input = Input(shape=(history_size, history_dim))\n",
    "    \n",
    "    # encoder module\n",
    "    if len(rnn_neurons) == 1:\n",
    "        encoder_output, state_h, state_c = LSTM(rnn_neurons[0], return_state=True, name='encoder')(encoder_input)\n",
    "        encoder_states = [state_h, state_c]\n",
    "        \n",
    "    else:\n",
    "        num_layers = len(rnn_neurons)\n",
    "        for i, neurons in enumerate(rnn_neurons):\n",
    "            #first encoder layer\n",
    "            if i==0: \n",
    "                encoder_output = LSTM(neurons, return_sequences=True, name=\"first_encoder\")(encoder_input)\n",
    "            #mediate encoder layer\n",
    "            elif i < num_layers-1: \n",
    "                encoder_output = LSTM(neurons, return_sequences=True, name=f\"encoder_{i+1}\")(encoder_output)\n",
    "            #last encoder layer\n",
    "            else: \n",
    "                encoder_output, state_h, state_c  = LSTM(neurons, return_state=True, name=f\"last_encoder\")(encoder_output)\n",
    "                encoder_states = [state_h, state_c]\n",
    "    \n",
    "    # context + set_point\n",
    "    sp_input = Input(shape=(history_dim-prediction_dim))\n",
    "    combined_input = concatenate([encoder_output, sp_input])\n",
    "    \n",
    "    # dense module\n",
    "    if len(dense_neurons) == 1:\n",
    "        dense_output = Dense(prediction_dim, name='dense')(combined_input)\n",
    "        dense_output = Dense(prediction_dim, name='last_dense')(dense_output)\n",
    "    else:\n",
    "        num_layers = len(dense_neurons)\n",
    "        for i, neurons in enumerate(dense_neurons):\n",
    "            #first dense layer\n",
    "            if i==0:\n",
    "                dense_output = Dense(neurons, name='first_dense')(combined_input)\n",
    "            #mediate encoder layer\n",
    "            else:\n",
    "                dense_output = Dense(neurons, name=f'dense_{i+1}')(dense_output)\n",
    "        dense_output = Dense(prediction_dim, name=f'last_dense')(dense_output)  \n",
    "    \n",
    "    # model compile\n",
    "    model = Model([encoder_input, sp_input], dense_output)\n",
    "    optimizer = keras.optimizers.Adam(learning_rate = 0.001, beta_1=0.9, beta_2=0.999)\n",
    "    model.compile(loss='mse', optimizer = optimizer)\n",
    "    \n",
    "    return model"
   ]
  },
  {
   "cell_type": "markdown",
   "id": "b21e349a",
   "metadata": {},
   "source": [
    "## V2\n",
    "\n",
    "**input**: process variables and set points from $t-N+1$ to $t$\n",
    "\n",
    "**outpu**t: process variables at $t+1$"
   ]
  },
  {
   "cell_type": "code",
   "execution_count": null,
   "id": "5ae8cb48",
   "metadata": {},
   "outputs": [],
   "source": []
  }
 ],
 "metadata": {
  "kernelspec": {
   "display_name": "Dual Attention",
   "language": "python",
   "name": "dualattn"
  },
  "language_info": {
   "codemirror_mode": {
    "name": "ipython",
    "version": 3
   },
   "file_extension": ".py",
   "mimetype": "text/x-python",
   "name": "python",
   "nbconvert_exporter": "python",
   "pygments_lexer": "ipython3",
   "version": "3.7.13"
  },
  "toc": {
   "base_numbering": 1,
   "nav_menu": {},
   "number_sections": true,
   "sideBar": true,
   "skip_h1_title": false,
   "title_cell": "Table of Contents",
   "title_sidebar": "Contents",
   "toc_cell": false,
   "toc_position": {},
   "toc_section_display": true,
   "toc_window_display": false
  }
 },
 "nbformat": 4,
 "nbformat_minor": 5
}
