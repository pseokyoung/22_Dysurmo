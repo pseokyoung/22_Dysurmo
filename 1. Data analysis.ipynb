{
 "cells": [
  {
   "cell_type": "code",
   "execution_count": 1,
   "id": "be927173",
   "metadata": {
    "ExecuteTime": {
     "end_time": "2022-09-19T08:32:15.350249Z",
     "start_time": "2022-09-19T08:32:05.245531Z"
    }
   },
   "outputs": [],
   "source": [
    "import pandas as pd\n",
    "import numpy as np\n",
    "import matplotlib.pyplot as plt"
   ]
  },
  {
   "cell_type": "code",
   "execution_count": 2,
   "id": "29167d4b",
   "metadata": {
    "ExecuteTime": {
     "end_time": "2022-09-19T08:32:53.644680Z",
     "start_time": "2022-09-19T08:32:15.354241Z"
    }
   },
   "outputs": [
    {
     "data": {
      "text/plain": [
       "[name: \"/device:CPU:0\"\n",
       " device_type: \"CPU\"\n",
       " memory_limit: 268435456\n",
       " locality {\n",
       " }\n",
       " incarnation: 17912433616008013187\n",
       " xla_global_id: -1,\n",
       " name: \"/device:GPU:0\"\n",
       " device_type: \"GPU\"\n",
       " memory_limit: 6252920832\n",
       " locality {\n",
       "   bus_id: 1\n",
       "   links {\n",
       "   }\n",
       " }\n",
       " incarnation: 7352681830963647806\n",
       " physical_device_desc: \"device: 0, name: NVIDIA GeForce RTX 2080 SUPER, pci bus id: 0000:01:00.0, compute capability: 7.5\"\n",
       " xla_global_id: 416903419]"
      ]
     },
     "execution_count": 2,
     "metadata": {},
     "output_type": "execute_result"
    }
   ],
   "source": [
    "import tensorflow as tf\n",
    "from tensorflow import keras\n",
    "from tensorflow.keras.layers import *\n",
    "from keras.models import Model\n",
    "\n",
    "from tensorflow.python.client import device_lib\n",
    "device_lib.list_local_devices()"
   ]
  },
  {
   "cell_type": "code",
   "execution_count": 3,
   "id": "c483d209",
   "metadata": {
    "ExecuteTime": {
     "end_time": "2022-09-19T08:32:53.659518Z",
     "start_time": "2022-09-19T08:32:53.645679Z"
    }
   },
   "outputs": [],
   "source": [
    "random_state = 1"
   ]
  },
  {
   "cell_type": "markdown",
   "id": "e5d298ac",
   "metadata": {},
   "source": [
    "# data load"
   ]
  },
  {
   "cell_type": "code",
   "execution_count": 4,
   "id": "47c68443",
   "metadata": {
    "ExecuteTime": {
     "end_time": "2022-09-19T08:32:53.959924Z",
     "start_time": "2022-09-19T08:32:53.662511Z"
    }
   },
   "outputs": [],
   "source": [
    "data_1 = pd.read_csv('./data/raw_data.csv')\n",
    "# data_2 = pd.read_csv('./data/raw_data2.csv')\n",
    "\n",
    "data_1 = data_1.dropna(axis=1, how='all') #결측치 열 삭제\n",
    "# data_2 = data_2.dropna(axis=1, how='all') #결측치 열 삭제"
   ]
  },
  {
   "cell_type": "code",
   "execution_count": 5,
   "id": "cbdf459f",
   "metadata": {
    "ExecuteTime": {
     "end_time": "2022-09-19T08:32:53.990050Z",
     "start_time": "2022-09-19T08:32:53.960823Z"
    }
   },
   "outputs": [
    {
     "name": "stdout",
     "output_type": "stream",
     "text": [
      "<class 'pandas.core.frame.DataFrame'>\n",
      "RangeIndex: 70000 entries, 0 to 69999\n",
      "Data columns (total 23 columns):\n",
      " #   Column          Non-Null Count  Dtype  \n",
      "---  ------          --------------  -----  \n",
      " 0   Unnamed: 0      70000 non-null  int64  \n",
      " 1   PC1_SP          70000 non-null  float64\n",
      " 2   PC2_SP          70000 non-null  float64\n",
      " 3   FC_SP           70000 non-null  int64  \n",
      " 4   TC_SP           70000 non-null  float64\n",
      " 5   TC2_SP          70000 non-null  float64\n",
      " 6   RR1_SP          70000 non-null  float64\n",
      " 7   RR2_SP          70000 non-null  float64\n",
      " 8   TCF             70000 non-null  float64\n",
      " 9   PC1             70000 non-null  float64\n",
      " 10  PC2             70000 non-null  float64\n",
      " 11  TC1             70000 non-null  float64\n",
      " 12  TC2             70000 non-null  float64\n",
      " 13  Column1 D       70000 non-null  float64\n",
      " 14  Column2 D       70000 non-null  float64\n",
      " 15  Column1 reflux  70000 non-null  float64\n",
      " 16  Column2 reflux  70000 non-null  float64\n",
      " 17  Column1 B       70000 non-null  float64\n",
      " 18  Column2 B       70000 non-null  float64\n",
      " 19  Column1 Qcond   70000 non-null  float64\n",
      " 20  Column2 Qcond   70000 non-null  float64\n",
      " 21  Column1 Qreb    70000 non-null  float64\n",
      " 22  Column2 Qreb    70000 non-null  float64\n",
      "dtypes: float64(21), int64(2)\n",
      "memory usage: 12.3 MB\n"
     ]
    }
   ],
   "source": [
    "data_1.info()"
   ]
  },
  {
   "cell_type": "markdown",
   "id": "9d45daa9",
   "metadata": {},
   "source": [
    "## train/test split"
   ]
  },
  {
   "cell_type": "code",
   "execution_count": 6,
   "id": "c265f40d",
   "metadata": {
    "ExecuteTime": {
     "end_time": "2022-09-19T08:32:54.005020Z",
     "start_time": "2022-09-19T08:32:53.991046Z"
    }
   },
   "outputs": [
    {
     "name": "stdout",
     "output_type": "stream",
     "text": [
      "data_train: (63000, 23)\n",
      "data_test: (7000, 23)\n"
     ]
    }
   ],
   "source": [
    "test_ratio = 0.1\n",
    "\n",
    "data_size = len(data_1)\n",
    "test_size = int(data_size*test_ratio)\n",
    "data_train = data_1[:-test_size]\n",
    "data_test = data_1[-test_size:]\n",
    "\n",
    "print(\"data_train:\", data_train.shape)\n",
    "print(\"data_test:\", data_test.shape)"
   ]
  },
  {
   "cell_type": "markdown",
   "id": "4742d9e1",
   "metadata": {},
   "source": [
    "## variables"
   ]
  },
  {
   "cell_type": "code",
   "execution_count": 7,
   "id": "7657a2d3",
   "metadata": {
    "ExecuteTime": {
     "end_time": "2022-09-19T08:32:54.020080Z",
     "start_time": "2022-09-19T08:32:54.006006Z"
    }
   },
   "outputs": [],
   "source": [
    "set_points = ['PC1_SP', 'PC2_SP', 'FC_SP', 'TC_SP', 'TC2_SP', \n",
    "              'RR1_SP', 'RR2_SP', 'TCF']\n",
    "process_vars = ['PC1', 'PC2', 'TC1', 'TC2', 'Column1 D', 'Column2 D',\n",
    "                'Column1 reflux', 'Column2 reflux', 'Column1 B', 'Column2 B',\n",
    "                'Column1 Qcond', 'Column2 Qcond', 'Column1 Qreb', 'Column2 Qreb']"
   ]
  },
  {
   "cell_type": "markdown",
   "id": "09392158",
   "metadata": {},
   "source": [
    "## data scaling"
   ]
  },
  {
   "cell_type": "code",
   "execution_count": 8,
   "id": "18c98cb5",
   "metadata": {
    "ExecuteTime": {
     "end_time": "2022-09-19T08:32:54.080885Z",
     "start_time": "2022-09-19T08:32:54.021081Z"
    }
   },
   "outputs": [],
   "source": [
    "# select data considered\n",
    "all_vars = set_points + process_vars\n",
    "\n",
    "df_train = data_train[all_vars]\n",
    "df_test = data_test[all_vars]\n",
    "\n",
    "# Obtain mean and std\n",
    "mean = df_train.mean(axis=0)\n",
    "std = df_train.std(axis=0)\n",
    "\n",
    "# scaled dataset\n",
    "df_train_sc = (df_train-mean)/std\n",
    "df_test_sc = (df_test-mean)/std"
   ]
  },
  {
   "cell_type": "markdown",
   "id": "d7c472c4",
   "metadata": {},
   "source": [
    "## data to sequence\n",
    "\n",
    "**encoder_input**: history of `set points` and `process variables`\n",
    "\n",
    "**decoder_input**: future `set points`\n",
    "\n",
    "**decoder_output**: prediction of future `process variables`"
   ]
  },
  {
   "cell_type": "code",
   "execution_count": 9,
   "id": "8c36017e",
   "metadata": {
    "ExecuteTime": {
     "end_time": "2022-09-19T08:32:54.095762Z",
     "start_time": "2022-09-19T08:32:54.081784Z"
    }
   },
   "outputs": [],
   "source": [
    "def data2sequence(dataframe, \n",
    "                  set_points, process_vars,\n",
    "                  history_size, prediction_size, \n",
    "                  step=1, start_idx=0, end_idx=None,\n",
    "                  stride=1):\n",
    "    \n",
    "    history_inputs = set_points + process_vars\n",
    "    target_outputs = process_vars\n",
    "        \n",
    "    history_data = dataframe[history_inputs].values\n",
    "    target_data = dataframe[target_outputs].values\n",
    "    sp_data = dataframe[set_points].values\n",
    "    \n",
    "    history_sequence = []\n",
    "    target_sequence = []\n",
    "    sp_sequence = []\n",
    "    \n",
    "    start_idx = start_idx + history_size # target step t+1\n",
    "    \n",
    "    if end_idx is None:\n",
    "        end_idx = len(dataframe) - prediction_size\n",
    "    else:\n",
    "        end_idx = end_idx - prediction_size\n",
    "    assert start_idx >= 0, 'start_idx is under 0'\n",
    "    assert end_idx >=0, 'end_idx is under 0'\n",
    "    \n",
    "    i = start_idx\n",
    "    while i <= end_idx:\n",
    "        history_sequence.append(history_data[range(i-history_size, i, step)])\n",
    "        if prediction_size == 1:\n",
    "            target_sequence.append(target_data[i])\n",
    "            sp_sequence.append(sp_data[i])\n",
    "        else:\n",
    "            target_sequence.append(target_data[i : i+prediction_size : step])\n",
    "            sp_sequence.append(sp_data[i : i+prediction_size : step])\n",
    "        i+=stride\n",
    "    \n",
    "    encoder_input = np.array(history_sequence)\n",
    "    decoder_input = np.array(sp_sequence)\n",
    "    decoder_output = np.array(target_sequence)\n",
    "    \n",
    "    return encoder_input, decoder_input, decoder_output"
   ]
  },
  {
   "cell_type": "markdown",
   "id": "dacd9eab",
   "metadata": {},
   "source": [
    "# single-step ahead prediction"
   ]
  },
  {
   "cell_type": "code",
   "execution_count": 44,
   "id": "6e0ac01a",
   "metadata": {
    "ExecuteTime": {
     "end_time": "2022-09-19T11:27:13.413849Z",
     "start_time": "2022-09-19T11:27:13.092571Z"
    }
   },
   "outputs": [
    {
     "name": "stdout",
     "output_type": "stream",
     "text": [
      "Train dataset\n",
      "encoder_input: (62900, 100, 22)\n",
      "decoder_input: (0,)\n",
      "decoder_output: (62900, 14)\n",
      "\n"
     ]
    }
   ],
   "source": [
    "history_size = 100\n",
    "prediction_size = 1\n",
    "stride = 1\n",
    "\n",
    "encoder_input, decoder_input, decoder_output = data2sequence(df_train_sc, \n",
    "                                                             set_points, process_vars,\n",
    "                                                             history_size, prediction_size,\n",
    "                                                             stride=stride)\n",
    "print(\"Train dataset\")\n",
    "print(\"encoder_input:\", encoder_input.shape)\n",
    "print(\"decoder_input:\", decoder_input.shape)\n",
    "print(\"decoder_output:\", decoder_output.shape)\n",
    "print(\"\")"
   ]
  },
  {
   "cell_type": "markdown",
   "id": "7e026799",
   "metadata": {},
   "source": [
    "## RNN model\n",
    "\n",
    "> **squence-to-vector learning** <br>\n",
    "> input sequence: (sample_size, history_size, # of input_vars) <br>\n",
    "> output sequence: (sample_size, # of output_vars)"
   ]
  },
  {
   "cell_type": "code",
   "execution_count": 45,
   "id": "2233f4b3",
   "metadata": {
    "ExecuteTime": {
     "end_time": "2022-09-19T11:27:13.595350Z",
     "start_time": "2022-09-19T11:27:13.585377Z"
    }
   },
   "outputs": [],
   "source": [
    "def Seq2VecLSTM(\n",
    "    history_size, history_dim, \n",
    "    prediction_size, prediction_dim,\n",
    "    rnn_neurons = [100], dense_neurons = [100]\n",
    "):\n",
    "    encoder_input = Input(shape=(history_size, history_dim), name='input_encoder')\n",
    "    \n",
    "    # encoder module\n",
    "    if len(rnn_neurons) == 1:\n",
    "        encoder_output, state_h, state_c = LSTM(rnn_neurons[0], return_state=True, name='encoder')(encoder_input)\n",
    "        encoder_states = [state_h, state_c]\n",
    "        \n",
    "    else:\n",
    "        num_layers = len(rnn_neurons)\n",
    "        for i, neurons in enumerate(rnn_neurons):\n",
    "            #first encoder layer\n",
    "            if i==0: \n",
    "                encoder_output = LSTM(neurons, return_sequences=True, name=\"encoder_1\")(encoder_input)\n",
    "            #mediate encoder layer\n",
    "            elif i < num_layers-1: \n",
    "                encoder_output = LSTM(neurons, return_sequences=True, name=f\"encoder_{i+1}\")(encoder_output)\n",
    "            #last encoder layer\n",
    "            else: \n",
    "                encoder_output, _, _  = LSTM(neurons, return_state=True, name=f\"encoder_last\")(encoder_output)\n",
    "    \n",
    "    # dense module\n",
    "    if len(dense_neurons) == 1:\n",
    "        dense_output = Dense(dense_neurons[0], name='dense')(encoder_output)\n",
    "        dense_output = Dense(prediction_dim, name='dense_last')(dense_output)\n",
    "    else:\n",
    "        num_layers = len(dense_neurons)\n",
    "        for i, neurons in enumerate(dense_neurons):\n",
    "            #first dense layer\n",
    "            if i==0:\n",
    "                dense_output = Dense(neurons, name='dense_1')(encoder_output)\n",
    "            #mediate encoder layer\n",
    "            else:\n",
    "                dense_output = Dense(neurons, name=f'dense_{i+1}')(dense_output)\n",
    "        dense_output = Dense(prediction_dim, name=f'dense_last')(dense_output)  \n",
    "    \n",
    "    # model compile\n",
    "    model = Model(encoder_input, dense_output)\n",
    "    optimizer = keras.optimizers.Adam(learning_rate = 0.001, beta_1=0.9, beta_2=0.999)\n",
    "    model.compile(loss='mse', optimizer = optimizer)\n",
    "    \n",
    "    return model"
   ]
  },
  {
   "cell_type": "markdown",
   "id": "56ad901a",
   "metadata": {},
   "source": [
    "bulid model"
   ]
  },
  {
   "cell_type": "code",
   "execution_count": 46,
   "id": "567f9140",
   "metadata": {
    "ExecuteTime": {
     "end_time": "2022-09-19T11:27:14.923004Z",
     "start_time": "2022-09-19T11:27:14.574206Z"
    }
   },
   "outputs": [
    {
     "name": "stdout",
     "output_type": "stream",
     "text": [
      "Model: \"model_8\"\n",
      "_________________________________________________________________\n",
      " Layer (type)                Output Shape              Param #   \n",
      "=================================================================\n",
      " input_encoder (InputLayer)  [(None, 100, 22)]         0         \n",
      "                                                                 \n",
      " encoder_1 (LSTM)            (None, 100, 100)          49200     \n",
      "                                                                 \n",
      " encoder_last (LSTM)         [(None, 10),              4440      \n",
      "                              (None, 10),                        \n",
      "                              (None, 10)]                        \n",
      "                                                                 \n",
      " dense_1 (Dense)             (None, 100)               1100      \n",
      "                                                                 \n",
      " dense_2 (Dense)             (None, 10)                1010      \n",
      "                                                                 \n",
      " dense_last (Dense)          (None, 14)                154       \n",
      "                                                                 \n",
      "=================================================================\n",
      "Total params: 55,904\n",
      "Trainable params: 55,904\n",
      "Non-trainable params: 0\n",
      "_________________________________________________________________\n"
     ]
    }
   ],
   "source": [
    "history_dim = len(set_points+process_vars)\n",
    "prediction_dim = len(process_vars)\n",
    "rnn_neurons = [100, 10]\n",
    "dense_neurons = [100, 10]\n",
    "\n",
    "rnn_model = Seq2VecLSTM(history_size, history_dim,\n",
    "                        prediction_size, prediction_dim,\n",
    "                        rnn_neurons = rnn_neurons, dense_neurons = dense_neurons\n",
    ")\n",
    "\n",
    "rnn_model.summary()"
   ]
  },
  {
   "cell_type": "markdown",
   "id": "cfd7d8da",
   "metadata": {},
   "source": [
    "model training"
   ]
  },
  {
   "cell_type": "code",
   "execution_count": 47,
   "id": "2551ff78",
   "metadata": {
    "ExecuteTime": {
     "end_time": "2022-09-19T11:27:15.832785Z",
     "start_time": "2022-09-19T11:27:15.814808Z"
    }
   },
   "outputs": [],
   "source": [
    "import os\n",
    "\n",
    "def exists(path):\n",
    "    istrue = os.path.exists(path)\n",
    "    return istrue\n",
    "\n",
    "def createfolder(path):\n",
    "    if not exists(path):\n",
    "        os.makedirs(path)"
   ]
  },
  {
   "cell_type": "code",
   "execution_count": 48,
   "id": "1b00ada5",
   "metadata": {
    "ExecuteTime": {
     "end_time": "2022-09-19T11:36:41.923830Z",
     "start_time": "2022-09-19T11:27:16.465603Z"
    },
    "scrolled": true
   },
   "outputs": [
    {
     "name": "stdout",
     "output_type": "stream",
     "text": [
      "Epoch 1/10000\n",
      "394/394 - 8s - loss: 0.1883 - val_loss: 0.0485 - 8s/epoch - 21ms/step\n",
      "Epoch 2/10000\n",
      "394/394 - 5s - loss: 0.0317 - val_loss: 0.0247 - 5s/epoch - 12ms/step\n",
      "Epoch 3/10000\n",
      "394/394 - 4s - loss: 0.0192 - val_loss: 0.0194 - 4s/epoch - 11ms/step\n",
      "Epoch 4/10000\n",
      "394/394 - 5s - loss: 0.0169 - val_loss: 0.0173 - 5s/epoch - 12ms/step\n",
      "Epoch 5/10000\n",
      "394/394 - 4s - loss: 0.0159 - val_loss: 0.0166 - 4s/epoch - 11ms/step\n",
      "Epoch 6/10000\n",
      "394/394 - 5s - loss: 0.0154 - val_loss: 0.0164 - 5s/epoch - 12ms/step\n",
      "Epoch 7/10000\n",
      "394/394 - 5s - loss: 0.0150 - val_loss: 0.0149 - 5s/epoch - 11ms/step\n",
      "Epoch 8/10000\n",
      "394/394 - 5s - loss: 0.0147 - val_loss: 0.0150 - 5s/epoch - 12ms/step\n",
      "Epoch 9/10000\n",
      "394/394 - 4s - loss: 0.0145 - val_loss: 0.0143 - 4s/epoch - 11ms/step\n",
      "Epoch 10/10000\n",
      "394/394 - 5s - loss: 0.0143 - val_loss: 0.0143 - 5s/epoch - 12ms/step\n",
      "Epoch 11/10000\n",
      "394/394 - 5s - loss: 0.0140 - val_loss: 0.0141 - 5s/epoch - 12ms/step\n",
      "Epoch 12/10000\n",
      "394/394 - 5s - loss: 0.0138 - val_loss: 0.0141 - 5s/epoch - 12ms/step\n",
      "Epoch 13/10000\n",
      "394/394 - 5s - loss: 0.0135 - val_loss: 0.0135 - 5s/epoch - 12ms/step\n",
      "Epoch 14/10000\n",
      "394/394 - 5s - loss: 0.0130 - val_loss: 0.0133 - 5s/epoch - 12ms/step\n",
      "Epoch 15/10000\n",
      "394/394 - 5s - loss: 0.0126 - val_loss: 0.0133 - 5s/epoch - 12ms/step\n",
      "Epoch 16/10000\n",
      "394/394 - 5s - loss: 0.0123 - val_loss: 0.0131 - 5s/epoch - 12ms/step\n",
      "Epoch 17/10000\n",
      "394/394 - 5s - loss: 0.0121 - val_loss: 0.0130 - 5s/epoch - 12ms/step\n",
      "Epoch 18/10000\n",
      "394/394 - 5s - loss: 0.0119 - val_loss: 0.0127 - 5s/epoch - 12ms/step\n",
      "Epoch 19/10000\n",
      "394/394 - 5s - loss: 0.0118 - val_loss: 0.0131 - 5s/epoch - 12ms/step\n",
      "Epoch 20/10000\n",
      "394/394 - 5s - loss: 0.0118 - val_loss: 0.0127 - 5s/epoch - 12ms/step\n",
      "Epoch 21/10000\n",
      "394/394 - 5s - loss: 0.0117 - val_loss: 0.0128 - 5s/epoch - 12ms/step\n",
      "Epoch 22/10000\n",
      "394/394 - 5s - loss: 0.0117 - val_loss: 0.0127 - 5s/epoch - 12ms/step\n",
      "Epoch 23/10000\n",
      "394/394 - 5s - loss: 0.0117 - val_loss: 0.0155 - 5s/epoch - 11ms/step\n",
      "Epoch 24/10000\n",
      "394/394 - 5s - loss: 0.0118 - val_loss: 0.0129 - 5s/epoch - 12ms/step\n",
      "Epoch 25/10000\n",
      "394/394 - 5s - loss: 0.0116 - val_loss: 0.0125 - 5s/epoch - 11ms/step\n",
      "Epoch 26/10000\n",
      "394/394 - 4s - loss: 0.0116 - val_loss: 0.0125 - 4s/epoch - 11ms/step\n",
      "Epoch 27/10000\n",
      "394/394 - 4s - loss: 0.0116 - val_loss: 0.0126 - 4s/epoch - 11ms/step\n",
      "Epoch 28/10000\n",
      "394/394 - 4s - loss: 0.0116 - val_loss: 0.0125 - 4s/epoch - 11ms/step\n",
      "Epoch 29/10000\n",
      "394/394 - 5s - loss: 0.0116 - val_loss: 0.0129 - 5s/epoch - 11ms/step\n",
      "Epoch 30/10000\n",
      "394/394 - 4s - loss: 0.0116 - val_loss: 0.0125 - 4s/epoch - 11ms/step\n",
      "Epoch 31/10000\n",
      "394/394 - 4s - loss: 0.0116 - val_loss: 0.0125 - 4s/epoch - 11ms/step\n",
      "Epoch 32/10000\n",
      "394/394 - 4s - loss: 0.0116 - val_loss: 0.0126 - 4s/epoch - 11ms/step\n",
      "Epoch 33/10000\n",
      "394/394 - 5s - loss: 0.0116 - val_loss: 0.0150 - 5s/epoch - 11ms/step\n",
      "Epoch 34/10000\n",
      "394/394 - 4s - loss: 0.0117 - val_loss: 0.0125 - 4s/epoch - 11ms/step\n",
      "Epoch 35/10000\n",
      "394/394 - 4s - loss: 0.0115 - val_loss: 0.0126 - 4s/epoch - 11ms/step\n",
      "Epoch 36/10000\n",
      "394/394 - 4s - loss: 0.0115 - val_loss: 0.0126 - 4s/epoch - 11ms/step\n",
      "Epoch 37/10000\n",
      "394/394 - 5s - loss: 0.0115 - val_loss: 0.0128 - 5s/epoch - 11ms/step\n",
      "Epoch 38/10000\n",
      "394/394 - 5s - loss: 0.0115 - val_loss: 0.0126 - 5s/epoch - 12ms/step\n",
      "Epoch 39/10000\n",
      "394/394 - 4s - loss: 0.0115 - val_loss: 0.0125 - 4s/epoch - 11ms/step\n",
      "Epoch 40/10000\n",
      "394/394 - 4s - loss: 0.0115 - val_loss: 0.0127 - 4s/epoch - 11ms/step\n",
      "Epoch 41/10000\n",
      "394/394 - 5s - loss: 0.0115 - val_loss: 0.0127 - 5s/epoch - 12ms/step\n",
      "Epoch 42/10000\n",
      "394/394 - 5s - loss: 0.0115 - val_loss: 0.0124 - 5s/epoch - 11ms/step\n",
      "Epoch 43/10000\n",
      "394/394 - 5s - loss: 0.0115 - val_loss: 0.0124 - 5s/epoch - 11ms/step\n",
      "Epoch 44/10000\n",
      "394/394 - 4s - loss: 0.0115 - val_loss: 0.0126 - 4s/epoch - 11ms/step\n",
      "Epoch 45/10000\n",
      "394/394 - 5s - loss: 0.0115 - val_loss: 0.0126 - 5s/epoch - 11ms/step\n",
      "Epoch 46/10000\n",
      "394/394 - 5s - loss: 0.0115 - val_loss: 0.0134 - 5s/epoch - 11ms/step\n",
      "Epoch 47/10000\n",
      "394/394 - 5s - loss: 0.0115 - val_loss: 0.0124 - 5s/epoch - 11ms/step\n",
      "Epoch 48/10000\n",
      "394/394 - 5s - loss: 0.0115 - val_loss: 0.0125 - 5s/epoch - 12ms/step\n",
      "Epoch 49/10000\n",
      "394/394 - 5s - loss: 0.0114 - val_loss: 0.0127 - 5s/epoch - 12ms/step\n",
      "Epoch 50/10000\n",
      "394/394 - 5s - loss: 0.0114 - val_loss: 0.0125 - 5s/epoch - 12ms/step\n",
      "Epoch 51/10000\n",
      "394/394 - 5s - loss: 0.0114 - val_loss: 0.0127 - 5s/epoch - 12ms/step\n",
      "Epoch 52/10000\n",
      "394/394 - 5s - loss: 0.0115 - val_loss: 0.0124 - 5s/epoch - 12ms/step\n",
      "Epoch 53/10000\n",
      "394/394 - 5s - loss: 0.0114 - val_loss: 0.0125 - 5s/epoch - 12ms/step\n",
      "Epoch 54/10000\n",
      "394/394 - 5s - loss: 0.0115 - val_loss: 0.0124 - 5s/epoch - 12ms/step\n",
      "Epoch 55/10000\n",
      "394/394 - 5s - loss: 0.0114 - val_loss: 0.0125 - 5s/epoch - 12ms/step\n",
      "Epoch 56/10000\n",
      "394/394 - 5s - loss: 0.0114 - val_loss: 0.0125 - 5s/epoch - 12ms/step\n",
      "Epoch 57/10000\n",
      "394/394 - 4s - loss: 0.0114 - val_loss: 0.0128 - 4s/epoch - 11ms/step\n",
      "Epoch 58/10000\n",
      "394/394 - 5s - loss: 0.0114 - val_loss: 0.0125 - 5s/epoch - 11ms/step\n",
      "Epoch 59/10000\n",
      "394/394 - 4s - loss: 0.0114 - val_loss: 0.0128 - 4s/epoch - 11ms/step\n",
      "Epoch 60/10000\n",
      "394/394 - 4s - loss: 0.0114 - val_loss: 0.0124 - 4s/epoch - 11ms/step\n",
      "Epoch 61/10000\n",
      "394/394 - 4s - loss: 0.0114 - val_loss: 0.0125 - 4s/epoch - 11ms/step\n",
      "Epoch 62/10000\n",
      "394/394 - 4s - loss: 0.0114 - val_loss: 0.0123 - 4s/epoch - 11ms/step\n",
      "Epoch 63/10000\n",
      "394/394 - 4s - loss: 0.0114 - val_loss: 0.0124 - 4s/epoch - 11ms/step\n",
      "Epoch 64/10000\n",
      "394/394 - 4s - loss: 0.0114 - val_loss: 0.0133 - 4s/epoch - 11ms/step\n",
      "Epoch 65/10000\n",
      "394/394 - 5s - loss: 0.0115 - val_loss: 0.0126 - 5s/epoch - 12ms/step\n",
      "Epoch 66/10000\n",
      "394/394 - 5s - loss: 0.0114 - val_loss: 0.0126 - 5s/epoch - 12ms/step\n",
      "Epoch 67/10000\n",
      "394/394 - 5s - loss: 0.0114 - val_loss: 0.0125 - 5s/epoch - 12ms/step\n",
      "Epoch 68/10000\n",
      "394/394 - 5s - loss: 0.0114 - val_loss: 0.0152 - 5s/epoch - 11ms/step\n",
      "Epoch 69/10000\n",
      "394/394 - 5s - loss: 0.0115 - val_loss: 0.0126 - 5s/epoch - 12ms/step\n",
      "Epoch 70/10000\n",
      "394/394 - 5s - loss: 0.0114 - val_loss: 0.0124 - 5s/epoch - 12ms/step\n",
      "Epoch 71/10000\n",
      "394/394 - 5s - loss: 0.0114 - val_loss: 0.0125 - 5s/epoch - 12ms/step\n",
      "Epoch 72/10000\n",
      "394/394 - 5s - loss: 0.0114 - val_loss: 0.0125 - 5s/epoch - 12ms/step\n",
      "Epoch 73/10000\n",
      "394/394 - 5s - loss: 0.0114 - val_loss: 0.0126 - 5s/epoch - 12ms/step\n",
      "Epoch 74/10000\n",
      "394/394 - 5s - loss: 0.0114 - val_loss: 0.0124 - 5s/epoch - 12ms/step\n",
      "Epoch 75/10000\n",
      "394/394 - 5s - loss: 0.0114 - val_loss: 0.0124 - 5s/epoch - 12ms/step\n",
      "Epoch 76/10000\n",
      "394/394 - 5s - loss: 0.0114 - val_loss: 0.0124 - 5s/epoch - 12ms/step\n",
      "Epoch 77/10000\n",
      "394/394 - 5s - loss: 0.0114 - val_loss: 0.0135 - 5s/epoch - 12ms/step\n",
      "Epoch 78/10000\n",
      "394/394 - 5s - loss: 0.0114 - val_loss: 0.0124 - 5s/epoch - 12ms/step\n",
      "Epoch 79/10000\n",
      "394/394 - 5s - loss: 0.0114 - val_loss: 0.0124 - 5s/epoch - 11ms/step\n",
      "Epoch 80/10000\n",
      "394/394 - 4s - loss: 0.0113 - val_loss: 0.0124 - 4s/epoch - 11ms/step\n",
      "Epoch 81/10000\n",
      "394/394 - 4s - loss: 0.0114 - val_loss: 0.0126 - 4s/epoch - 11ms/step\n",
      "Epoch 82/10000\n",
      "394/394 - 4s - loss: 0.0114 - val_loss: 0.0123 - 4s/epoch - 11ms/step\n",
      "Epoch 83/10000\n",
      "394/394 - 5s - loss: 0.0114 - val_loss: 0.0126 - 5s/epoch - 11ms/step\n",
      "Epoch 84/10000\n",
      "394/394 - 5s - loss: 0.0114 - val_loss: 0.0123 - 5s/epoch - 11ms/step\n",
      "Epoch 85/10000\n",
      "394/394 - 5s - loss: 0.0114 - val_loss: 0.0128 - 5s/epoch - 11ms/step\n",
      "Epoch 86/10000\n",
      "394/394 - 5s - loss: 0.0113 - val_loss: 0.0133 - 5s/epoch - 12ms/step\n",
      "Epoch 87/10000\n",
      "394/394 - 5s - loss: 0.0114 - val_loss: 0.0125 - 5s/epoch - 11ms/step\n",
      "Epoch 88/10000\n",
      "394/394 - 5s - loss: 0.0113 - val_loss: 0.0126 - 5s/epoch - 11ms/step\n",
      "Epoch 89/10000\n",
      "394/394 - 5s - loss: 0.0113 - val_loss: 0.0125 - 5s/epoch - 12ms/step\n",
      "Epoch 90/10000\n",
      "394/394 - 5s - loss: 0.0113 - val_loss: 0.0134 - 5s/epoch - 11ms/step\n",
      "Epoch 91/10000\n",
      "394/394 - 5s - loss: 0.0114 - val_loss: 0.0124 - 5s/epoch - 11ms/step\n",
      "Epoch 92/10000\n",
      "394/394 - 5s - loss: 0.0113 - val_loss: 0.0124 - 5s/epoch - 11ms/step\n",
      "Epoch 93/10000\n",
      "394/394 - 5s - loss: 0.0113 - val_loss: 0.0124 - 5s/epoch - 12ms/step\n",
      "Epoch 94/10000\n",
      "394/394 - 5s - loss: 0.0113 - val_loss: 0.0125 - 5s/epoch - 12ms/step\n",
      "Epoch 95/10000\n",
      "394/394 - 5s - loss: 0.0113 - val_loss: 0.0125 - 5s/epoch - 11ms/step\n",
      "Epoch 96/10000\n",
      "394/394 - 4s - loss: 0.0113 - val_loss: 0.0125 - 4s/epoch - 11ms/step\n",
      "Epoch 97/10000\n",
      "394/394 - 5s - loss: 0.0113 - val_loss: 0.0124 - 5s/epoch - 12ms/step\n"
     ]
    },
    {
     "name": "stdout",
     "output_type": "stream",
     "text": [
      "Epoch 98/10000\n",
      "394/394 - 5s - loss: 0.0113 - val_loss: 0.0126 - 5s/epoch - 12ms/step\n",
      "Epoch 99/10000\n",
      "394/394 - 5s - loss: 0.0113 - val_loss: 0.0124 - 5s/epoch - 12ms/step\n",
      "Epoch 100/10000\n",
      "394/394 - 5s - loss: 0.0113 - val_loss: 0.0124 - 5s/epoch - 12ms/step\n",
      "Epoch 101/10000\n",
      "394/394 - 5s - loss: 0.0113 - val_loss: 0.0125 - 5s/epoch - 12ms/step\n",
      "Epoch 102/10000\n",
      "394/394 - 5s - loss: 0.0113 - val_loss: 0.0123 - 5s/epoch - 11ms/step\n",
      "Epoch 103/10000\n",
      "394/394 - 5s - loss: 0.0113 - val_loss: 0.0127 - 5s/epoch - 12ms/step\n",
      "Epoch 104/10000\n",
      "394/394 - 5s - loss: 0.0113 - val_loss: 0.0124 - 5s/epoch - 11ms/step\n",
      "Epoch 105/10000\n",
      "394/394 - 5s - loss: 0.0113 - val_loss: 0.0123 - 5s/epoch - 11ms/step\n",
      "Epoch 106/10000\n",
      "394/394 - 5s - loss: 0.0113 - val_loss: 0.0124 - 5s/epoch - 12ms/step\n",
      "Epoch 107/10000\n",
      "394/394 - 5s - loss: 0.0113 - val_loss: 0.0124 - 5s/epoch - 11ms/step\n",
      "Epoch 108/10000\n",
      "394/394 - 5s - loss: 0.0113 - val_loss: 0.0123 - 5s/epoch - 12ms/step\n",
      "Epoch 109/10000\n",
      "394/394 - 5s - loss: 0.0113 - val_loss: 0.0125 - 5s/epoch - 12ms/step\n",
      "Epoch 110/10000\n",
      "394/394 - 5s - loss: 0.0113 - val_loss: 0.0125 - 5s/epoch - 12ms/step\n",
      "Epoch 111/10000\n",
      "394/394 - 5s - loss: 0.0113 - val_loss: 0.0125 - 5s/epoch - 11ms/step\n",
      "Epoch 112/10000\n",
      "394/394 - 5s - loss: 0.0113 - val_loss: 0.0124 - 5s/epoch - 11ms/step\n",
      "Epoch 113/10000\n",
      "394/394 - 5s - loss: 0.0113 - val_loss: 0.0124 - 5s/epoch - 11ms/step\n",
      "Epoch 114/10000\n",
      "394/394 - 5s - loss: 0.0113 - val_loss: 0.0125 - 5s/epoch - 12ms/step\n",
      "Epoch 115/10000\n",
      "394/394 - 5s - loss: 0.0113 - val_loss: 0.0124 - 5s/epoch - 12ms/step\n",
      "Epoch 116/10000\n",
      "394/394 - 5s - loss: 0.0113 - val_loss: 0.0125 - 5s/epoch - 12ms/step\n",
      "Epoch 117/10000\n",
      "394/394 - 5s - loss: 0.0113 - val_loss: 0.0127 - 5s/epoch - 12ms/step\n",
      "Epoch 118/10000\n",
      "394/394 - 5s - loss: 0.0113 - val_loss: 0.0124 - 5s/epoch - 11ms/step\n",
      "Epoch 119/10000\n",
      "394/394 - 5s - loss: 0.0113 - val_loss: 0.0125 - 5s/epoch - 11ms/step\n",
      "Epoch 120/10000\n",
      "394/394 - 5s - loss: 0.0113 - val_loss: 0.0125 - 5s/epoch - 11ms/step\n",
      "Epoch 121/10000\n",
      "394/394 - 4s - loss: 0.0113 - val_loss: 0.0125 - 4s/epoch - 11ms/step\n",
      "Epoch 122/10000\n",
      "394/394 - 4s - loss: 0.0113 - val_loss: 0.0124 - 4s/epoch - 11ms/step\n"
     ]
    },
    {
     "name": "stderr",
     "output_type": "stream",
     "text": [
      "WARNING:absl:Found untraced functions such as lstm_cell_41_layer_call_fn, lstm_cell_41_layer_call_and_return_conditional_losses, lstm_cell_42_layer_call_fn, lstm_cell_42_layer_call_and_return_conditional_losses while saving (showing 4 of 4). These functions will not be directly callable after loading.\n"
     ]
    },
    {
     "name": "stdout",
     "output_type": "stream",
     "text": [
      "INFO:tensorflow:Assets written to: ./model/rnn_model test_version_1\\assets\n"
     ]
    },
    {
     "name": "stderr",
     "output_type": "stream",
     "text": [
      "INFO:tensorflow:Assets written to: ./model/rnn_model test_version_1\\assets\n"
     ]
    },
    {
     "name": "stdout",
     "output_type": "stream",
     "text": [
      "model is saved to: ./model/rnn_model test_version_1\n"
     ]
    }
   ],
   "source": [
    "from keras.callbacks import EarlyStopping\n",
    "\n",
    "patience = 20\n",
    "monitor='val_loss'\n",
    "early_stopping_cb = EarlyStopping(patience=patience, restore_best_weights= True, monitor=monitor)\n",
    "\n",
    "epochs = 10000\n",
    "verbose = 2\n",
    "batch_size = 128\n",
    "valid_ratio = 0.2\n",
    "\n",
    "# data_setting = f'R{random_state},N{data_size},S_t{test_ratio}_v{valid_ratio}'\n",
    "# sequence_setting = f'W_h{history_size}_p{prediction_size}_s{stride}'\n",
    "# model_setting = \n",
    "model_name = 'rnn_model test_version_1'\n",
    "save_path = f'./model/{model_name}'\n",
    "if not exists(save_path):\n",
    "    tf.random.set_seed(random_state)\n",
    "    history = rnn_model.fit(encoder_input, decoder_output,\n",
    "                            epochs=epochs, batch_size = batch_size,\n",
    "                            callbacks=[early_stopping_cb], verbose=verbose,validation_split=valid_ratio)\n",
    "    tf.keras.models.save_model(rnn_model, save_path)\n",
    "    print(f\"model is saved to: {save_path}\")\n",
    "    \n",
    "else:\n",
    "    rnn_model = tf.keras.models.load_model(save_path)\n",
    "    print(f\"model is loaded from: {save_path}\")"
   ]
  },
  {
   "cell_type": "markdown",
   "id": "70815bf5",
   "metadata": {},
   "source": [
    "model test"
   ]
  },
  {
   "cell_type": "code",
   "execution_count": 49,
   "id": "31cae55a",
   "metadata": {
    "ExecuteTime": {
     "end_time": "2022-09-19T11:37:13.010218Z",
     "start_time": "2022-09-19T11:36:41.925826Z"
    },
    "scrolled": true
   },
   "outputs": [
    {
     "name": "stdout",
     "output_type": "stream",
     "text": [
      "1 th test\n",
      "2 th test\n"
     ]
    }
   ],
   "source": [
    "unit_size = 350\n",
    "test_num = int(len(data_test)/unit_size)-1 # exclude last unit_size\n",
    "test_num = 2\n",
    "\n",
    "single_test_list = []\n",
    "for k in range(test_num):\n",
    "    print(k+1,\"th test\")\n",
    "    # set_point and actual value\n",
    "    start_point = unit_size*(k+1)\n",
    "    \n",
    "    setpoint = df_test[set_points].iloc[start_point : start_point+unit_size].values\n",
    "    actual = df_test[process_vars].iloc[start_point : start_point+unit_size].values\n",
    "    \n",
    "    prediction_list = []\n",
    "    test_input = df_test_sc[all_vars].iloc[start_point-history_size:start_point].values[np.newaxis]\n",
    "    for i in range(unit_size):\n",
    "        prediction_idx = start_point + i # target values at t+1\n",
    "\n",
    "        # prediction\n",
    "        prediction_sc = rnn_model.predict(test_input, verbose=0)\n",
    "        prediction_list.append(prediction_sc[0])\n",
    "\n",
    "        # update input\n",
    "        new_setpoint = df_test_sc[set_points].iloc[[prediction_idx]].values # set point at t+1\n",
    "        new_input = np.concatenate([new_setpoint, prediction_sc], axis=1)[np.newaxis]\n",
    "        test_input = np.delete(test_input, 0, axis=1)\n",
    "        test_input = np.concatenate([test_input, new_input], axis=1)\n",
    "    \n",
    "    # prediction\n",
    "    prediction_sc = np.array(prediction_list)\n",
    "    prediction = prediction_sc*std[process_vars].values + mean[process_vars].values\n",
    "    \n",
    "    single_test_list.append([setpoint, actual, prediction])"
   ]
  },
  {
   "cell_type": "markdown",
   "id": "5357e1ca",
   "metadata": {},
   "source": [
    "plot test result"
   ]
  },
  {
   "cell_type": "code",
   "execution_count": 50,
   "id": "93f8b438",
   "metadata": {
    "ExecuteTime": {
     "end_time": "2022-09-19T11:37:13.309861Z",
     "start_time": "2022-09-19T11:37:13.010954Z"
    }
   },
   "outputs": [
    {
     "data": {
      "image/png": "[encoded data removed]",
      "text/plain": [
       "<Figure size 864x432 with 3 Axes>"
      ]
     },
     "metadata": {
      "needs_background": "light"
     },
     "output_type": "display_data"
    }
   ],
   "source": [
    "plot_var = ['PC1', 'PC2', 'TC2']\n",
    "set_num = [0, 1, 4]\n",
    "plot_list = single_test_list\n",
    "\n",
    "test_num = 0\n",
    "setpoint = plot_list[test_num][0]\n",
    "actual = plot_list[test_num][1]\n",
    "prediction = plot_list[test_num][2]\n",
    "\n",
    "rows = len(plot_var)\n",
    "columns = 1\n",
    "size = 2\n",
    "\n",
    "plt.figure(figsize=(12*columns, size*rows))\n",
    "i=0\n",
    "for j, var in enumerate(process_vars):\n",
    "    if var in plot_var:\n",
    "        plt.subplot(rows,1,i+1)\n",
    "        plt.plot(setpoint[:,set_num[i]], label='set point', color='r')\n",
    "        plt.plot(actual[:,j], label='actual', color='k')\n",
    "        plt.plot(prediction[:,j], label='prediction', color='b')\n",
    "        plt.title(var)\n",
    "        plt.legend()\n",
    "        i+=1\n",
    "plt.tight_layout()"
   ]
  },
  {
   "cell_type": "markdown",
   "id": "5e36a613",
   "metadata": {},
   "source": [
    "# Multi-step ahead prediction"
   ]
  },
  {
   "cell_type": "code",
   "execution_count": 51,
   "id": "3b0990e1",
   "metadata": {
    "ExecuteTime": {
     "end_time": "2022-09-19T11:37:13.324795Z",
     "start_time": "2022-09-19T11:37:13.311830Z"
    }
   },
   "outputs": [],
   "source": [
    "def data2sequence(dataframe, \n",
    "                  set_points, process_vars,\n",
    "                  history_size, prediction_size, \n",
    "                  step=1, start_idx=0, end_idx=None,\n",
    "                  stride=1):\n",
    "    \n",
    "    history_inputs = set_points + process_vars\n",
    "    target_outputs = process_vars\n",
    "        \n",
    "    history_data = dataframe[history_inputs].values\n",
    "    target_data = dataframe[target_outputs].values\n",
    "    \n",
    "    encoder_input = []\n",
    "    decoder_input = []\n",
    "    decoder_output = []\n",
    "    \n",
    "    start_idx = start_idx + history_size # target step t+1\n",
    "    \n",
    "    if end_idx is None:\n",
    "        end_idx = len(dataframe) - prediction_size\n",
    "    else:\n",
    "        end_idx = end_idx - prediction_size\n",
    "    assert start_idx >= 0, 'start_idx is under 0'\n",
    "    assert end_idx >=0, 'end_idx is under 0'\n",
    "    \n",
    "    i = start_idx\n",
    "    while i <= end_idx:\n",
    "        encoder_input.append(history_data[i-history_size : i : step])\n",
    "        if prediction_size == 1:\n",
    "            decoder_output.append(target_data[i])\n",
    "        else:\n",
    "            decoder_input.append(history_data[i-step : i-step+prediction_size : step])\n",
    "            decoder_output.append(target_data[i : i+prediction_size : step])\n",
    "            \n",
    "        i+=stride\n",
    "    \n",
    "    encoder_input = np.array(encoder_input)\n",
    "    decoder_input = np.array(decoder_input)\n",
    "    decoder_output = np.array(decoder_output)\n",
    "    \n",
    "    return encoder_input, decoder_input, decoder_output"
   ]
  },
  {
   "cell_type": "code",
   "execution_count": 52,
   "id": "57248b88",
   "metadata": {
    "ExecuteTime": {
     "end_time": "2022-09-19T11:37:13.833972Z",
     "start_time": "2022-09-19T11:37:13.325709Z"
    }
   },
   "outputs": [
    {
     "name": "stdout",
     "output_type": "stream",
     "text": [
      "Train dataset\n",
      "encoder_input: (62891, 100, 22)\n",
      "decoder_input: (62891, 10, 22)\n",
      "decoder_output: (62891, 10, 14)\n",
      "\n"
     ]
    }
   ],
   "source": [
    "history_size = 100\n",
    "prediction_size = 10\n",
    "stride = 1\n",
    "\n",
    "encoder_input, decoder_input, decoder_output = data2sequence(df_train_sc, \n",
    "                                                             set_points, process_vars,\n",
    "                                                             history_size, prediction_size,\n",
    "                                                             stride=stride)\n",
    "print(\"Train dataset\")\n",
    "print(\"encoder_input:\", encoder_input.shape)\n",
    "print(\"decoder_input:\", decoder_input.shape)\n",
    "print(\"decoder_output:\", decoder_output.shape)\n",
    "print(\"\")"
   ]
  },
  {
   "cell_type": "code",
   "execution_count": 53,
   "id": "302f4170",
   "metadata": {
    "ExecuteTime": {
     "end_time": "2022-09-19T11:37:13.999586Z",
     "start_time": "2022-09-19T11:37:13.834970Z"
    }
   },
   "outputs": [
    {
     "data": {
      "image/png": "[encoded data removed]",
      "text/plain": [
       "<Figure size 1080x360 with 1 Axes>"
      ]
     },
     "metadata": {
      "needs_background": "light"
     },
     "output_type": "display_data"
    }
   ],
   "source": [
    "plt.figure(figsize=(15,5))\n",
    "plt.scatter(range(1, 101), encoder_input[0, :, 11], label='encoder_input', alpha=0.3)\n",
    "plt.scatter(range(100, 110), decoder_input[0, :, 11], label='decoder_input', alpha=0.3)\n",
    "plt.scatter(range(101, 111), decoder_output[0, :, 3], label='decoder_output', alpha=0.3)\n",
    "plt.legend()\n",
    "plt.show()"
   ]
  },
  {
   "cell_type": "markdown",
   "id": "a5f2bd3a",
   "metadata": {},
   "source": [
    "## Seq2Seq model\n",
    "\n",
    "> **squence-to-vector learning** <br>\n",
    "> input sequence: (sample_size, history_size, # of input_vars) <br>\n",
    "> output sequence: (sample_size, # of output_vars)"
   ]
  },
  {
   "cell_type": "code",
   "execution_count": 74,
   "id": "bed0d029",
   "metadata": {
    "ExecuteTime": {
     "end_time": "2022-09-19T11:57:21.631977Z",
     "start_time": "2022-09-19T11:57:21.606046Z"
    }
   },
   "outputs": [],
   "source": [
    "def Seq2SeqLSTM(\n",
    "    history_size, history_dim, \n",
    "    prediction_size, prediction_dim,\n",
    "    encoder_neurons = [100], decoder_neurons = [100], dense_neurons = [100]\n",
    "):\n",
    "    encoder_input = Input(shape=(None, history_dim), name='input_encoder')\n",
    "    \n",
    "    # encoder module\n",
    "    if len(encoder_neurons) == 1:\n",
    "        encoder_output, state_h, state_c = LSTM(encoder_neurons[0], return_state=True, name='encoder')(encoder_input)\n",
    "        encoder_states = [state_h, state_c]\n",
    "        \n",
    "    else:\n",
    "        num_layers = len(encoder_neurons)\n",
    "        for i, neurons in enumerate(encoder_neurons):\n",
    "            #first encoder layer\n",
    "            if i==0: \n",
    "                encoder_output = LSTM(neurons, return_sequences=True, name=\"encoder_1\")(encoder_input)\n",
    "            #mediate encoder layer\n",
    "            elif i < num_layers-1: \n",
    "                encoder_output = LSTM(neurons, return_sequences=True, name=f\"encoder_{i+1}\")(encoder_output)\n",
    "            #last encoder layer\n",
    "            else: \n",
    "                encoder_output, state_h, state_c  = LSTM(neurons, return_state=True, name=f\"encoder_last\")(encoder_output)\n",
    "                encoder_states = [state_h, state_c]\n",
    "                \n",
    "    # decoder input\n",
    "    decoder_input = Input(shape=(None, history_dim), name='input_decoder')\n",
    "    \n",
    "    # decoder module\n",
    "    if len(decoder_neurons) == 1:\n",
    "        decoder_output = LSTM(decoder_neurons[0], return_sequences=True, name='decoder')(decoder_input, initial_state=encoder_states)\n",
    "        \n",
    "    else:\n",
    "        num_layers = len(decoder_neurons)\n",
    "        for i, neurons in enumerate(decoder_neurons):\n",
    "            #first encoder layer\n",
    "            if i==0: \n",
    "                decoder_output = LSTM(neurons, return_sequences=True, name='decoder_1')(decoder_input, initial_state=encoder_states)\n",
    "            #mediate encoder layer\n",
    "            elif i < num_layers-1: \n",
    "                decoder_output = LSTM(neurons, return_sequences=True, name=f\"decoder_{i+1}\")(decoder_output)\n",
    "            #last encoder layer\n",
    "            else: \n",
    "                decoder_output = LSTM(neurons, return_sequences=True, name=f\"decoder_last\")(decoder_output)\n",
    "    \n",
    "    # dense module\n",
    "    if len(dense_neurons) == 1:\n",
    "        dense_output = Dense(dense_neurons[0], name='dense')(decoder_output)\n",
    "        dense_output = Dense(prediction_dim, name='dense_last')(dense_output)\n",
    "    else:\n",
    "        num_layers = len(dense_neurons)\n",
    "        for i, neurons in enumerate(dense_neurons):\n",
    "            #first dense layer\n",
    "            if i==0:\n",
    "                dense_output = Dense(neurons, name='dense_1')(decoder_output)\n",
    "            #mediate encoder layer\n",
    "            else:\n",
    "                dense_output = Dense(neurons, name=f'dense_{i+1}')(dense_output)\n",
    "        dense_output = Dense(prediction_dim, name=f'dense_last')(dense_output)  \n",
    "    \n",
    "    # model compile\n",
    "    model = Model([encoder_input, decoder_input], dense_output)\n",
    "    optimizer = keras.optimizers.Adam(learning_rate = 0.001, beta_1=0.9, beta_2=0.999)\n",
    "    model.compile(loss='mse', optimizer = optimizer)\n",
    "    \n",
    "    return model"
   ]
  },
  {
   "cell_type": "markdown",
   "id": "3e876786",
   "metadata": {},
   "source": [
    "bulid model"
   ]
  },
  {
   "cell_type": "code",
   "execution_count": 75,
   "id": "aca2bc27",
   "metadata": {
    "ExecuteTime": {
     "end_time": "2022-09-19T11:57:23.321365Z",
     "start_time": "2022-09-19T11:57:22.644425Z"
    }
   },
   "outputs": [
    {
     "name": "stdout",
     "output_type": "stream",
     "text": [
      "Model: \"model_16\"\n",
      "__________________________________________________________________________________________________\n",
      " Layer (type)                   Output Shape         Param #     Connected to                     \n",
      "==================================================================================================\n",
      " input_encoder (InputLayer)     [(None, None, 22)]   0           []                               \n",
      "                                                                                                  \n",
      " encoder_1 (LSTM)               (None, None, 100)    49200       ['input_encoder[0][0]']          \n",
      "                                                                                                  \n",
      " input_decoder (InputLayer)     [(None, None, 22)]   0           []                               \n",
      "                                                                                                  \n",
      " encoder_last (LSTM)            [(None, 50),         30200       ['encoder_1[0][0]']              \n",
      "                                 (None, 50),                                                      \n",
      "                                 (None, 50)]                                                      \n",
      "                                                                                                  \n",
      " decoder_1 (LSTM)               (None, None, 50)     14600       ['input_decoder[0][0]',          \n",
      "                                                                  'encoder_last[0][1]',           \n",
      "                                                                  'encoder_last[0][2]']           \n",
      "                                                                                                  \n",
      " decoder_last (LSTM)            (None, None, 10)     2440        ['decoder_1[0][0]']              \n",
      "                                                                                                  \n",
      " dense_1 (Dense)                (None, None, 100)    1100        ['decoder_last[0][0]']           \n",
      "                                                                                                  \n",
      " dense_2 (Dense)                (None, None, 50)     5050        ['dense_1[0][0]']                \n",
      "                                                                                                  \n",
      " dense_last (Dense)             (None, None, 14)     714         ['dense_2[0][0]']                \n",
      "                                                                                                  \n",
      "==================================================================================================\n",
      "Total params: 103,304\n",
      "Trainable params: 103,304\n",
      "Non-trainable params: 0\n",
      "__________________________________________________________________________________________________\n"
     ]
    }
   ],
   "source": [
    "history_dim = len(set_points+process_vars)\n",
    "prediction_dim = len(process_vars)\n",
    "encoder_neurons = [100, 50]\n",
    "decoder_neurons = [50, 10]\n",
    "dense_neurons = [100, 50]\n",
    "\n",
    "seq2seq_model = Seq2SeqLSTM(history_size, history_dim,\n",
    "                        prediction_size, prediction_dim,\n",
    "                        encoder_neurons = encoder_neurons, \n",
    "                        decoder_neurons = decoder_neurons,\n",
    "                        dense_neurons = dense_neurons\n",
    ")\n",
    "\n",
    "seq2seq_model.summary()"
   ]
  },
  {
   "cell_type": "markdown",
   "id": "b315104f",
   "metadata": {},
   "source": [
    "model training"
   ]
  },
  {
   "cell_type": "code",
   "execution_count": 56,
   "id": "45c68ab1",
   "metadata": {
    "ExecuteTime": {
     "end_time": "2022-09-19T11:37:14.732720Z",
     "start_time": "2022-09-19T11:37:14.719662Z"
    }
   },
   "outputs": [],
   "source": [
    "import os\n",
    "\n",
    "def exists(path):\n",
    "    istrue = os.path.exists(path)\n",
    "    return istrue\n",
    "\n",
    "def createfolder(path):\n",
    "    if not exists(path):\n",
    "        os.makedirs(path)"
   ]
  },
  {
   "cell_type": "code",
   "execution_count": 76,
   "id": "d63a7bc1",
   "metadata": {
    "ExecuteTime": {
     "end_time": "2022-09-19T12:07:41.674200Z",
     "start_time": "2022-09-19T11:57:37.791581Z"
    },
    "scrolled": true
   },
   "outputs": [
    {
     "name": "stdout",
     "output_type": "stream",
     "text": [
      "Epoch 1/10000\n",
      "394/394 - 12s - loss: 0.1084 - val_loss: 0.0292 - 12s/epoch - 32ms/step\n",
      "Epoch 2/10000\n",
      "394/394 - 8s - loss: 0.0172 - val_loss: 0.0174 - 8s/epoch - 19ms/step\n",
      "Epoch 3/10000\n",
      "394/394 - 7s - loss: 0.0136 - val_loss: 0.0172 - 7s/epoch - 17ms/step\n",
      "Epoch 4/10000\n",
      "394/394 - 7s - loss: 0.0126 - val_loss: 0.0144 - 7s/epoch - 17ms/step\n",
      "Epoch 5/10000\n",
      "394/394 - 7s - loss: 0.0122 - val_loss: 0.0138 - 7s/epoch - 17ms/step\n",
      "Epoch 6/10000\n",
      "394/394 - 7s - loss: 0.0120 - val_loss: 0.0135 - 7s/epoch - 17ms/step\n",
      "Epoch 7/10000\n",
      "394/394 - 7s - loss: 0.0119 - val_loss: 0.0132 - 7s/epoch - 18ms/step\n",
      "Epoch 8/10000\n",
      "394/394 - 7s - loss: 0.0118 - val_loss: 0.0132 - 7s/epoch - 18ms/step\n",
      "Epoch 9/10000\n",
      "394/394 - 7s - loss: 0.0117 - val_loss: 0.0148 - 7s/epoch - 18ms/step\n",
      "Epoch 10/10000\n",
      "394/394 - 7s - loss: 0.0117 - val_loss: 0.0130 - 7s/epoch - 18ms/step\n",
      "Epoch 11/10000\n",
      "394/394 - 7s - loss: 0.0117 - val_loss: 0.0132 - 7s/epoch - 18ms/step\n",
      "Epoch 12/10000\n",
      "394/394 - 7s - loss: 0.0116 - val_loss: 0.0128 - 7s/epoch - 18ms/step\n",
      "Epoch 13/10000\n",
      "394/394 - 7s - loss: 0.0116 - val_loss: 0.0131 - 7s/epoch - 18ms/step\n",
      "Epoch 14/10000\n",
      "394/394 - 7s - loss: 0.0116 - val_loss: 0.0131 - 7s/epoch - 18ms/step\n",
      "Epoch 15/10000\n",
      "394/394 - 7s - loss: 0.0116 - val_loss: 0.0127 - 7s/epoch - 18ms/step\n",
      "Epoch 16/10000\n",
      "394/394 - 7s - loss: 0.0116 - val_loss: 0.0129 - 7s/epoch - 17ms/step\n",
      "Epoch 17/10000\n",
      "394/394 - 7s - loss: 0.0115 - val_loss: 0.0127 - 7s/epoch - 17ms/step\n",
      "Epoch 18/10000\n",
      "394/394 - 7s - loss: 0.0115 - val_loss: 0.0130 - 7s/epoch - 18ms/step\n",
      "Epoch 19/10000\n",
      "394/394 - 7s - loss: 0.0115 - val_loss: 0.0136 - 7s/epoch - 18ms/step\n",
      "Epoch 20/10000\n",
      "394/394 - 7s - loss: 0.0115 - val_loss: 0.0140 - 7s/epoch - 17ms/step\n",
      "Epoch 21/10000\n",
      "394/394 - 7s - loss: 0.0115 - val_loss: 0.0127 - 7s/epoch - 18ms/step\n",
      "Epoch 22/10000\n",
      "394/394 - 7s - loss: 0.0114 - val_loss: 0.0127 - 7s/epoch - 18ms/step\n",
      "Epoch 23/10000\n",
      "394/394 - 7s - loss: 0.0114 - val_loss: 0.0129 - 7s/epoch - 18ms/step\n",
      "Epoch 24/10000\n",
      "394/394 - 7s - loss: 0.0114 - val_loss: 0.0129 - 7s/epoch - 17ms/step\n",
      "Epoch 25/10000\n",
      "394/394 - 7s - loss: 0.0114 - val_loss: 0.0134 - 7s/epoch - 17ms/step\n",
      "Epoch 26/10000\n",
      "394/394 - 7s - loss: 0.0114 - val_loss: 0.0135 - 7s/epoch - 18ms/step\n",
      "Epoch 27/10000\n",
      "394/394 - 7s - loss: 0.0114 - val_loss: 0.0129 - 7s/epoch - 18ms/step\n",
      "Epoch 28/10000\n",
      "394/394 - 7s - loss: 0.0114 - val_loss: 0.0144 - 7s/epoch - 17ms/step\n",
      "Epoch 29/10000\n",
      "394/394 - 7s - loss: 0.0114 - val_loss: 0.0128 - 7s/epoch - 17ms/step\n",
      "Epoch 30/10000\n",
      "394/394 - 7s - loss: 0.0113 - val_loss: 0.0127 - 7s/epoch - 18ms/step\n",
      "Epoch 31/10000\n",
      "394/394 - 7s - loss: 0.0113 - val_loss: 0.0133 - 7s/epoch - 18ms/step\n",
      "Epoch 32/10000\n",
      "394/394 - 7s - loss: 0.0114 - val_loss: 0.0127 - 7s/epoch - 18ms/step\n",
      "Epoch 33/10000\n",
      "394/394 - 7s - loss: 0.0113 - val_loss: 0.0129 - 7s/epoch - 18ms/step\n",
      "Epoch 34/10000\n",
      "394/394 - 7s - loss: 0.0113 - val_loss: 0.0125 - 7s/epoch - 18ms/step\n",
      "Epoch 35/10000\n",
      "394/394 - 7s - loss: 0.0113 - val_loss: 0.0125 - 7s/epoch - 18ms/step\n",
      "Epoch 36/10000\n",
      "394/394 - 7s - loss: 0.0114 - val_loss: 0.0127 - 7s/epoch - 17ms/step\n",
      "Epoch 37/10000\n",
      "394/394 - 7s - loss: 0.0113 - val_loss: 0.0137 - 7s/epoch - 17ms/step\n",
      "Epoch 38/10000\n",
      "394/394 - 7s - loss: 0.0113 - val_loss: 0.0126 - 7s/epoch - 17ms/step\n",
      "Epoch 39/10000\n",
      "394/394 - 7s - loss: 0.0113 - val_loss: 0.0126 - 7s/epoch - 18ms/step\n",
      "Epoch 40/10000\n",
      "394/394 - 7s - loss: 0.0113 - val_loss: 0.0127 - 7s/epoch - 18ms/step\n",
      "Epoch 41/10000\n",
      "394/394 - 7s - loss: 0.0113 - val_loss: 0.0126 - 7s/epoch - 18ms/step\n",
      "Epoch 42/10000\n",
      "394/394 - 7s - loss: 0.0113 - val_loss: 0.0129 - 7s/epoch - 18ms/step\n",
      "Epoch 43/10000\n",
      "394/394 - 7s - loss: 0.0113 - val_loss: 0.0127 - 7s/epoch - 18ms/step\n",
      "Epoch 44/10000\n",
      "394/394 - 7s - loss: 0.0113 - val_loss: 0.0125 - 7s/epoch - 18ms/step\n",
      "Epoch 45/10000\n",
      "394/394 - 7s - loss: 0.0113 - val_loss: 0.0127 - 7s/epoch - 18ms/step\n",
      "Epoch 46/10000\n",
      "394/394 - 7s - loss: 0.0113 - val_loss: 0.0126 - 7s/epoch - 18ms/step\n",
      "Epoch 47/10000\n",
      "394/394 - 7s - loss: 0.0113 - val_loss: 0.0126 - 7s/epoch - 18ms/step\n",
      "Epoch 48/10000\n",
      "394/394 - 7s - loss: 0.0113 - val_loss: 0.0131 - 7s/epoch - 18ms/step\n",
      "Epoch 49/10000\n",
      "394/394 - 7s - loss: 0.0113 - val_loss: 0.0125 - 7s/epoch - 18ms/step\n",
      "Epoch 50/10000\n",
      "394/394 - 7s - loss: 0.0113 - val_loss: 0.0127 - 7s/epoch - 18ms/step\n",
      "Epoch 51/10000\n",
      "394/394 - 7s - loss: 0.0112 - val_loss: 0.0127 - 7s/epoch - 17ms/step\n",
      "Epoch 52/10000\n",
      "394/394 - 7s - loss: 0.0113 - val_loss: 0.0128 - 7s/epoch - 18ms/step\n",
      "Epoch 53/10000\n",
      "394/394 - 7s - loss: 0.0112 - val_loss: 0.0128 - 7s/epoch - 18ms/step\n",
      "Epoch 54/10000\n",
      "394/394 - 7s - loss: 0.0112 - val_loss: 0.0126 - 7s/epoch - 18ms/step\n",
      "Epoch 55/10000\n",
      "394/394 - 7s - loss: 0.0112 - val_loss: 0.0134 - 7s/epoch - 17ms/step\n",
      "Epoch 56/10000\n",
      "394/394 - 7s - loss: 0.0113 - val_loss: 0.0126 - 7s/epoch - 18ms/step\n",
      "Epoch 57/10000\n",
      "394/394 - 7s - loss: 0.0112 - val_loss: 0.0135 - 7s/epoch - 17ms/step\n",
      "Epoch 58/10000\n",
      "394/394 - 7s - loss: 0.0113 - val_loss: 0.0127 - 7s/epoch - 17ms/step\n",
      "Epoch 59/10000\n",
      "394/394 - 7s - loss: 0.0112 - val_loss: 0.0126 - 7s/epoch - 18ms/step\n",
      "Epoch 60/10000\n",
      "394/394 - 7s - loss: 0.0112 - val_loss: 0.0126 - 7s/epoch - 18ms/step\n",
      "Epoch 61/10000\n",
      "394/394 - 7s - loss: 0.0112 - val_loss: 0.0126 - 7s/epoch - 18ms/step\n",
      "Epoch 62/10000\n",
      "394/394 - 7s - loss: 0.0112 - val_loss: 0.0127 - 7s/epoch - 18ms/step\n",
      "Epoch 63/10000\n",
      "394/394 - 7s - loss: 0.0112 - val_loss: 0.0125 - 7s/epoch - 17ms/step\n",
      "Epoch 64/10000\n",
      "394/394 - 8s - loss: 0.0112 - val_loss: 0.0128 - 8s/epoch - 21ms/step\n",
      "Epoch 65/10000\n",
      "394/394 - 10s - loss: 0.0112 - val_loss: 0.0126 - 10s/epoch - 24ms/step\n",
      "Epoch 66/10000\n",
      "394/394 - 11s - loss: 0.0112 - val_loss: 0.0126 - 11s/epoch - 27ms/step\n",
      "Epoch 67/10000\n",
      "394/394 - 8s - loss: 0.0112 - val_loss: 0.0127 - 8s/epoch - 20ms/step\n",
      "Epoch 68/10000\n",
      "394/394 - 7s - loss: 0.0112 - val_loss: 0.0126 - 7s/epoch - 18ms/step\n",
      "Epoch 69/10000\n",
      "394/394 - 7s - loss: 0.0112 - val_loss: 0.0126 - 7s/epoch - 18ms/step\n",
      "Epoch 70/10000\n",
      "394/394 - 7s - loss: 0.0112 - val_loss: 0.0128 - 7s/epoch - 18ms/step\n",
      "Epoch 71/10000\n",
      "394/394 - 7s - loss: 0.0112 - val_loss: 0.0137 - 7s/epoch - 18ms/step\n",
      "Epoch 72/10000\n",
      "394/394 - 7s - loss: 0.0112 - val_loss: 0.0128 - 7s/epoch - 18ms/step\n",
      "Epoch 73/10000\n",
      "394/394 - 7s - loss: 0.0112 - val_loss: 0.0129 - 7s/epoch - 18ms/step\n",
      "Epoch 74/10000\n",
      "394/394 - 7s - loss: 0.0112 - val_loss: 0.0128 - 7s/epoch - 18ms/step\n",
      "Epoch 75/10000\n",
      "394/394 - 7s - loss: 0.0112 - val_loss: 0.0130 - 7s/epoch - 18ms/step\n",
      "Epoch 76/10000\n",
      "394/394 - 7s - loss: 0.0112 - val_loss: 0.0129 - 7s/epoch - 18ms/step\n",
      "Epoch 77/10000\n",
      "394/394 - 7s - loss: 0.0112 - val_loss: 0.0129 - 7s/epoch - 18ms/step\n",
      "Epoch 78/10000\n",
      "394/394 - 7s - loss: 0.0112 - val_loss: 0.0130 - 7s/epoch - 18ms/step\n",
      "Epoch 79/10000\n",
      "394/394 - 7s - loss: 0.0112 - val_loss: 0.0126 - 7s/epoch - 18ms/step\n",
      "Epoch 80/10000\n",
      "394/394 - 7s - loss: 0.0112 - val_loss: 0.0129 - 7s/epoch - 18ms/step\n",
      "Epoch 81/10000\n",
      "394/394 - 7s - loss: 0.0112 - val_loss: 0.0128 - 7s/epoch - 18ms/step\n",
      "Epoch 82/10000\n",
      "394/394 - 7s - loss: 0.0112 - val_loss: 0.0128 - 7s/epoch - 18ms/step\n",
      "Epoch 83/10000\n",
      "394/394 - 7s - loss: 0.0112 - val_loss: 0.0131 - 7s/epoch - 18ms/step\n"
     ]
    },
    {
     "name": "stderr",
     "output_type": "stream",
     "text": [
      "WARNING:absl:Found untraced functions such as lstm_cell_47_layer_call_fn, lstm_cell_47_layer_call_and_return_conditional_losses, lstm_cell_48_layer_call_fn, lstm_cell_48_layer_call_and_return_conditional_losses, lstm_cell_49_layer_call_fn while saving (showing 5 of 8). These functions will not be directly callable after loading.\n"
     ]
    },
    {
     "name": "stdout",
     "output_type": "stream",
     "text": [
      "INFO:tensorflow:Assets written to: ./model/seq2seq_model test_version_1\\assets\n"
     ]
    },
    {
     "name": "stderr",
     "output_type": "stream",
     "text": [
      "INFO:tensorflow:Assets written to: ./model/seq2seq_model test_version_1\\assets\n"
     ]
    },
    {
     "name": "stdout",
     "output_type": "stream",
     "text": [
      "model is saved to: ./model/seq2seq_model test_version_1\n"
     ]
    }
   ],
   "source": [
    "from keras.callbacks import EarlyStopping\n",
    "\n",
    "patience = 20\n",
    "monitor='val_loss'\n",
    "early_stopping_cb = EarlyStopping(patience=patience, restore_best_weights= True, monitor=monitor)\n",
    "\n",
    "epochs = 10000\n",
    "verbose = 2\n",
    "batch_size = 128\n",
    "valid_ratio = 0.2\n",
    "\n",
    "# data_setting = f'R{random_state},N{data_size},S_t{test_ratio}_v{valid_ratio}'\n",
    "# sequence_setting = f'W_h{history_size}_p{prediction_size}_s{stride}'\n",
    "# model_setting = \n",
    "model_name = 'seq2seq_model test_version_1'\n",
    "save_path = f'./model/{model_name}'\n",
    "if not exists(save_path):\n",
    "    tf.random.set_seed(random_state)\n",
    "    history = seq2seq_model.fit([encoder_input, decoder_input], decoder_output,\n",
    "                                epochs=epochs, batch_size = batch_size,\n",
    "                                callbacks=[early_stopping_cb], verbose=verbose,validation_split=valid_ratio)\n",
    "    tf.keras.models.save_model(seq2seq_model, save_path)\n",
    "    print(f\"model is saved to: {save_path}\")\n",
    "    \n",
    "else:\n",
    "    seq2seq_model = tf.keras.models.load_model(save_path)\n",
    "    print(f\"model is loaded from: {save_path}\")"
   ]
  },
  {
   "cell_type": "markdown",
   "id": "a7c4771d",
   "metadata": {},
   "source": [
    "model test"
   ]
  },
  {
   "cell_type": "code",
   "execution_count": 77,
   "id": "9fb8894c",
   "metadata": {
    "ExecuteTime": {
     "end_time": "2022-09-19T12:08:59.409584Z",
     "start_time": "2022-09-19T12:08:59.390635Z"
    }
   },
   "outputs": [],
   "source": [
    "unit_size = 350\n",
    "\n",
    "start_point = unit_size*1\n",
    "test_input = df_test_sc[all_vars].iloc[start_point-history_size:start_point].values[np.newaxis]"
   ]
  },
  {
   "cell_type": "code",
   "execution_count": 84,
   "id": "24f5aafe",
   "metadata": {
    "ExecuteTime": {
     "end_time": "2022-09-19T12:10:44.495128Z",
     "start_time": "2022-09-19T12:10:44.486123Z"
    }
   },
   "outputs": [
    {
     "data": {
      "text/plain": [
       "<KerasTensor: shape=(None, None, 22) dtype=float32 (created by layer 'input_decoder')>"
      ]
     },
     "execution_count": 84,
     "metadata": {},
     "output_type": "execute_result"
    }
   ],
   "source": [
    "seq2seq_model.get_layer(name='input_decoder').input"
   ]
  },
  {
   "cell_type": "code",
   "execution_count": 83,
   "id": "de0652be",
   "metadata": {
    "ExecuteTime": {
     "end_time": "2022-09-19T12:10:39.404365Z",
     "start_time": "2022-09-19T12:10:38.889091Z"
    }
   },
   "outputs": [
    {
     "name": "stdout",
     "output_type": "stream",
     "text": [
      "1/1 [==============================] - 0s 468ms/step\n"
     ]
    }
   ],
   "source": [
    "encoder = Model(seq2seq_model.get_layer(name='input_encoder').input, seq2seq_model.get_layer(name='encoder_last').output)\n",
    "encoder_out = encoder.predict(test_input)\n",
    "encoder_states = encoder_out[1:]"
   ]
  },
  {
   "cell_type": "code",
   "execution_count": 85,
   "id": "ff807faf",
   "metadata": {
    "ExecuteTime": {
     "end_time": "2022-09-19T12:12:16.763069Z",
     "start_time": "2022-09-19T12:12:16.734049Z"
    }
   },
   "outputs": [
    {
     "ename": "ValueError",
     "evalue": "Graph disconnected: cannot obtain value for tensor KerasTensor(type_spec=TensorSpec(shape=(None, None, 22), dtype=tf.float32, name='input_encoder'), name='input_encoder', description=\"created by layer 'input_encoder'\") at layer \"encoder_1\". The following previous layers were accessed without issue: []",
     "output_type": "error",
     "traceback": [
      "\u001b[1;31m---------------------------------------------------------------------------\u001b[0m",
      "\u001b[1;31mValueError\u001b[0m                                Traceback (most recent call last)",
      "\u001b[1;32m~\\AppData\\Local\\Temp\\ipykernel_14828\\798658244.py\u001b[0m in \u001b[0;36m<module>\u001b[1;34m\u001b[0m\n\u001b[1;32m----> 1\u001b[1;33m \u001b[0mdecoder\u001b[0m \u001b[1;33m=\u001b[0m \u001b[0mModel\u001b[0m\u001b[1;33m(\u001b[0m\u001b[0mseq2seq_model\u001b[0m\u001b[1;33m.\u001b[0m\u001b[0mget_layer\u001b[0m\u001b[1;33m(\u001b[0m\u001b[0mname\u001b[0m\u001b[1;33m=\u001b[0m\u001b[1;34m'input_decoder'\u001b[0m\u001b[1;33m)\u001b[0m\u001b[1;33m.\u001b[0m\u001b[0minput\u001b[0m\u001b[1;33m,\u001b[0m \u001b[0mseq2seq_model\u001b[0m\u001b[1;33m.\u001b[0m\u001b[0mget_layer\u001b[0m\u001b[1;33m(\u001b[0m\u001b[0mname\u001b[0m\u001b[1;33m=\u001b[0m\u001b[1;34m'decoder_last'\u001b[0m\u001b[1;33m)\u001b[0m\u001b[1;33m.\u001b[0m\u001b[0moutput\u001b[0m\u001b[1;33m)\u001b[0m\u001b[1;33m\u001b[0m\u001b[1;33m\u001b[0m\u001b[0m\n\u001b[0m",
      "\u001b[1;32mD:\\anaconda3\\envs\\dualattn\\lib\\site-packages\\tensorflow\\python\\training\\tracking\\base.py\u001b[0m in \u001b[0;36m_method_wrapper\u001b[1;34m(self, *args, **kwargs)\u001b[0m\n\u001b[0;32m    585\u001b[0m     \u001b[0mself\u001b[0m\u001b[1;33m.\u001b[0m\u001b[0m_self_setattr_tracking\u001b[0m \u001b[1;33m=\u001b[0m \u001b[1;32mFalse\u001b[0m  \u001b[1;31m# pylint: disable=protected-access\u001b[0m\u001b[1;33m\u001b[0m\u001b[1;33m\u001b[0m\u001b[0m\n\u001b[0;32m    586\u001b[0m     \u001b[1;32mtry\u001b[0m\u001b[1;33m:\u001b[0m\u001b[1;33m\u001b[0m\u001b[1;33m\u001b[0m\u001b[0m\n\u001b[1;32m--> 587\u001b[1;33m       \u001b[0mresult\u001b[0m \u001b[1;33m=\u001b[0m \u001b[0mmethod\u001b[0m\u001b[1;33m(\u001b[0m\u001b[0mself\u001b[0m\u001b[1;33m,\u001b[0m \u001b[1;33m*\u001b[0m\u001b[0margs\u001b[0m\u001b[1;33m,\u001b[0m \u001b[1;33m**\u001b[0m\u001b[0mkwargs\u001b[0m\u001b[1;33m)\u001b[0m\u001b[1;33m\u001b[0m\u001b[1;33m\u001b[0m\u001b[0m\n\u001b[0m\u001b[0;32m    588\u001b[0m     \u001b[1;32mfinally\u001b[0m\u001b[1;33m:\u001b[0m\u001b[1;33m\u001b[0m\u001b[1;33m\u001b[0m\u001b[0m\n\u001b[0;32m    589\u001b[0m       \u001b[0mself\u001b[0m\u001b[1;33m.\u001b[0m\u001b[0m_self_setattr_tracking\u001b[0m \u001b[1;33m=\u001b[0m \u001b[0mprevious_value\u001b[0m  \u001b[1;31m# pylint: disable=protected-access\u001b[0m\u001b[1;33m\u001b[0m\u001b[1;33m\u001b[0m\u001b[0m\n",
      "\u001b[1;32mD:\\anaconda3\\envs\\dualattn\\lib\\site-packages\\keras\\engine\\functional.py\u001b[0m in \u001b[0;36m__init__\u001b[1;34m(self, inputs, outputs, name, trainable, **kwargs)\u001b[0m\n\u001b[0;32m    146\u001b[0m                   for t in tf.nest.flatten(inputs)]):\n\u001b[0;32m    147\u001b[0m         \u001b[0minputs\u001b[0m\u001b[1;33m,\u001b[0m \u001b[0moutputs\u001b[0m \u001b[1;33m=\u001b[0m \u001b[0mfunctional_utils\u001b[0m\u001b[1;33m.\u001b[0m\u001b[0mclone_graph_nodes\u001b[0m\u001b[1;33m(\u001b[0m\u001b[0minputs\u001b[0m\u001b[1;33m,\u001b[0m \u001b[0moutputs\u001b[0m\u001b[1;33m)\u001b[0m\u001b[1;33m\u001b[0m\u001b[1;33m\u001b[0m\u001b[0m\n\u001b[1;32m--> 148\u001b[1;33m     \u001b[0mself\u001b[0m\u001b[1;33m.\u001b[0m\u001b[0m_init_graph_network\u001b[0m\u001b[1;33m(\u001b[0m\u001b[0minputs\u001b[0m\u001b[1;33m,\u001b[0m \u001b[0moutputs\u001b[0m\u001b[1;33m)\u001b[0m\u001b[1;33m\u001b[0m\u001b[1;33m\u001b[0m\u001b[0m\n\u001b[0m\u001b[0;32m    149\u001b[0m \u001b[1;33m\u001b[0m\u001b[0m\n\u001b[0;32m    150\u001b[0m   \u001b[1;33m@\u001b[0m\u001b[0mtf\u001b[0m\u001b[1;33m.\u001b[0m\u001b[0m__internal__\u001b[0m\u001b[1;33m.\u001b[0m\u001b[0mtracking\u001b[0m\u001b[1;33m.\u001b[0m\u001b[0mno_automatic_dependency_tracking\u001b[0m\u001b[1;33m\u001b[0m\u001b[1;33m\u001b[0m\u001b[0m\n",
      "\u001b[1;32mD:\\anaconda3\\envs\\dualattn\\lib\\site-packages\\tensorflow\\python\\training\\tracking\\base.py\u001b[0m in \u001b[0;36m_method_wrapper\u001b[1;34m(self, *args, **kwargs)\u001b[0m\n\u001b[0;32m    585\u001b[0m     \u001b[0mself\u001b[0m\u001b[1;33m.\u001b[0m\u001b[0m_self_setattr_tracking\u001b[0m \u001b[1;33m=\u001b[0m \u001b[1;32mFalse\u001b[0m  \u001b[1;31m# pylint: disable=protected-access\u001b[0m\u001b[1;33m\u001b[0m\u001b[1;33m\u001b[0m\u001b[0m\n\u001b[0;32m    586\u001b[0m     \u001b[1;32mtry\u001b[0m\u001b[1;33m:\u001b[0m\u001b[1;33m\u001b[0m\u001b[1;33m\u001b[0m\u001b[0m\n\u001b[1;32m--> 587\u001b[1;33m       \u001b[0mresult\u001b[0m \u001b[1;33m=\u001b[0m \u001b[0mmethod\u001b[0m\u001b[1;33m(\u001b[0m\u001b[0mself\u001b[0m\u001b[1;33m,\u001b[0m \u001b[1;33m*\u001b[0m\u001b[0margs\u001b[0m\u001b[1;33m,\u001b[0m \u001b[1;33m**\u001b[0m\u001b[0mkwargs\u001b[0m\u001b[1;33m)\u001b[0m\u001b[1;33m\u001b[0m\u001b[1;33m\u001b[0m\u001b[0m\n\u001b[0m\u001b[0;32m    588\u001b[0m     \u001b[1;32mfinally\u001b[0m\u001b[1;33m:\u001b[0m\u001b[1;33m\u001b[0m\u001b[1;33m\u001b[0m\u001b[0m\n\u001b[0;32m    589\u001b[0m       \u001b[0mself\u001b[0m\u001b[1;33m.\u001b[0m\u001b[0m_self_setattr_tracking\u001b[0m \u001b[1;33m=\u001b[0m \u001b[0mprevious_value\u001b[0m  \u001b[1;31m# pylint: disable=protected-access\u001b[0m\u001b[1;33m\u001b[0m\u001b[1;33m\u001b[0m\u001b[0m\n",
      "\u001b[1;32mD:\\anaconda3\\envs\\dualattn\\lib\\site-packages\\keras\\engine\\functional.py\u001b[0m in \u001b[0;36m_init_graph_network\u001b[1;34m(self, inputs, outputs)\u001b[0m\n\u001b[0;32m    231\u001b[0m     \u001b[1;31m# Keep track of the network's nodes and layers.\u001b[0m\u001b[1;33m\u001b[0m\u001b[1;33m\u001b[0m\u001b[1;33m\u001b[0m\u001b[0m\n\u001b[0;32m    232\u001b[0m     nodes, nodes_by_depth, layers, _ = _map_graph_network(\n\u001b[1;32m--> 233\u001b[1;33m         self.inputs, self.outputs)\n\u001b[0m\u001b[0;32m    234\u001b[0m     \u001b[0mself\u001b[0m\u001b[1;33m.\u001b[0m\u001b[0m_network_nodes\u001b[0m \u001b[1;33m=\u001b[0m \u001b[0mnodes\u001b[0m\u001b[1;33m\u001b[0m\u001b[1;33m\u001b[0m\u001b[0m\n\u001b[0;32m    235\u001b[0m     \u001b[0mself\u001b[0m\u001b[1;33m.\u001b[0m\u001b[0m_nodes_by_depth\u001b[0m \u001b[1;33m=\u001b[0m \u001b[0mnodes_by_depth\u001b[0m\u001b[1;33m\u001b[0m\u001b[1;33m\u001b[0m\u001b[0m\n",
      "\u001b[1;32mD:\\anaconda3\\envs\\dualattn\\lib\\site-packages\\keras\\engine\\functional.py\u001b[0m in \u001b[0;36m_map_graph_network\u001b[1;34m(inputs, outputs)\u001b[0m\n\u001b[0;32m    997\u001b[0m           \u001b[1;32mif\u001b[0m \u001b[0mid\u001b[0m\u001b[1;33m(\u001b[0m\u001b[0mx\u001b[0m\u001b[1;33m)\u001b[0m \u001b[1;32mnot\u001b[0m \u001b[1;32min\u001b[0m \u001b[0mcomputable_tensors\u001b[0m\u001b[1;33m:\u001b[0m\u001b[1;33m\u001b[0m\u001b[1;33m\u001b[0m\u001b[0m\n\u001b[0;32m    998\u001b[0m             raise ValueError(\n\u001b[1;32m--> 999\u001b[1;33m                 \u001b[1;34mf'Graph disconnected: cannot obtain value for tensor {x} '\u001b[0m\u001b[1;33m\u001b[0m\u001b[1;33m\u001b[0m\u001b[0m\n\u001b[0m\u001b[0;32m   1000\u001b[0m                 \u001b[1;34mf'at layer \"{layer.name}\". The following previous layers '\u001b[0m\u001b[1;33m\u001b[0m\u001b[1;33m\u001b[0m\u001b[0m\n\u001b[0;32m   1001\u001b[0m                 f'were accessed without issue: {layers_with_complete_input}')\n",
      "\u001b[1;31mValueError\u001b[0m: Graph disconnected: cannot obtain value for tensor KerasTensor(type_spec=TensorSpec(shape=(None, None, 22), dtype=tf.float32, name='input_encoder'), name='input_encoder', description=\"created by layer 'input_encoder'\") at layer \"encoder_1\". The following previous layers were accessed without issue: []"
     ]
    }
   ],
   "source": [
    "decoder = Model(seq2seq_model.get_layer(name='input_decoder').input, seq2seq_model.get_layer(name='decoder_last').output)"
   ]
  },
  {
   "cell_type": "code",
   "execution_count": 71,
   "id": "9c64fcfd",
   "metadata": {
    "ExecuteTime": {
     "end_time": "2022-09-19T11:55:30.637816Z",
     "start_time": "2022-09-19T11:55:30.621858Z"
    }
   },
   "outputs": [],
   "source": []
  },
  {
   "cell_type": "code",
   "execution_count": 35,
   "id": "6b2c4b97",
   "metadata": {
    "ExecuteTime": {
     "end_time": "2022-09-18T11:06:19.247613Z",
     "start_time": "2022-09-18T11:03:30.394193Z"
    },
    "scrolled": true
   },
   "outputs": [
    {
     "name": "stdout",
     "output_type": "stream",
     "text": [
      "0 th test\n",
      "1 th test\n",
      "2 th test\n",
      "3 th test\n",
      "4 th test\n",
      "5 th test\n",
      "6 th test\n",
      "7 th test\n",
      "8 th test\n",
      "9 th test\n",
      "10 th test\n",
      "11 th test\n"
     ]
    },
    {
     "ename": "KeyboardInterrupt",
     "evalue": "",
     "output_type": "error",
     "traceback": [
      "\u001b[1;31m---------------------------------------------------------------------------\u001b[0m",
      "\u001b[1;31mKeyboardInterrupt\u001b[0m                         Traceback (most recent call last)",
      "\u001b[1;32m~\\AppData\\Local\\Temp\\ipykernel_47132\\3031262550.py\u001b[0m in \u001b[0;36m<module>\u001b[1;34m\u001b[0m\n\u001b[0;32m     17\u001b[0m \u001b[1;33m\u001b[0m\u001b[0m\n\u001b[0;32m     18\u001b[0m         \u001b[1;31m# prediction\u001b[0m\u001b[1;33m\u001b[0m\u001b[1;33m\u001b[0m\u001b[1;33m\u001b[0m\u001b[0m\n\u001b[1;32m---> 19\u001b[1;33m         \u001b[0mprediction_sc\u001b[0m \u001b[1;33m=\u001b[0m \u001b[0mrnn_model\u001b[0m\u001b[1;33m.\u001b[0m\u001b[0mpredict\u001b[0m\u001b[1;33m(\u001b[0m\u001b[0mtest_input\u001b[0m\u001b[1;33m,\u001b[0m \u001b[0mverbose\u001b[0m\u001b[1;33m=\u001b[0m\u001b[1;36m0\u001b[0m\u001b[1;33m)\u001b[0m\u001b[1;33m\u001b[0m\u001b[1;33m\u001b[0m\u001b[0m\n\u001b[0m\u001b[0;32m     20\u001b[0m         \u001b[0mprediction_list\u001b[0m\u001b[1;33m.\u001b[0m\u001b[0mappend\u001b[0m\u001b[1;33m(\u001b[0m\u001b[0mprediction_sc\u001b[0m\u001b[1;33m[\u001b[0m\u001b[1;36m0\u001b[0m\u001b[1;33m]\u001b[0m\u001b[1;33m)\u001b[0m\u001b[1;33m\u001b[0m\u001b[1;33m\u001b[0m\u001b[0m\n\u001b[0;32m     21\u001b[0m \u001b[1;33m\u001b[0m\u001b[0m\n",
      "\u001b[1;32mD:\\anaconda3\\envs\\dualattn\\lib\\site-packages\\keras\\utils\\traceback_utils.py\u001b[0m in \u001b[0;36merror_handler\u001b[1;34m(*args, **kwargs)\u001b[0m\n\u001b[0;32m     62\u001b[0m     \u001b[0mfiltered_tb\u001b[0m \u001b[1;33m=\u001b[0m \u001b[1;32mNone\u001b[0m\u001b[1;33m\u001b[0m\u001b[1;33m\u001b[0m\u001b[0m\n\u001b[0;32m     63\u001b[0m     \u001b[1;32mtry\u001b[0m\u001b[1;33m:\u001b[0m\u001b[1;33m\u001b[0m\u001b[1;33m\u001b[0m\u001b[0m\n\u001b[1;32m---> 64\u001b[1;33m       \u001b[1;32mreturn\u001b[0m \u001b[0mfn\u001b[0m\u001b[1;33m(\u001b[0m\u001b[1;33m*\u001b[0m\u001b[0margs\u001b[0m\u001b[1;33m,\u001b[0m \u001b[1;33m**\u001b[0m\u001b[0mkwargs\u001b[0m\u001b[1;33m)\u001b[0m\u001b[1;33m\u001b[0m\u001b[1;33m\u001b[0m\u001b[0m\n\u001b[0m\u001b[0;32m     65\u001b[0m     \u001b[1;32mexcept\u001b[0m \u001b[0mException\u001b[0m \u001b[1;32mas\u001b[0m \u001b[0me\u001b[0m\u001b[1;33m:\u001b[0m  \u001b[1;31m# pylint: disable=broad-except\u001b[0m\u001b[1;33m\u001b[0m\u001b[1;33m\u001b[0m\u001b[0m\n\u001b[0;32m     66\u001b[0m       \u001b[0mfiltered_tb\u001b[0m \u001b[1;33m=\u001b[0m \u001b[0m_process_traceback_frames\u001b[0m\u001b[1;33m(\u001b[0m\u001b[0me\u001b[0m\u001b[1;33m.\u001b[0m\u001b[0m__traceback__\u001b[0m\u001b[1;33m)\u001b[0m\u001b[1;33m\u001b[0m\u001b[1;33m\u001b[0m\u001b[0m\n",
      "\u001b[1;32mD:\\anaconda3\\envs\\dualattn\\lib\\site-packages\\keras\\engine\\training.py\u001b[0m in \u001b[0;36mpredict\u001b[1;34m(self, x, batch_size, verbose, steps, callbacks, max_queue_size, workers, use_multiprocessing)\u001b[0m\n\u001b[0;32m   2010\u001b[0m           \u001b[0muse_multiprocessing\u001b[0m\u001b[1;33m=\u001b[0m\u001b[0muse_multiprocessing\u001b[0m\u001b[1;33m,\u001b[0m\u001b[1;33m\u001b[0m\u001b[1;33m\u001b[0m\u001b[0m\n\u001b[0;32m   2011\u001b[0m           \u001b[0mmodel\u001b[0m\u001b[1;33m=\u001b[0m\u001b[0mself\u001b[0m\u001b[1;33m,\u001b[0m\u001b[1;33m\u001b[0m\u001b[1;33m\u001b[0m\u001b[0m\n\u001b[1;32m-> 2012\u001b[1;33m           steps_per_execution=self._steps_per_execution)\n\u001b[0m\u001b[0;32m   2013\u001b[0m \u001b[1;33m\u001b[0m\u001b[0m\n\u001b[0;32m   2014\u001b[0m       \u001b[1;31m# Container that configures and calls `tf.keras.Callback`s.\u001b[0m\u001b[1;33m\u001b[0m\u001b[1;33m\u001b[0m\u001b[1;33m\u001b[0m\u001b[0m\n",
      "\u001b[1;32mD:\\anaconda3\\envs\\dualattn\\lib\\site-packages\\keras\\engine\\data_adapter.py\u001b[0m in \u001b[0;36mget_data_handler\u001b[1;34m(*args, **kwargs)\u001b[0m\n\u001b[0;32m   1399\u001b[0m   \u001b[1;32mif\u001b[0m \u001b[0mgetattr\u001b[0m\u001b[1;33m(\u001b[0m\u001b[0mkwargs\u001b[0m\u001b[1;33m[\u001b[0m\u001b[1;34m\"model\"\u001b[0m\u001b[1;33m]\u001b[0m\u001b[1;33m,\u001b[0m \u001b[1;34m\"_cluster_coordinator\"\u001b[0m\u001b[1;33m,\u001b[0m \u001b[1;32mNone\u001b[0m\u001b[1;33m)\u001b[0m\u001b[1;33m:\u001b[0m\u001b[1;33m\u001b[0m\u001b[1;33m\u001b[0m\u001b[0m\n\u001b[0;32m   1400\u001b[0m     \u001b[1;32mreturn\u001b[0m \u001b[0m_ClusterCoordinatorDataHandler\u001b[0m\u001b[1;33m(\u001b[0m\u001b[1;33m*\u001b[0m\u001b[0margs\u001b[0m\u001b[1;33m,\u001b[0m \u001b[1;33m**\u001b[0m\u001b[0mkwargs\u001b[0m\u001b[1;33m)\u001b[0m\u001b[1;33m\u001b[0m\u001b[1;33m\u001b[0m\u001b[0m\n\u001b[1;32m-> 1401\u001b[1;33m   \u001b[1;32mreturn\u001b[0m \u001b[0mDataHandler\u001b[0m\u001b[1;33m(\u001b[0m\u001b[1;33m*\u001b[0m\u001b[0margs\u001b[0m\u001b[1;33m,\u001b[0m \u001b[1;33m**\u001b[0m\u001b[0mkwargs\u001b[0m\u001b[1;33m)\u001b[0m\u001b[1;33m\u001b[0m\u001b[1;33m\u001b[0m\u001b[0m\n\u001b[0m\u001b[0;32m   1402\u001b[0m \u001b[1;33m\u001b[0m\u001b[0m\n\u001b[0;32m   1403\u001b[0m \u001b[1;33m\u001b[0m\u001b[0m\n",
      "\u001b[1;32mD:\\anaconda3\\envs\\dualattn\\lib\\site-packages\\keras\\engine\\data_adapter.py\u001b[0m in \u001b[0;36m__init__\u001b[1;34m(self, x, y, sample_weight, batch_size, steps_per_epoch, initial_epoch, epochs, shuffle, class_weight, max_queue_size, workers, use_multiprocessing, model, steps_per_execution, distribute)\u001b[0m\n\u001b[0;32m   1161\u001b[0m         \u001b[0muse_multiprocessing\u001b[0m\u001b[1;33m=\u001b[0m\u001b[0muse_multiprocessing\u001b[0m\u001b[1;33m,\u001b[0m\u001b[1;33m\u001b[0m\u001b[1;33m\u001b[0m\u001b[0m\n\u001b[0;32m   1162\u001b[0m         \u001b[0mdistribution_strategy\u001b[0m\u001b[1;33m=\u001b[0m\u001b[0mtf\u001b[0m\u001b[1;33m.\u001b[0m\u001b[0mdistribute\u001b[0m\u001b[1;33m.\u001b[0m\u001b[0mget_strategy\u001b[0m\u001b[1;33m(\u001b[0m\u001b[1;33m)\u001b[0m\u001b[1;33m,\u001b[0m\u001b[1;33m\u001b[0m\u001b[1;33m\u001b[0m\u001b[0m\n\u001b[1;32m-> 1163\u001b[1;33m         model=model)\n\u001b[0m\u001b[0;32m   1164\u001b[0m \u001b[1;33m\u001b[0m\u001b[0m\n\u001b[0;32m   1165\u001b[0m     \u001b[0mstrategy\u001b[0m \u001b[1;33m=\u001b[0m \u001b[0mtf\u001b[0m\u001b[1;33m.\u001b[0m\u001b[0mdistribute\u001b[0m\u001b[1;33m.\u001b[0m\u001b[0mget_strategy\u001b[0m\u001b[1;33m(\u001b[0m\u001b[1;33m)\u001b[0m\u001b[1;33m\u001b[0m\u001b[1;33m\u001b[0m\u001b[0m\n",
      "\u001b[1;32mD:\\anaconda3\\envs\\dualattn\\lib\\site-packages\\keras\\engine\\data_adapter.py\u001b[0m in \u001b[0;36m__init__\u001b[1;34m(self, x, y, sample_weights, sample_weight_modes, batch_size, epochs, steps, shuffle, **kwargs)\u001b[0m\n\u001b[0;32m    326\u001b[0m     \u001b[0mindices_dataset\u001b[0m \u001b[1;33m=\u001b[0m \u001b[0mindices_dataset\u001b[0m\u001b[1;33m.\u001b[0m\u001b[0mflat_map\u001b[0m\u001b[1;33m(\u001b[0m\u001b[0mslice_batch_indices\u001b[0m\u001b[1;33m)\u001b[0m\u001b[1;33m\u001b[0m\u001b[1;33m\u001b[0m\u001b[0m\n\u001b[0;32m    327\u001b[0m \u001b[1;33m\u001b[0m\u001b[0m\n\u001b[1;32m--> 328\u001b[1;33m     \u001b[0mdataset\u001b[0m \u001b[1;33m=\u001b[0m \u001b[0mself\u001b[0m\u001b[1;33m.\u001b[0m\u001b[0mslice_inputs\u001b[0m\u001b[1;33m(\u001b[0m\u001b[0mindices_dataset\u001b[0m\u001b[1;33m,\u001b[0m \u001b[0minputs\u001b[0m\u001b[1;33m)\u001b[0m\u001b[1;33m\u001b[0m\u001b[1;33m\u001b[0m\u001b[0m\n\u001b[0m\u001b[0;32m    329\u001b[0m \u001b[1;33m\u001b[0m\u001b[0m\n\u001b[0;32m    330\u001b[0m     \u001b[1;32mif\u001b[0m \u001b[0mshuffle\u001b[0m \u001b[1;33m==\u001b[0m \u001b[1;34m\"batch\"\u001b[0m\u001b[1;33m:\u001b[0m\u001b[1;33m\u001b[0m\u001b[1;33m\u001b[0m\u001b[0m\n",
      "\u001b[1;32mD:\\anaconda3\\envs\\dualattn\\lib\\site-packages\\keras\\engine\\data_adapter.py\u001b[0m in \u001b[0;36mslice_inputs\u001b[1;34m(self, indices_dataset, inputs)\u001b[0m\n\u001b[0;32m    359\u001b[0m \u001b[1;33m\u001b[0m\u001b[0m\n\u001b[0;32m    360\u001b[0m     dataset = dataset.map(\n\u001b[1;32m--> 361\u001b[1;33m         grab_batch, num_parallel_calls=tf.data.AUTOTUNE)\n\u001b[0m\u001b[0;32m    362\u001b[0m \u001b[1;33m\u001b[0m\u001b[0m\n\u001b[0;32m    363\u001b[0m     \u001b[1;31m# Default optimizations are disabled to avoid the overhead of (unnecessary)\u001b[0m\u001b[1;33m\u001b[0m\u001b[1;33m\u001b[0m\u001b[1;33m\u001b[0m\u001b[0m\n",
      "\u001b[1;32mD:\\anaconda3\\envs\\dualattn\\lib\\site-packages\\tensorflow\\python\\data\\ops\\dataset_ops.py\u001b[0m in \u001b[0;36mmap\u001b[1;34m(self, map_func, num_parallel_calls, deterministic, name)\u001b[0m\n\u001b[0;32m   2054\u001b[0m           \u001b[0mdeterministic\u001b[0m\u001b[1;33m,\u001b[0m\u001b[1;33m\u001b[0m\u001b[1;33m\u001b[0m\u001b[0m\n\u001b[0;32m   2055\u001b[0m           \u001b[0mpreserve_cardinality\u001b[0m\u001b[1;33m=\u001b[0m\u001b[1;32mTrue\u001b[0m\u001b[1;33m,\u001b[0m\u001b[1;33m\u001b[0m\u001b[1;33m\u001b[0m\u001b[0m\n\u001b[1;32m-> 2056\u001b[1;33m           name=name)\n\u001b[0m\u001b[0;32m   2057\u001b[0m \u001b[1;33m\u001b[0m\u001b[0m\n\u001b[0;32m   2058\u001b[0m   \u001b[1;32mdef\u001b[0m \u001b[0mflat_map\u001b[0m\u001b[1;33m(\u001b[0m\u001b[0mself\u001b[0m\u001b[1;33m,\u001b[0m \u001b[0mmap_func\u001b[0m\u001b[1;33m,\u001b[0m \u001b[0mname\u001b[0m\u001b[1;33m=\u001b[0m\u001b[1;32mNone\u001b[0m\u001b[1;33m)\u001b[0m\u001b[1;33m:\u001b[0m\u001b[1;33m\u001b[0m\u001b[1;33m\u001b[0m\u001b[0m\n",
      "\u001b[1;32mD:\\anaconda3\\envs\\dualattn\\lib\\site-packages\\tensorflow\\python\\data\\ops\\dataset_ops.py\u001b[0m in \u001b[0;36m__init__\u001b[1;34m(self, input_dataset, map_func, num_parallel_calls, deterministic, use_inter_op_parallelism, preserve_cardinality, use_legacy_function, name)\u001b[0m\n\u001b[0;32m   5286\u001b[0m         \u001b[0mself\u001b[0m\u001b[1;33m.\u001b[0m\u001b[0m_transformation_name\u001b[0m\u001b[1;33m(\u001b[0m\u001b[1;33m)\u001b[0m\u001b[1;33m,\u001b[0m\u001b[1;33m\u001b[0m\u001b[1;33m\u001b[0m\u001b[0m\n\u001b[0;32m   5287\u001b[0m         \u001b[0mdataset\u001b[0m\u001b[1;33m=\u001b[0m\u001b[0minput_dataset\u001b[0m\u001b[1;33m,\u001b[0m\u001b[1;33m\u001b[0m\u001b[1;33m\u001b[0m\u001b[0m\n\u001b[1;32m-> 5288\u001b[1;33m         use_legacy_function=use_legacy_function)\n\u001b[0m\u001b[0;32m   5289\u001b[0m     \u001b[1;32mif\u001b[0m \u001b[0mdeterministic\u001b[0m \u001b[1;32mis\u001b[0m \u001b[1;32mNone\u001b[0m\u001b[1;33m:\u001b[0m\u001b[1;33m\u001b[0m\u001b[1;33m\u001b[0m\u001b[0m\n\u001b[0;32m   5290\u001b[0m       \u001b[0mself\u001b[0m\u001b[1;33m.\u001b[0m\u001b[0m_deterministic\u001b[0m \u001b[1;33m=\u001b[0m \u001b[1;34m\"default\"\u001b[0m\u001b[1;33m\u001b[0m\u001b[1;33m\u001b[0m\u001b[0m\n",
      "\u001b[1;32mD:\\anaconda3\\envs\\dualattn\\lib\\site-packages\\tensorflow\\python\\data\\ops\\structured_function.py\u001b[0m in \u001b[0;36m__init__\u001b[1;34m(self, func, transformation_name, dataset, input_classes, input_shapes, input_types, input_structure, add_to_graph, use_legacy_function, defun_kwargs)\u001b[0m\n\u001b[0;32m    269\u001b[0m         \u001b[0mfn_factory\u001b[0m \u001b[1;33m=\u001b[0m \u001b[0mtrace_tf_function\u001b[0m\u001b[1;33m(\u001b[0m\u001b[0mdefun_kwargs\u001b[0m\u001b[1;33m)\u001b[0m\u001b[1;33m\u001b[0m\u001b[1;33m\u001b[0m\u001b[0m\n\u001b[0;32m    270\u001b[0m \u001b[1;33m\u001b[0m\u001b[0m\n\u001b[1;32m--> 271\u001b[1;33m     \u001b[0mself\u001b[0m\u001b[1;33m.\u001b[0m\u001b[0m_function\u001b[0m \u001b[1;33m=\u001b[0m \u001b[0mfn_factory\u001b[0m\u001b[1;33m(\u001b[0m\u001b[1;33m)\u001b[0m\u001b[1;33m\u001b[0m\u001b[1;33m\u001b[0m\u001b[0m\n\u001b[0m\u001b[0;32m    272\u001b[0m     \u001b[1;31m# There is no graph to add in eager mode.\u001b[0m\u001b[1;33m\u001b[0m\u001b[1;33m\u001b[0m\u001b[1;33m\u001b[0m\u001b[0m\n\u001b[0;32m    273\u001b[0m     \u001b[0madd_to_graph\u001b[0m \u001b[1;33m&=\u001b[0m \u001b[1;32mnot\u001b[0m \u001b[0mcontext\u001b[0m\u001b[1;33m.\u001b[0m\u001b[0mexecuting_eagerly\u001b[0m\u001b[1;33m(\u001b[0m\u001b[1;33m)\u001b[0m\u001b[1;33m\u001b[0m\u001b[1;33m\u001b[0m\u001b[0m\n",
      "\u001b[1;32mD:\\anaconda3\\envs\\dualattn\\lib\\site-packages\\tensorflow\\python\\eager\\function.py\u001b[0m in \u001b[0;36mget_concrete_function\u001b[1;34m(self, *args, **kwargs)\u001b[0m\n\u001b[0;32m   2566\u001b[0m     \"\"\"\n\u001b[0;32m   2567\u001b[0m     graph_function = self._get_concrete_function_garbage_collected(\n\u001b[1;32m-> 2568\u001b[1;33m         *args, **kwargs)\n\u001b[0m\u001b[0;32m   2569\u001b[0m     \u001b[0mgraph_function\u001b[0m\u001b[1;33m.\u001b[0m\u001b[0m_garbage_collector\u001b[0m\u001b[1;33m.\u001b[0m\u001b[0mrelease\u001b[0m\u001b[1;33m(\u001b[0m\u001b[1;33m)\u001b[0m  \u001b[1;31m# pylint: disable=protected-access\u001b[0m\u001b[1;33m\u001b[0m\u001b[1;33m\u001b[0m\u001b[0m\n\u001b[0;32m   2570\u001b[0m     \u001b[1;32mreturn\u001b[0m \u001b[0mgraph_function\u001b[0m\u001b[1;33m\u001b[0m\u001b[1;33m\u001b[0m\u001b[0m\n",
      "\u001b[1;32mD:\\anaconda3\\envs\\dualattn\\lib\\site-packages\\tensorflow\\python\\eager\\function.py\u001b[0m in \u001b[0;36m_get_concrete_function_garbage_collected\u001b[1;34m(self, *args, **kwargs)\u001b[0m\n\u001b[0;32m   2531\u001b[0m       \u001b[0margs\u001b[0m\u001b[1;33m,\u001b[0m \u001b[0mkwargs\u001b[0m \u001b[1;33m=\u001b[0m \u001b[1;32mNone\u001b[0m\u001b[1;33m,\u001b[0m \u001b[1;32mNone\u001b[0m\u001b[1;33m\u001b[0m\u001b[1;33m\u001b[0m\u001b[0m\n\u001b[0;32m   2532\u001b[0m     \u001b[1;32mwith\u001b[0m \u001b[0mself\u001b[0m\u001b[1;33m.\u001b[0m\u001b[0m_lock\u001b[0m\u001b[1;33m:\u001b[0m\u001b[1;33m\u001b[0m\u001b[1;33m\u001b[0m\u001b[0m\n\u001b[1;32m-> 2533\u001b[1;33m       \u001b[0mgraph_function\u001b[0m\u001b[1;33m,\u001b[0m \u001b[0m_\u001b[0m \u001b[1;33m=\u001b[0m \u001b[0mself\u001b[0m\u001b[1;33m.\u001b[0m\u001b[0m_maybe_define_function\u001b[0m\u001b[1;33m(\u001b[0m\u001b[0margs\u001b[0m\u001b[1;33m,\u001b[0m \u001b[0mkwargs\u001b[0m\u001b[1;33m)\u001b[0m\u001b[1;33m\u001b[0m\u001b[1;33m\u001b[0m\u001b[0m\n\u001b[0m\u001b[0;32m   2534\u001b[0m       \u001b[0mseen_names\u001b[0m \u001b[1;33m=\u001b[0m \u001b[0mset\u001b[0m\u001b[1;33m(\u001b[0m\u001b[1;33m)\u001b[0m\u001b[1;33m\u001b[0m\u001b[1;33m\u001b[0m\u001b[0m\n\u001b[0;32m   2535\u001b[0m       captured = object_identity.ObjectIdentitySet(\n",
      "\u001b[1;32mD:\\anaconda3\\envs\\dualattn\\lib\\site-packages\\tensorflow\\python\\eager\\function.py\u001b[0m in \u001b[0;36m_maybe_define_function\u001b[1;34m(self, args, kwargs)\u001b[0m\n\u001b[0;32m   2709\u001b[0m             \u001b[1;33m(\u001b[0m\u001b[0margs\u001b[0m\u001b[1;33m,\u001b[0m \u001b[0mkwargs\u001b[0m\u001b[1;33m)\u001b[0m \u001b[1;33m=\u001b[0m \u001b[0mcache_key\u001b[0m\u001b[1;33m.\u001b[0m\u001b[0m_placeholder_value\u001b[0m\u001b[1;33m(\u001b[0m\u001b[1;33m)\u001b[0m  \u001b[1;31m# pylint: disable=protected-access\u001b[0m\u001b[1;33m\u001b[0m\u001b[1;33m\u001b[0m\u001b[0m\n\u001b[0;32m   2710\u001b[0m \u001b[1;33m\u001b[0m\u001b[0m\n\u001b[1;32m-> 2711\u001b[1;33m           \u001b[0mgraph_function\u001b[0m \u001b[1;33m=\u001b[0m \u001b[0mself\u001b[0m\u001b[1;33m.\u001b[0m\u001b[0m_create_graph_function\u001b[0m\u001b[1;33m(\u001b[0m\u001b[0margs\u001b[0m\u001b[1;33m,\u001b[0m \u001b[0mkwargs\u001b[0m\u001b[1;33m)\u001b[0m\u001b[1;33m\u001b[0m\u001b[1;33m\u001b[0m\u001b[0m\n\u001b[0m\u001b[0;32m   2712\u001b[0m           self._function_cache.add(cache_key, cache_key_deletion_observer,\n\u001b[0;32m   2713\u001b[0m                                    graph_function)\n",
      "\u001b[1;32mD:\\anaconda3\\envs\\dualattn\\lib\\site-packages\\tensorflow\\python\\eager\\function.py\u001b[0m in \u001b[0;36m_create_graph_function\u001b[1;34m(self, args, kwargs)\u001b[0m\n\u001b[0;32m   2634\u001b[0m             \u001b[0mautograph_options\u001b[0m\u001b[1;33m=\u001b[0m\u001b[0mself\u001b[0m\u001b[1;33m.\u001b[0m\u001b[0m_autograph_options\u001b[0m\u001b[1;33m,\u001b[0m\u001b[1;33m\u001b[0m\u001b[1;33m\u001b[0m\u001b[0m\n\u001b[0;32m   2635\u001b[0m             \u001b[0marg_names\u001b[0m\u001b[1;33m=\u001b[0m\u001b[0marg_names\u001b[0m\u001b[1;33m,\u001b[0m\u001b[1;33m\u001b[0m\u001b[1;33m\u001b[0m\u001b[0m\n\u001b[1;32m-> 2636\u001b[1;33m             capture_by_value=self._capture_by_value),\n\u001b[0m\u001b[0;32m   2637\u001b[0m         \u001b[0mself\u001b[0m\u001b[1;33m.\u001b[0m\u001b[0m_function_attributes\u001b[0m\u001b[1;33m,\u001b[0m\u001b[1;33m\u001b[0m\u001b[1;33m\u001b[0m\u001b[0m\n\u001b[0;32m   2638\u001b[0m         \u001b[0mspec\u001b[0m\u001b[1;33m=\u001b[0m\u001b[0mself\u001b[0m\u001b[1;33m.\u001b[0m\u001b[0mfunction_spec\u001b[0m\u001b[1;33m,\u001b[0m\u001b[1;33m\u001b[0m\u001b[1;33m\u001b[0m\u001b[0m\n",
      "\u001b[1;32mD:\\anaconda3\\envs\\dualattn\\lib\\site-packages\\tensorflow\\python\\framework\\func_graph.py\u001b[0m in \u001b[0;36mfunc_graph_from_py_func\u001b[1;34m(name, python_func, args, kwargs, signature, func_graph, autograph, autograph_options, add_control_dependencies, arg_names, op_return_value, collections, capture_by_value, acd_record_initial_resource_uses)\u001b[0m\n\u001b[0;32m   1144\u001b[0m       \u001b[1;31m# TensorArrays and `None`s.\u001b[0m\u001b[1;33m\u001b[0m\u001b[1;33m\u001b[0m\u001b[1;33m\u001b[0m\u001b[0m\n\u001b[0;32m   1145\u001b[0m       func_outputs = nest.map_structure(\n\u001b[1;32m-> 1146\u001b[1;33m           convert, func_outputs, expand_composites=True)\n\u001b[0m\u001b[0;32m   1147\u001b[0m \u001b[1;33m\u001b[0m\u001b[0m\n\u001b[0;32m   1148\u001b[0m       check_func_mutation(func_args_before, func_kwargs_before, func_args,\n",
      "\u001b[1;32mD:\\anaconda3\\envs\\dualattn\\lib\\site-packages\\tensorflow\\python\\util\\nest.py\u001b[0m in \u001b[0;36mmap_structure\u001b[1;34m(func, *structure, **kwargs)\u001b[0m\n\u001b[0;32m    914\u001b[0m \u001b[1;33m\u001b[0m\u001b[0m\n\u001b[0;32m    915\u001b[0m   return pack_sequence_as(\n\u001b[1;32m--> 916\u001b[1;33m       \u001b[0mstructure\u001b[0m\u001b[1;33m[\u001b[0m\u001b[1;36m0\u001b[0m\u001b[1;33m]\u001b[0m\u001b[1;33m,\u001b[0m \u001b[1;33m[\u001b[0m\u001b[0mfunc\u001b[0m\u001b[1;33m(\u001b[0m\u001b[1;33m*\u001b[0m\u001b[0mx\u001b[0m\u001b[1;33m)\u001b[0m \u001b[1;32mfor\u001b[0m \u001b[0mx\u001b[0m \u001b[1;32min\u001b[0m \u001b[0mentries\u001b[0m\u001b[1;33m]\u001b[0m\u001b[1;33m,\u001b[0m\u001b[1;33m\u001b[0m\u001b[1;33m\u001b[0m\u001b[0m\n\u001b[0m\u001b[0;32m    917\u001b[0m       expand_composites=expand_composites)\n\u001b[0;32m    918\u001b[0m \u001b[1;33m\u001b[0m\u001b[0m\n",
      "\u001b[1;32mD:\\anaconda3\\envs\\dualattn\\lib\\site-packages\\tensorflow\\python\\util\\nest.py\u001b[0m in \u001b[0;36m<listcomp>\u001b[1;34m(.0)\u001b[0m\n\u001b[0;32m    914\u001b[0m \u001b[1;33m\u001b[0m\u001b[0m\n\u001b[0;32m    915\u001b[0m   return pack_sequence_as(\n\u001b[1;32m--> 916\u001b[1;33m       \u001b[0mstructure\u001b[0m\u001b[1;33m[\u001b[0m\u001b[1;36m0\u001b[0m\u001b[1;33m]\u001b[0m\u001b[1;33m,\u001b[0m \u001b[1;33m[\u001b[0m\u001b[0mfunc\u001b[0m\u001b[1;33m(\u001b[0m\u001b[1;33m*\u001b[0m\u001b[0mx\u001b[0m\u001b[1;33m)\u001b[0m \u001b[1;32mfor\u001b[0m \u001b[0mx\u001b[0m \u001b[1;32min\u001b[0m \u001b[0mentries\u001b[0m\u001b[1;33m]\u001b[0m\u001b[1;33m,\u001b[0m\u001b[1;33m\u001b[0m\u001b[1;33m\u001b[0m\u001b[0m\n\u001b[0m\u001b[0;32m    917\u001b[0m       expand_composites=expand_composites)\n\u001b[0;32m    918\u001b[0m \u001b[1;33m\u001b[0m\u001b[0m\n",
      "\u001b[1;32mD:\\anaconda3\\envs\\dualattn\\lib\\site-packages\\tensorflow\\python\\framework\\func_graph.py\u001b[0m in \u001b[0;36mconvert\u001b[1;34m(x)\u001b[0m\n\u001b[0;32m   1102\u001b[0m               \"ExtensionType.\")\n\u001b[0;32m   1103\u001b[0m       \u001b[1;32mif\u001b[0m \u001b[0madd_control_dependencies\u001b[0m\u001b[1;33m:\u001b[0m\u001b[1;33m\u001b[0m\u001b[1;33m\u001b[0m\u001b[0m\n\u001b[1;32m-> 1104\u001b[1;33m         \u001b[0mx\u001b[0m \u001b[1;33m=\u001b[0m \u001b[0mdeps_ctx\u001b[0m\u001b[1;33m.\u001b[0m\u001b[0mmark_as_return\u001b[0m\u001b[1;33m(\u001b[0m\u001b[0mx\u001b[0m\u001b[1;33m)\u001b[0m\u001b[1;33m\u001b[0m\u001b[1;33m\u001b[0m\u001b[0m\n\u001b[0m\u001b[0;32m   1105\u001b[0m       \u001b[1;32mreturn\u001b[0m \u001b[0mx\u001b[0m\u001b[1;33m\u001b[0m\u001b[1;33m\u001b[0m\u001b[0m\n\u001b[0;32m   1106\u001b[0m \u001b[1;33m\u001b[0m\u001b[0m\n",
      "\u001b[1;32mD:\\anaconda3\\envs\\dualattn\\lib\\site-packages\\tensorflow\\python\\framework\\auto_control_deps.py\u001b[0m in \u001b[0;36mmark_as_return\u001b[1;34m(self, tensor)\u001b[0m\n\u001b[0;32m    247\u001b[0m     \u001b[1;31m# of a new identity operation that the stateful operations definitely don't\u001b[0m\u001b[1;33m\u001b[0m\u001b[1;33m\u001b[0m\u001b[1;33m\u001b[0m\u001b[0m\n\u001b[0;32m    248\u001b[0m     \u001b[1;31m# depend on.\u001b[0m\u001b[1;33m\u001b[0m\u001b[1;33m\u001b[0m\u001b[1;33m\u001b[0m\u001b[0m\n\u001b[1;32m--> 249\u001b[1;33m     \u001b[0mtensor\u001b[0m \u001b[1;33m=\u001b[0m \u001b[0marray_ops\u001b[0m\u001b[1;33m.\u001b[0m\u001b[0midentity\u001b[0m\u001b[1;33m(\u001b[0m\u001b[0mtensor\u001b[0m\u001b[1;33m)\u001b[0m\u001b[1;33m\u001b[0m\u001b[1;33m\u001b[0m\u001b[0m\n\u001b[0m\u001b[0;32m    250\u001b[0m     \u001b[0mself\u001b[0m\u001b[1;33m.\u001b[0m\u001b[0m_returned_tensors\u001b[0m\u001b[1;33m.\u001b[0m\u001b[0madd\u001b[0m\u001b[1;33m(\u001b[0m\u001b[0mtensor\u001b[0m\u001b[1;33m)\u001b[0m\u001b[1;33m\u001b[0m\u001b[1;33m\u001b[0m\u001b[0m\n\u001b[0;32m    251\u001b[0m     \u001b[1;32mreturn\u001b[0m \u001b[0mtensor\u001b[0m\u001b[1;33m\u001b[0m\u001b[1;33m\u001b[0m\u001b[0m\n",
      "\u001b[1;32mD:\\anaconda3\\envs\\dualattn\\lib\\site-packages\\tensorflow\\python\\util\\traceback_utils.py\u001b[0m in \u001b[0;36merror_handler\u001b[1;34m(*args, **kwargs)\u001b[0m\n\u001b[0;32m    148\u001b[0m     \u001b[0mfiltered_tb\u001b[0m \u001b[1;33m=\u001b[0m \u001b[1;32mNone\u001b[0m\u001b[1;33m\u001b[0m\u001b[1;33m\u001b[0m\u001b[0m\n\u001b[0;32m    149\u001b[0m     \u001b[1;32mtry\u001b[0m\u001b[1;33m:\u001b[0m\u001b[1;33m\u001b[0m\u001b[1;33m\u001b[0m\u001b[0m\n\u001b[1;32m--> 150\u001b[1;33m       \u001b[1;32mreturn\u001b[0m \u001b[0mfn\u001b[0m\u001b[1;33m(\u001b[0m\u001b[1;33m*\u001b[0m\u001b[0margs\u001b[0m\u001b[1;33m,\u001b[0m \u001b[1;33m**\u001b[0m\u001b[0mkwargs\u001b[0m\u001b[1;33m)\u001b[0m\u001b[1;33m\u001b[0m\u001b[1;33m\u001b[0m\u001b[0m\n\u001b[0m\u001b[0;32m    151\u001b[0m     \u001b[1;32mexcept\u001b[0m \u001b[0mException\u001b[0m \u001b[1;32mas\u001b[0m \u001b[0me\u001b[0m\u001b[1;33m:\u001b[0m\u001b[1;33m\u001b[0m\u001b[1;33m\u001b[0m\u001b[0m\n\u001b[0;32m    152\u001b[0m       \u001b[0mfiltered_tb\u001b[0m \u001b[1;33m=\u001b[0m \u001b[0m_process_traceback_frames\u001b[0m\u001b[1;33m(\u001b[0m\u001b[0me\u001b[0m\u001b[1;33m.\u001b[0m\u001b[0m__traceback__\u001b[0m\u001b[1;33m)\u001b[0m\u001b[1;33m\u001b[0m\u001b[1;33m\u001b[0m\u001b[0m\n",
      "\u001b[1;32mD:\\anaconda3\\envs\\dualattn\\lib\\site-packages\\tensorflow\\python\\util\\dispatch.py\u001b[0m in \u001b[0;36mop_dispatch_handler\u001b[1;34m(*args, **kwargs)\u001b[0m\n\u001b[0;32m   1080\u001b[0m       \u001b[1;31m# Fallback dispatch system (dispatch v1):\u001b[0m\u001b[1;33m\u001b[0m\u001b[1;33m\u001b[0m\u001b[1;33m\u001b[0m\u001b[0m\n\u001b[0;32m   1081\u001b[0m       \u001b[1;32mtry\u001b[0m\u001b[1;33m:\u001b[0m\u001b[1;33m\u001b[0m\u001b[1;33m\u001b[0m\u001b[0m\n\u001b[1;32m-> 1082\u001b[1;33m         \u001b[1;32mreturn\u001b[0m \u001b[0mdispatch_target\u001b[0m\u001b[1;33m(\u001b[0m\u001b[1;33m*\u001b[0m\u001b[0margs\u001b[0m\u001b[1;33m,\u001b[0m \u001b[1;33m**\u001b[0m\u001b[0mkwargs\u001b[0m\u001b[1;33m)\u001b[0m\u001b[1;33m\u001b[0m\u001b[1;33m\u001b[0m\u001b[0m\n\u001b[0m\u001b[0;32m   1083\u001b[0m       \u001b[1;32mexcept\u001b[0m \u001b[1;33m(\u001b[0m\u001b[0mTypeError\u001b[0m\u001b[1;33m,\u001b[0m \u001b[0mValueError\u001b[0m\u001b[1;33m)\u001b[0m\u001b[1;33m:\u001b[0m\u001b[1;33m\u001b[0m\u001b[1;33m\u001b[0m\u001b[0m\n\u001b[0;32m   1084\u001b[0m         \u001b[1;31m# Note: convert_to_eager_tensor currently raises a ValueError, not a\u001b[0m\u001b[1;33m\u001b[0m\u001b[1;33m\u001b[0m\u001b[1;33m\u001b[0m\u001b[0m\n",
      "\u001b[1;32mD:\\anaconda3\\envs\\dualattn\\lib\\site-packages\\tensorflow\\python\\ops\\array_ops.py\u001b[0m in \u001b[0;36midentity\u001b[1;34m(input, name)\u001b[0m\n\u001b[0;32m    293\u001b[0m     \u001b[1;31m# variables. Variables have correct handle data when graph building.\u001b[0m\u001b[1;33m\u001b[0m\u001b[1;33m\u001b[0m\u001b[1;33m\u001b[0m\u001b[0m\n\u001b[0;32m    294\u001b[0m     \u001b[0minput\u001b[0m \u001b[1;33m=\u001b[0m \u001b[0mops\u001b[0m\u001b[1;33m.\u001b[0m\u001b[0mconvert_to_tensor\u001b[0m\u001b[1;33m(\u001b[0m\u001b[0minput\u001b[0m\u001b[1;33m)\u001b[0m\u001b[1;33m\u001b[0m\u001b[1;33m\u001b[0m\u001b[0m\n\u001b[1;32m--> 295\u001b[1;33m   \u001b[0mret\u001b[0m \u001b[1;33m=\u001b[0m \u001b[0mgen_array_ops\u001b[0m\u001b[1;33m.\u001b[0m\u001b[0midentity\u001b[0m\u001b[1;33m(\u001b[0m\u001b[0minput\u001b[0m\u001b[1;33m,\u001b[0m \u001b[0mname\u001b[0m\u001b[1;33m=\u001b[0m\u001b[0mname\u001b[0m\u001b[1;33m)\u001b[0m\u001b[1;33m\u001b[0m\u001b[1;33m\u001b[0m\u001b[0m\n\u001b[0m\u001b[0;32m    296\u001b[0m   \u001b[1;31m# Propagate handle data for happier shape inference for resource variables.\u001b[0m\u001b[1;33m\u001b[0m\u001b[1;33m\u001b[0m\u001b[1;33m\u001b[0m\u001b[0m\n\u001b[0;32m    297\u001b[0m   \u001b[1;32mif\u001b[0m \u001b[0mhasattr\u001b[0m\u001b[1;33m(\u001b[0m\u001b[0minput\u001b[0m\u001b[1;33m,\u001b[0m \u001b[1;34m\"_handle_data\"\u001b[0m\u001b[1;33m)\u001b[0m\u001b[1;33m:\u001b[0m\u001b[1;33m\u001b[0m\u001b[1;33m\u001b[0m\u001b[0m\n",
      "\u001b[1;32mD:\\anaconda3\\envs\\dualattn\\lib\\site-packages\\tensorflow\\python\\ops\\gen_array_ops.py\u001b[0m in \u001b[0;36midentity\u001b[1;34m(input, name)\u001b[0m\n\u001b[0;32m   4075\u001b[0m   \u001b[1;31m# Add nodes to the TensorFlow graph.\u001b[0m\u001b[1;33m\u001b[0m\u001b[1;33m\u001b[0m\u001b[1;33m\u001b[0m\u001b[0m\n\u001b[0;32m   4076\u001b[0m   _, _, _op, _outputs = _op_def_library._apply_op_helper(\n\u001b[1;32m-> 4077\u001b[1;33m         \"Identity\", input=input, name=name)\n\u001b[0m\u001b[0;32m   4078\u001b[0m   \u001b[0m_result\u001b[0m \u001b[1;33m=\u001b[0m \u001b[0m_outputs\u001b[0m\u001b[1;33m[\u001b[0m\u001b[1;33m:\u001b[0m\u001b[1;33m]\u001b[0m\u001b[1;33m\u001b[0m\u001b[1;33m\u001b[0m\u001b[0m\n\u001b[0;32m   4079\u001b[0m   \u001b[1;32mif\u001b[0m \u001b[0m_execute\u001b[0m\u001b[1;33m.\u001b[0m\u001b[0mmust_record_gradient\u001b[0m\u001b[1;33m(\u001b[0m\u001b[1;33m)\u001b[0m\u001b[1;33m:\u001b[0m\u001b[1;33m\u001b[0m\u001b[1;33m\u001b[0m\u001b[0m\n",
      "\u001b[1;32mD:\\anaconda3\\envs\\dualattn\\lib\\site-packages\\tensorflow\\python\\framework\\op_def_library.py\u001b[0m in \u001b[0;36m_apply_op_helper\u001b[1;34m(op_type_name, name, **keywords)\u001b[0m\n\u001b[0;32m    797\u001b[0m       op = g._create_op_internal(op_type_name, inputs, dtypes=None,\n\u001b[0;32m    798\u001b[0m                                  \u001b[0mname\u001b[0m\u001b[1;33m=\u001b[0m\u001b[0mscope\u001b[0m\u001b[1;33m,\u001b[0m \u001b[0minput_types\u001b[0m\u001b[1;33m=\u001b[0m\u001b[0minput_types\u001b[0m\u001b[1;33m,\u001b[0m\u001b[1;33m\u001b[0m\u001b[1;33m\u001b[0m\u001b[0m\n\u001b[1;32m--> 799\u001b[1;33m                                  attrs=attr_protos, op_def=op_def)\n\u001b[0m\u001b[0;32m    800\u001b[0m \u001b[1;33m\u001b[0m\u001b[0m\n\u001b[0;32m    801\u001b[0m     \u001b[1;31m# `outputs` is returned as a separate return value so that the output\u001b[0m\u001b[1;33m\u001b[0m\u001b[1;33m\u001b[0m\u001b[1;33m\u001b[0m\u001b[0m\n",
      "\u001b[1;32mD:\\anaconda3\\envs\\dualattn\\lib\\site-packages\\tensorflow\\python\\framework\\func_graph.py\u001b[0m in \u001b[0;36m_create_op_internal\u001b[1;34m(self, op_type, inputs, dtypes, input_types, name, attrs, op_def, compute_device)\u001b[0m\n\u001b[0;32m    694\u001b[0m     return super(FuncGraph, self)._create_op_internal(  # pylint: disable=protected-access\n\u001b[0;32m    695\u001b[0m         \u001b[0mop_type\u001b[0m\u001b[1;33m,\u001b[0m \u001b[0mcaptured_inputs\u001b[0m\u001b[1;33m,\u001b[0m \u001b[0mdtypes\u001b[0m\u001b[1;33m,\u001b[0m \u001b[0minput_types\u001b[0m\u001b[1;33m,\u001b[0m \u001b[0mname\u001b[0m\u001b[1;33m,\u001b[0m \u001b[0mattrs\u001b[0m\u001b[1;33m,\u001b[0m \u001b[0mop_def\u001b[0m\u001b[1;33m,\u001b[0m\u001b[1;33m\u001b[0m\u001b[1;33m\u001b[0m\u001b[0m\n\u001b[1;32m--> 696\u001b[1;33m         compute_device)\n\u001b[0m\u001b[0;32m    697\u001b[0m \u001b[1;33m\u001b[0m\u001b[0m\n\u001b[0;32m    698\u001b[0m   \u001b[1;32mdef\u001b[0m \u001b[0mcapture\u001b[0m\u001b[1;33m(\u001b[0m\u001b[0mself\u001b[0m\u001b[1;33m,\u001b[0m \u001b[0mtensor\u001b[0m\u001b[1;33m,\u001b[0m \u001b[0mname\u001b[0m\u001b[1;33m=\u001b[0m\u001b[1;32mNone\u001b[0m\u001b[1;33m,\u001b[0m \u001b[0mshape\u001b[0m\u001b[1;33m=\u001b[0m\u001b[1;32mNone\u001b[0m\u001b[1;33m)\u001b[0m\u001b[1;33m:\u001b[0m\u001b[1;33m\u001b[0m\u001b[1;33m\u001b[0m\u001b[0m\n",
      "\u001b[1;32mD:\\anaconda3\\envs\\dualattn\\lib\\site-packages\\tensorflow\\python\\framework\\ops.py\u001b[0m in \u001b[0;36m_create_op_internal\u001b[1;34m(self, op_type, inputs, dtypes, input_types, name, attrs, op_def, compute_device)\u001b[0m\n\u001b[0;32m   3760\u001b[0m           \u001b[0minput_types\u001b[0m\u001b[1;33m=\u001b[0m\u001b[0minput_types\u001b[0m\u001b[1;33m,\u001b[0m\u001b[1;33m\u001b[0m\u001b[1;33m\u001b[0m\u001b[0m\n\u001b[0;32m   3761\u001b[0m           \u001b[0moriginal_op\u001b[0m\u001b[1;33m=\u001b[0m\u001b[0mself\u001b[0m\u001b[1;33m.\u001b[0m\u001b[0m_default_original_op\u001b[0m\u001b[1;33m,\u001b[0m\u001b[1;33m\u001b[0m\u001b[1;33m\u001b[0m\u001b[0m\n\u001b[1;32m-> 3762\u001b[1;33m           op_def=op_def)\n\u001b[0m\u001b[0;32m   3763\u001b[0m       \u001b[0mself\u001b[0m\u001b[1;33m.\u001b[0m\u001b[0m_create_op_helper\u001b[0m\u001b[1;33m(\u001b[0m\u001b[0mret\u001b[0m\u001b[1;33m,\u001b[0m \u001b[0mcompute_device\u001b[0m\u001b[1;33m=\u001b[0m\u001b[0mcompute_device\u001b[0m\u001b[1;33m)\u001b[0m\u001b[1;33m\u001b[0m\u001b[1;33m\u001b[0m\u001b[0m\n\u001b[0;32m   3764\u001b[0m     \u001b[1;32mreturn\u001b[0m \u001b[0mret\u001b[0m\u001b[1;33m\u001b[0m\u001b[1;33m\u001b[0m\u001b[0m\n",
      "\u001b[1;32mD:\\anaconda3\\envs\\dualattn\\lib\\site-packages\\tensorflow\\python\\framework\\ops.py\u001b[0m in \u001b[0;36m__init__\u001b[1;34m(self, node_def, g, inputs, output_types, control_inputs, input_types, original_op, op_def)\u001b[0m\n\u001b[0;32m   2128\u001b[0m         \u001b[0mop_def\u001b[0m \u001b[1;33m=\u001b[0m \u001b[0mself\u001b[0m\u001b[1;33m.\u001b[0m\u001b[0m_graph\u001b[0m\u001b[1;33m.\u001b[0m\u001b[0m_get_op_def\u001b[0m\u001b[1;33m(\u001b[0m\u001b[0mnode_def\u001b[0m\u001b[1;33m.\u001b[0m\u001b[0mop\u001b[0m\u001b[1;33m)\u001b[0m\u001b[1;33m\u001b[0m\u001b[1;33m\u001b[0m\u001b[0m\n\u001b[0;32m   2129\u001b[0m       self._c_op = _create_c_op(self._graph, node_def, inputs,\n\u001b[1;32m-> 2130\u001b[1;33m                                 control_input_ops, op_def)\n\u001b[0m\u001b[0;32m   2131\u001b[0m       \u001b[0mname\u001b[0m \u001b[1;33m=\u001b[0m \u001b[0mcompat\u001b[0m\u001b[1;33m.\u001b[0m\u001b[0mas_str\u001b[0m\u001b[1;33m(\u001b[0m\u001b[0mnode_def\u001b[0m\u001b[1;33m.\u001b[0m\u001b[0mname\u001b[0m\u001b[1;33m)\u001b[0m\u001b[1;33m\u001b[0m\u001b[1;33m\u001b[0m\u001b[0m\n\u001b[0;32m   2132\u001b[0m \u001b[1;33m\u001b[0m\u001b[0m\n",
      "\u001b[1;32mD:\\anaconda3\\envs\\dualattn\\lib\\site-packages\\tensorflow\\python\\util\\traceback_utils.py\u001b[0m in \u001b[0;36merror_handler\u001b[1;34m(*args, **kwargs)\u001b[0m\n\u001b[0;32m    148\u001b[0m     \u001b[0mfiltered_tb\u001b[0m \u001b[1;33m=\u001b[0m \u001b[1;32mNone\u001b[0m\u001b[1;33m\u001b[0m\u001b[1;33m\u001b[0m\u001b[0m\n\u001b[0;32m    149\u001b[0m     \u001b[1;32mtry\u001b[0m\u001b[1;33m:\u001b[0m\u001b[1;33m\u001b[0m\u001b[1;33m\u001b[0m\u001b[0m\n\u001b[1;32m--> 150\u001b[1;33m       \u001b[1;32mreturn\u001b[0m \u001b[0mfn\u001b[0m\u001b[1;33m(\u001b[0m\u001b[1;33m*\u001b[0m\u001b[0margs\u001b[0m\u001b[1;33m,\u001b[0m \u001b[1;33m**\u001b[0m\u001b[0mkwargs\u001b[0m\u001b[1;33m)\u001b[0m\u001b[1;33m\u001b[0m\u001b[1;33m\u001b[0m\u001b[0m\n\u001b[0m\u001b[0;32m    151\u001b[0m     \u001b[1;32mexcept\u001b[0m \u001b[0mException\u001b[0m \u001b[1;32mas\u001b[0m \u001b[0me\u001b[0m\u001b[1;33m:\u001b[0m\u001b[1;33m\u001b[0m\u001b[1;33m\u001b[0m\u001b[0m\n\u001b[0;32m    152\u001b[0m       \u001b[0mfiltered_tb\u001b[0m \u001b[1;33m=\u001b[0m \u001b[0m_process_traceback_frames\u001b[0m\u001b[1;33m(\u001b[0m\u001b[0me\u001b[0m\u001b[1;33m.\u001b[0m\u001b[0m__traceback__\u001b[0m\u001b[1;33m)\u001b[0m\u001b[1;33m\u001b[0m\u001b[1;33m\u001b[0m\u001b[0m\n",
      "\u001b[1;32mD:\\anaconda3\\envs\\dualattn\\lib\\site-packages\\tensorflow\\python\\framework\\ops.py\u001b[0m in \u001b[0;36m_create_c_op\u001b[1;34m(graph, node_def, inputs, control_inputs, op_def)\u001b[0m\n\u001b[0;32m   1933\u001b[0m   op_desc = pywrap_tf_session.TF_NewOperation(graph._c_graph,\n\u001b[0;32m   1934\u001b[0m                                               \u001b[0mcompat\u001b[0m\u001b[1;33m.\u001b[0m\u001b[0mas_str\u001b[0m\u001b[1;33m(\u001b[0m\u001b[0mnode_def\u001b[0m\u001b[1;33m.\u001b[0m\u001b[0mop\u001b[0m\u001b[1;33m)\u001b[0m\u001b[1;33m,\u001b[0m\u001b[1;33m\u001b[0m\u001b[1;33m\u001b[0m\u001b[0m\n\u001b[1;32m-> 1935\u001b[1;33m                                               compat.as_str(node_def.name))\n\u001b[0m\u001b[0;32m   1936\u001b[0m   \u001b[1;32mif\u001b[0m \u001b[0mnode_def\u001b[0m\u001b[1;33m.\u001b[0m\u001b[0mdevice\u001b[0m\u001b[1;33m:\u001b[0m\u001b[1;33m\u001b[0m\u001b[1;33m\u001b[0m\u001b[0m\n\u001b[0;32m   1937\u001b[0m     \u001b[0mpywrap_tf_session\u001b[0m\u001b[1;33m.\u001b[0m\u001b[0mTF_SetDevice\u001b[0m\u001b[1;33m(\u001b[0m\u001b[0mop_desc\u001b[0m\u001b[1;33m,\u001b[0m \u001b[0mcompat\u001b[0m\u001b[1;33m.\u001b[0m\u001b[0mas_str\u001b[0m\u001b[1;33m(\u001b[0m\u001b[0mnode_def\u001b[0m\u001b[1;33m.\u001b[0m\u001b[0mdevice\u001b[0m\u001b[1;33m)\u001b[0m\u001b[1;33m)\u001b[0m\u001b[1;33m\u001b[0m\u001b[1;33m\u001b[0m\u001b[0m\n",
      "\u001b[1;31mKeyboardInterrupt\u001b[0m: "
     ]
    }
   ],
   "source": [
    "unit_size = 350\n",
    "test_num = int(len(data_test)/unit_size)-1 # exclude last unit_size\n",
    "\n",
    "test_list = []\n",
    "for k in range(test_num):\n",
    "    print(k+1,\"th test\")\n",
    "    # set_point and actual value\n",
    "    start_point = unit_size*(k+1)\n",
    "    \n",
    "    setpoint = df_test[set_points].iloc[start_point : start_point+unit_size].values\n",
    "    actual = df_test[process_vars].iloc[start_point : start_point+unit_size].values\n",
    "    \n",
    "    prediction_list = []\n",
    "    test_input = df_test_sc[all_vars].iloc[start_point-history_size:start_point].values[np.newaxis]\n",
    "    for i in range(unit_size):\n",
    "        prediction_idx = start_point + i # target values at t+1\n",
    "\n",
    "        # prediction\n",
    "        prediction_sc = rnn_model.predict(test_input, verbose=0)\n",
    "        prediction_list.append(prediction_sc[0])\n",
    "\n",
    "        # update input\n",
    "        new_setpoint = df_test_sc[set_points].iloc[[prediction_idx]].values # set point at t+1\n",
    "        new_input = np.concatenate([new_setpoint, prediction_sc], axis=1)[np.newaxis]\n",
    "        test_input = np.delete(test_input, 0, axis=1)\n",
    "        test_input = np.concatenate([test_input, new_input], axis=1)\n",
    "    \n",
    "    # prediction\n",
    "    prediction_sc = np.array(prediction_list)\n",
    "    prediction = prediction_sc*std[process_vars].values + mean[process_vars].values\n",
    "    \n",
    "    test_list.append([setpoint, actual, prediction])"
   ]
  },
  {
   "cell_type": "markdown",
   "id": "8198dbcc",
   "metadata": {},
   "source": [
    "plot test result"
   ]
  },
  {
   "cell_type": "code",
   "execution_count": 43,
   "id": "d973a831",
   "metadata": {
    "ExecuteTime": {
     "end_time": "2022-09-18T11:08:01.439109Z",
     "start_time": "2022-09-18T11:08:01.121972Z"
    }
   },
   "outputs": [
    {
     "data": {
      "image/png": "[encoded data removed]",
      "text/plain": [
       "<Figure size 864x432 with 3 Axes>"
      ]
     },
     "metadata": {
      "needs_background": "light"
     },
     "output_type": "display_data"
    }
   ],
   "source": [
    "plot_var = ['PC1', 'PC2', 'TC2']\n",
    "set_num = [0, 1, 4]\n",
    "\n",
    "test_num = 6\n",
    "setpoint = test_list[test_num][0]\n",
    "actual = test_list[test_num][1]\n",
    "prediction = test_list[test_num][2]\n",
    "\n",
    "rows = len(plot_var)\n",
    "columns = 1\n",
    "size = 2\n",
    "\n",
    "plt.figure(figsize=(12*columns, size*rows))\n",
    "i=0\n",
    "for j, var in enumerate(process_vars):\n",
    "    if var in plot_var:\n",
    "        plt.subplot(rows,1,i+1)\n",
    "        plt.plot(setpoint[:,set_num[i]], label='set point', color='r')\n",
    "        plt.plot(actual[:,j], label='actual', color='k')\n",
    "        plt.plot(prediction[:,j], label='prediction', color='b')\n",
    "        plt.title(var)\n",
    "        plt.legend()\n",
    "        i+=1\n",
    "plt.tight_layout()"
   ]
  },
  {
   "cell_type": "code",
   "execution_count": null,
   "id": "2dd56b36",
   "metadata": {},
   "outputs": [],
   "source": []
  }
 ],
 "metadata": {
  "kernelspec": {
   "display_name": "Dual Attention",
   "language": "python",
   "name": "dualattn"
  },
  "language_info": {
   "codemirror_mode": {
    "name": "ipython",
    "version": 3
   },
   "file_extension": ".py",
   "mimetype": "text/x-python",
   "name": "python",
   "nbconvert_exporter": "python",
   "pygments_lexer": "ipython3",
   "version": "3.7.13"
  },
  "toc": {
   "base_numbering": 1,
   "nav_menu": {},
   "number_sections": true,
   "sideBar": true,
   "skip_h1_title": false,
   "title_cell": "Table of Contents",
   "title_sidebar": "Contents",
   "toc_cell": false,
   "toc_position": {},
   "toc_section_display": true,
   "toc_window_display": true
  }
 },
 "nbformat": 4,
 "nbformat_minor": 5
}
